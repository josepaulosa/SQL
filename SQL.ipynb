{
 "cells": [
  {
   "cell_type": "markdown",
   "metadata": {},
   "source": [
    "### How to write some important SQL `statements` and `queries`. Retrieving data from a single table and from two tables and performing some actions in a given table.\n",
    "- - - "
   ]
  },
  {
   "cell_type": "markdown",
   "metadata": {},
   "source": [
    "###  After installing `ipython-sql` and `mysqlclient` libraries, let's load the external   `SQL module`"
   ]
  },
  {
   "cell_type": "code",
   "execution_count": 1,
   "metadata": {},
   "outputs": [],
   "source": [
    "%load_ext sql"
   ]
  },
  {
   "cell_type": "markdown",
   "metadata": {},
   "source": [
    "### Connecting to our `database`"
   ]
  },
  {
   "cell_type": "code",
   "execution_count": 2,
   "metadata": {},
   "outputs": [],
   "source": [
    "%sql mysql+mysqldb://root@localhost:3306/accidents"
   ]
  },
  {
   "cell_type": "markdown",
   "metadata": {},
   "source": [
    "> **Note**: We will use **`ALIASES`** several times to improve **readability**.\n",
    "- - - "
   ]
  },
  {
   "cell_type": "markdown",
   "metadata": {},
   "source": [
    "### &rarr; Accident table\n",
    "\n"
   ]
  },
  {
   "cell_type": "markdown",
   "metadata": {},
   "source": [
    "### Create a primary key, especially for speeding up operations"
   ]
  },
  {
   "cell_type": "code",
   "execution_count": 3,
   "metadata": {},
   "outputs": [
    {
     "name": "stdout",
     "output_type": "stream",
     "text": [
      " * mysql+mysqldb://root@localhost:3306/accidents\n",
      "0 rows affected.\n"
     ]
    },
    {
     "data": {
      "text/plain": [
       "[]"
      ]
     },
     "execution_count": 3,
     "metadata": {},
     "output_type": "execute_result"
    }
   ],
   "source": [
    "%sql ALTER TABLE `accident` ADD PRIMARY KEY(`accident_index`);"
   ]
  },
  {
   "cell_type": "markdown",
   "metadata": {},
   "source": [
    "\n",
    "### Displaying the first 10 rows "
   ]
  },
  {
   "cell_type": "code",
   "execution_count": 4,
   "metadata": {},
   "outputs": [
    {
     "name": "stdout",
     "output_type": "stream",
     "text": [
      " * mysql+mysqldb://root@localhost:3306/accidents\n",
      "10 rows affected.\n"
     ]
    },
    {
     "data": {
      "text/html": [
       "<table>\n",
       "    <tr>\n",
       "        <th>accident_index</th>\n",
       "        <th>accident_year</th>\n",
       "        <th>accident_reference</th>\n",
       "        <th>location_easting_osgr</th>\n",
       "        <th>location_northing_osgr</th>\n",
       "        <th>longitude</th>\n",
       "        <th>latitude</th>\n",
       "        <th>police_force</th>\n",
       "        <th>accident_severity</th>\n",
       "        <th>number_of_vehicles</th>\n",
       "        <th>number_of_casualties</th>\n",
       "        <th>date</th>\n",
       "        <th>day_of_week</th>\n",
       "        <th>time</th>\n",
       "        <th>local_authority_district</th>\n",
       "        <th>local_authority_ons_district</th>\n",
       "        <th>local_authority_highway</th>\n",
       "        <th>first_road_class</th>\n",
       "        <th>first_road_number</th>\n",
       "        <th>road_type</th>\n",
       "        <th>speed_limit</th>\n",
       "        <th>junction_detail</th>\n",
       "        <th>junction_control</th>\n",
       "        <th>second_road_class</th>\n",
       "        <th>second_road_number</th>\n",
       "        <th>pedestrian_crossing_human_control</th>\n",
       "        <th>pedestrian_crossing_physical_facilities</th>\n",
       "        <th>light_conditions</th>\n",
       "        <th>weather_conditions</th>\n",
       "        <th>road_surface_conditions</th>\n",
       "        <th>special_conditions_at_site</th>\n",
       "        <th>carriageway_hazards</th>\n",
       "        <th>urban_or_rural_area</th>\n",
       "        <th>did_police_officer_attend_scene_of_accident</th>\n",
       "        <th>trunk_road_flag</th>\n",
       "        <th>lsoa_of_accident_location</th>\n",
       "    </tr>\n",
       "    <tr>\n",
       "        <td>2020010219808</td>\n",
       "        <td>2020</td>\n",
       "        <td>010219808</td>\n",
       "        <td>521389</td>\n",
       "        <td>175144</td>\n",
       "        <td>-0.25400</td>\n",
       "        <td>51.46226</td>\n",
       "        <td>1</td>\n",
       "        <td>3</td>\n",
       "        <td>1</td>\n",
       "        <td>1</td>\n",
       "        <td>04/02/2020</td>\n",
       "        <td>3</td>\n",
       "        <td>09:00</td>\n",
       "        <td>10</td>\n",
       "        <td>E09000032</td>\n",
       "        <td>E09000032</td>\n",
       "        <td>6</td>\n",
       "        <td>0</td>\n",
       "        <td>6</td>\n",
       "        <td>20</td>\n",
       "        <td>0</td>\n",
       "        <td>-1</td>\n",
       "        <td>0</td>\n",
       "        <td>-1</td>\n",
       "        <td>9</td>\n",
       "        <td>9</td>\n",
       "        <td>1</td>\n",
       "        <td>9</td>\n",
       "        <td>9</td>\n",
       "        <td>0</td>\n",
       "        <td>0</td>\n",
       "        <td>1</td>\n",
       "        <td>3</td>\n",
       "        <td>2</td>\n",
       "        <td>E01004576</td>\n",
       "    </tr>\n",
       "    <tr>\n",
       "        <td>2020010220496</td>\n",
       "        <td>2020</td>\n",
       "        <td>010220496</td>\n",
       "        <td>529337</td>\n",
       "        <td>176237</td>\n",
       "        <td>-0.13925</td>\n",
       "        <td>51.47032</td>\n",
       "        <td>1</td>\n",
       "        <td>3</td>\n",
       "        <td>1</td>\n",
       "        <td>2</td>\n",
       "        <td>27/04/2020</td>\n",
       "        <td>2</td>\n",
       "        <td>13:55</td>\n",
       "        <td>9</td>\n",
       "        <td>E09000022</td>\n",
       "        <td>E09000022</td>\n",
       "        <td>3</td>\n",
       "        <td>3036</td>\n",
       "        <td>6</td>\n",
       "        <td>20</td>\n",
       "        <td>9</td>\n",
       "        <td>2</td>\n",
       "        <td>6</td>\n",
       "        <td>0</td>\n",
       "        <td>0</td>\n",
       "        <td>4</td>\n",
       "        <td>1</td>\n",
       "        <td>1</td>\n",
       "        <td>1</td>\n",
       "        <td>0</td>\n",
       "        <td>0</td>\n",
       "        <td>1</td>\n",
       "        <td>1</td>\n",
       "        <td>2</td>\n",
       "        <td>E01003034</td>\n",
       "    </tr>\n",
       "    <tr>\n",
       "        <td>2020010228005</td>\n",
       "        <td>2020</td>\n",
       "        <td>010228005</td>\n",
       "        <td>526432</td>\n",
       "        <td>182761</td>\n",
       "        <td>-0.17871</td>\n",
       "        <td>51.52961</td>\n",
       "        <td>1</td>\n",
       "        <td>3</td>\n",
       "        <td>1</td>\n",
       "        <td>1</td>\n",
       "        <td>01/01/2020</td>\n",
       "        <td>4</td>\n",
       "        <td>01:25</td>\n",
       "        <td>1</td>\n",
       "        <td>E09000033</td>\n",
       "        <td>E09000033</td>\n",
       "        <td>5</td>\n",
       "        <td>0</td>\n",
       "        <td>6</td>\n",
       "        <td>30</td>\n",
       "        <td>3</td>\n",
       "        <td>1</td>\n",
       "        <td>6</td>\n",
       "        <td>0</td>\n",
       "        <td>0</td>\n",
       "        <td>0</td>\n",
       "        <td>4</td>\n",
       "        <td>1</td>\n",
       "        <td>2</td>\n",
       "        <td>0</td>\n",
       "        <td>0</td>\n",
       "        <td>1</td>\n",
       "        <td>1</td>\n",
       "        <td>2</td>\n",
       "        <td>E01004726</td>\n",
       "    </tr>\n",
       "    <tr>\n",
       "        <td>2020010228006</td>\n",
       "        <td>2020</td>\n",
       "        <td>010228006</td>\n",
       "        <td>538676</td>\n",
       "        <td>184371</td>\n",
       "        <td>-0.00168</td>\n",
       "        <td>51.54121</td>\n",
       "        <td>1</td>\n",
       "        <td>2</td>\n",
       "        <td>1</td>\n",
       "        <td>1</td>\n",
       "        <td>01/01/2020</td>\n",
       "        <td>4</td>\n",
       "        <td>01:50</td>\n",
       "        <td>17</td>\n",
       "        <td>E09000025</td>\n",
       "        <td>E09000025</td>\n",
       "        <td>3</td>\n",
       "        <td>11</td>\n",
       "        <td>6</td>\n",
       "        <td>30</td>\n",
       "        <td>0</td>\n",
       "        <td>-1</td>\n",
       "        <td>0</td>\n",
       "        <td>-1</td>\n",
       "        <td>0</td>\n",
       "        <td>4</td>\n",
       "        <td>4</td>\n",
       "        <td>1</td>\n",
       "        <td>1</td>\n",
       "        <td>0</td>\n",
       "        <td>0</td>\n",
       "        <td>1</td>\n",
       "        <td>1</td>\n",
       "        <td>2</td>\n",
       "        <td>E01003617</td>\n",
       "    </tr>\n",
       "    <tr>\n",
       "        <td>2020010228011</td>\n",
       "        <td>2020</td>\n",
       "        <td>010228011</td>\n",
       "        <td>529324</td>\n",
       "        <td>181286</td>\n",
       "        <td>-0.13759</td>\n",
       "        <td>51.51570</td>\n",
       "        <td>1</td>\n",
       "        <td>3</td>\n",
       "        <td>1</td>\n",
       "        <td>2</td>\n",
       "        <td>01/01/2020</td>\n",
       "        <td>4</td>\n",
       "        <td>02:25</td>\n",
       "        <td>1</td>\n",
       "        <td>E09000033</td>\n",
       "        <td>E09000033</td>\n",
       "        <td>3</td>\n",
       "        <td>40</td>\n",
       "        <td>6</td>\n",
       "        <td>30</td>\n",
       "        <td>3</td>\n",
       "        <td>4</td>\n",
       "        <td>5</td>\n",
       "        <td>0</td>\n",
       "        <td>0</td>\n",
       "        <td>0</td>\n",
       "        <td>4</td>\n",
       "        <td>1</td>\n",
       "        <td>1</td>\n",
       "        <td>0</td>\n",
       "        <td>0</td>\n",
       "        <td>1</td>\n",
       "        <td>1</td>\n",
       "        <td>2</td>\n",
       "        <td>E01004763</td>\n",
       "    </tr>\n",
       "    <tr>\n",
       "        <td>2020010228012</td>\n",
       "        <td>2020</td>\n",
       "        <td>010228012</td>\n",
       "        <td>537193</td>\n",
       "        <td>177105</td>\n",
       "        <td>-0.02588</td>\n",
       "        <td>51.47627</td>\n",
       "        <td>1</td>\n",
       "        <td>3</td>\n",
       "        <td>1</td>\n",
       "        <td>1</td>\n",
       "        <td>01/01/2020</td>\n",
       "        <td>4</td>\n",
       "        <td>01:30</td>\n",
       "        <td>7</td>\n",
       "        <td>E09000023</td>\n",
       "        <td>E09000023</td>\n",
       "        <td>3</td>\n",
       "        <td>2209</td>\n",
       "        <td>2</td>\n",
       "        <td>20</td>\n",
       "        <td>3</td>\n",
       "        <td>4</td>\n",
       "        <td>6</td>\n",
       "        <td>0</td>\n",
       "        <td>0</td>\n",
       "        <td>0</td>\n",
       "        <td>4</td>\n",
       "        <td>1</td>\n",
       "        <td>1</td>\n",
       "        <td>0</td>\n",
       "        <td>0</td>\n",
       "        <td>1</td>\n",
       "        <td>1</td>\n",
       "        <td>2</td>\n",
       "        <td>E01003304</td>\n",
       "    </tr>\n",
       "    <tr>\n",
       "        <td>2020010228014</td>\n",
       "        <td>2020</td>\n",
       "        <td>010228014</td>\n",
       "        <td>539764</td>\n",
       "        <td>179234</td>\n",
       "        <td>0.011959</td>\n",
       "        <td>51.49478</td>\n",
       "        <td>1</td>\n",
       "        <td>3</td>\n",
       "        <td>2</td>\n",
       "        <td>1</td>\n",
       "        <td>01/01/2020</td>\n",
       "        <td>4</td>\n",
       "        <td>03:43</td>\n",
       "        <td>6</td>\n",
       "        <td>E09000011</td>\n",
       "        <td>E09000011</td>\n",
       "        <td>6</td>\n",
       "        <td>0</td>\n",
       "        <td>6</td>\n",
       "        <td>30</td>\n",
       "        <td>3</td>\n",
       "        <td>4</td>\n",
       "        <td>6</td>\n",
       "        <td>0</td>\n",
       "        <td>0</td>\n",
       "        <td>0</td>\n",
       "        <td>4</td>\n",
       "        <td>1</td>\n",
       "        <td>2</td>\n",
       "        <td>0</td>\n",
       "        <td>0</td>\n",
       "        <td>1</td>\n",
       "        <td>1</td>\n",
       "        <td>2</td>\n",
       "        <td>E01001667</td>\n",
       "    </tr>\n",
       "    <tr>\n",
       "        <td>2020010228017</td>\n",
       "        <td>2020</td>\n",
       "        <td>010228017</td>\n",
       "        <td>536115</td>\n",
       "        <td>182297</td>\n",
       "        <td>-0.03939</td>\n",
       "        <td>51.52319</td>\n",
       "        <td>1</td>\n",
       "        <td>2</td>\n",
       "        <td>2</td>\n",
       "        <td>1</td>\n",
       "        <td>01/01/2020</td>\n",
       "        <td>4</td>\n",
       "        <td>03:00</td>\n",
       "        <td>5</td>\n",
       "        <td>E09000030</td>\n",
       "        <td>E09000030</td>\n",
       "        <td>3</td>\n",
       "        <td>11</td>\n",
       "        <td>3</td>\n",
       "        <td>30</td>\n",
       "        <td>9</td>\n",
       "        <td>4</td>\n",
       "        <td>6</td>\n",
       "        <td>0</td>\n",
       "        <td>0</td>\n",
       "        <td>0</td>\n",
       "        <td>4</td>\n",
       "        <td>8</td>\n",
       "        <td>2</td>\n",
       "        <td>0</td>\n",
       "        <td>0</td>\n",
       "        <td>1</td>\n",
       "        <td>1</td>\n",
       "        <td>2</td>\n",
       "        <td>E01004261</td>\n",
       "    </tr>\n",
       "    <tr>\n",
       "        <td>2020010228018</td>\n",
       "        <td>2020</td>\n",
       "        <td>010228018</td>\n",
       "        <td>530876</td>\n",
       "        <td>191335</td>\n",
       "        <td>-0.1115</td>\n",
       "        <td>51.60565</td>\n",
       "        <td>1</td>\n",
       "        <td>3</td>\n",
       "        <td>2</td>\n",
       "        <td>1</td>\n",
       "        <td>01/01/2020</td>\n",
       "        <td>4</td>\n",
       "        <td>04:00</td>\n",
       "        <td>31</td>\n",
       "        <td>E09000014</td>\n",
       "        <td>E09000014</td>\n",
       "        <td>3</td>\n",
       "        <td>105</td>\n",
       "        <td>6</td>\n",
       "        <td>20</td>\n",
       "        <td>9</td>\n",
       "        <td>4</td>\n",
       "        <td>6</td>\n",
       "        <td>0</td>\n",
       "        <td>0</td>\n",
       "        <td>0</td>\n",
       "        <td>4</td>\n",
       "        <td>1</td>\n",
       "        <td>1</td>\n",
       "        <td>0</td>\n",
       "        <td>0</td>\n",
       "        <td>1</td>\n",
       "        <td>1</td>\n",
       "        <td>2</td>\n",
       "        <td>E01002102</td>\n",
       "    </tr>\n",
       "    <tr>\n",
       "        <td>2020010228020</td>\n",
       "        <td>2020</td>\n",
       "        <td>010228020</td>\n",
       "        <td>529718</td>\n",
       "        <td>192342</td>\n",
       "        <td>-0.12784</td>\n",
       "        <td>51.61497</td>\n",
       "        <td>1</td>\n",
       "        <td>3</td>\n",
       "        <td>2</td>\n",
       "        <td>1</td>\n",
       "        <td>01/01/2020</td>\n",
       "        <td>4</td>\n",
       "        <td>03:25</td>\n",
       "        <td>32</td>\n",
       "        <td>E09000010</td>\n",
       "        <td>E09000010</td>\n",
       "        <td>3</td>\n",
       "        <td>406</td>\n",
       "        <td>3</td>\n",
       "        <td>30</td>\n",
       "        <td>6</td>\n",
       "        <td>2</td>\n",
       "        <td>3</td>\n",
       "        <td>406</td>\n",
       "        <td>0</td>\n",
       "        <td>5</td>\n",
       "        <td>4</td>\n",
       "        <td>1</td>\n",
       "        <td>1</td>\n",
       "        <td>0</td>\n",
       "        <td>0</td>\n",
       "        <td>1</td>\n",
       "        <td>1</td>\n",
       "        <td>2</td>\n",
       "        <td>E01001530</td>\n",
       "    </tr>\n",
       "</table>"
      ],
      "text/plain": [
       "[('2020010219808', 2020, '010219808', '521389', '175144', '-0.25400', '51.46226', 1, 3, 1, 1, '04/02/2020', 3, '09:00', 10, 'E09000032', 'E09000032', 6, 0, 6, 20, 0, -1, 0, -1, 9, 9, 1, 9, 9, 0, 0, 1, 3, 2, 'E01004576'),\n",
       " ('2020010220496', 2020, '010220496', '529337', '176237', '-0.13925', '51.47032', 1, 3, 1, 2, '27/04/2020', 2, '13:55', 9, 'E09000022', 'E09000022', 3, 3036, 6, 20, 9, 2, 6, 0, 0, 4, 1, 1, 1, 0, 0, 1, 1, 2, 'E01003034'),\n",
       " ('2020010228005', 2020, '010228005', '526432', '182761', '-0.17871', '51.52961', 1, 3, 1, 1, '01/01/2020', 4, '01:25', 1, 'E09000033', 'E09000033', 5, 0, 6, 30, 3, 1, 6, 0, 0, 0, 4, 1, 2, 0, 0, 1, 1, 2, 'E01004726'),\n",
       " ('2020010228006', 2020, '010228006', '538676', '184371', '-0.00168', '51.54121', 1, 2, 1, 1, '01/01/2020', 4, '01:50', 17, 'E09000025', 'E09000025', 3, 11, 6, 30, 0, -1, 0, -1, 0, 4, 4, 1, 1, 0, 0, 1, 1, 2, 'E01003617'),\n",
       " ('2020010228011', 2020, '010228011', '529324', '181286', '-0.13759', '51.51570', 1, 3, 1, 2, '01/01/2020', 4, '02:25', 1, 'E09000033', 'E09000033', 3, 40, 6, 30, 3, 4, 5, 0, 0, 0, 4, 1, 1, 0, 0, 1, 1, 2, 'E01004763'),\n",
       " ('2020010228012', 2020, '010228012', '537193', '177105', '-0.02588', '51.47627', 1, 3, 1, 1, '01/01/2020', 4, '01:30', 7, 'E09000023', 'E09000023', 3, 2209, 2, 20, 3, 4, 6, 0, 0, 0, 4, 1, 1, 0, 0, 1, 1, 2, 'E01003304'),\n",
       " ('2020010228014', 2020, '010228014', '539764', '179234', '0.011959', '51.49478', 1, 3, 2, 1, '01/01/2020', 4, '03:43', 6, 'E09000011', 'E09000011', 6, 0, 6, 30, 3, 4, 6, 0, 0, 0, 4, 1, 2, 0, 0, 1, 1, 2, 'E01001667'),\n",
       " ('2020010228017', 2020, '010228017', '536115', '182297', '-0.03939', '51.52319', 1, 2, 2, 1, '01/01/2020', 4, '03:00', 5, 'E09000030', 'E09000030', 3, 11, 3, 30, 9, 4, 6, 0, 0, 0, 4, 8, 2, 0, 0, 1, 1, 2, 'E01004261'),\n",
       " ('2020010228018', 2020, '010228018', '530876', '191335', '-0.1115', '51.60565', 1, 3, 2, 1, '01/01/2020', 4, '04:00', 31, 'E09000014', 'E09000014', 3, 105, 6, 20, 9, 4, 6, 0, 0, 0, 4, 1, 1, 0, 0, 1, 1, 2, 'E01002102'),\n",
       " ('2020010228020', 2020, '010228020', '529718', '192342', '-0.12784', '51.61497', 1, 3, 2, 1, '01/01/2020', 4, '03:25', 32, 'E09000010', 'E09000010', 3, 406, 3, 30, 6, 2, 3, 406, 0, 5, 4, 1, 1, 0, 0, 1, 1, 2, 'E01001530')]"
      ]
     },
     "execution_count": 4,
     "metadata": {},
     "output_type": "execute_result"
    }
   ],
   "source": [
    "%sql SELECT * FROM accident limit 10;"
   ]
  },
  {
   "cell_type": "markdown",
   "metadata": {},
   "source": [
    "### How many records has the database?"
   ]
  },
  {
   "cell_type": "code",
   "execution_count": 5,
   "metadata": {},
   "outputs": [
    {
     "name": "stdout",
     "output_type": "stream",
     "text": [
      " * mysql+mysqldb://root@localhost:3306/accidents\n",
      "1 rows affected.\n"
     ]
    },
    {
     "data": {
      "text/html": [
       "<table>\n",
       "    <tr>\n",
       "        <th>Number of Rows</th>\n",
       "    </tr>\n",
       "    <tr>\n",
       "        <td>91199</td>\n",
       "    </tr>\n",
       "</table>"
      ],
      "text/plain": [
       "[(91199,)]"
      ]
     },
     "execution_count": 5,
     "metadata": {},
     "output_type": "execute_result"
    }
   ],
   "source": [
    "%sql SELECT COUNT(accident_index) AS 'Number of Rows' FROM accident"
   ]
  },
  {
   "cell_type": "markdown",
   "metadata": {},
   "source": [
    "### How many DISTINCT 'accident_index' has the accident table?"
   ]
  },
  {
   "cell_type": "code",
   "execution_count": 6,
   "metadata": {},
   "outputs": [
    {
     "name": "stdout",
     "output_type": "stream",
     "text": [
      " * mysql+mysqldb://root@localhost:3306/accidents\n",
      "1 rows affected.\n"
     ]
    },
    {
     "data": {
      "text/html": [
       "<table>\n",
       "    <tr>\n",
       "        <th>Distinct Accident Indexes</th>\n",
       "    </tr>\n",
       "    <tr>\n",
       "        <td>91199</td>\n",
       "    </tr>\n",
       "</table>"
      ],
      "text/plain": [
       "[(91199,)]"
      ]
     },
     "execution_count": 6,
     "metadata": {},
     "output_type": "execute_result"
    }
   ],
   "source": [
    "%sql SELECT COUNT(DISTINCT accident_index) AS 'Distinct Accident Indexes' FROM accident;"
   ]
  },
  {
   "cell_type": "markdown",
   "metadata": {},
   "source": [
    "### Select the columns/fields of our interest"
   ]
  },
  {
   "cell_type": "code",
   "execution_count": 7,
   "metadata": {},
   "outputs": [
    {
     "name": "stdout",
     "output_type": "stream",
     "text": [
      " * mysql+mysqldb://root@localhost:3306/accidents\n",
      "10 rows affected.\n"
     ]
    },
    {
     "data": {
      "text/html": [
       "<table>\n",
       "    <tr>\n",
       "        <th>accident_index</th>\n",
       "        <th>accident_severity</th>\n",
       "        <th>day_of_week</th>\n",
       "        <th>road_surface_conditions</th>\n",
       "        <th>urban_or_rural_area</th>\n",
       "    </tr>\n",
       "    <tr>\n",
       "        <td>2020010219808</td>\n",
       "        <td>3</td>\n",
       "        <td>3</td>\n",
       "        <td>9</td>\n",
       "        <td>1</td>\n",
       "    </tr>\n",
       "    <tr>\n",
       "        <td>2020010220496</td>\n",
       "        <td>3</td>\n",
       "        <td>2</td>\n",
       "        <td>1</td>\n",
       "        <td>1</td>\n",
       "    </tr>\n",
       "    <tr>\n",
       "        <td>2020010228005</td>\n",
       "        <td>3</td>\n",
       "        <td>4</td>\n",
       "        <td>2</td>\n",
       "        <td>1</td>\n",
       "    </tr>\n",
       "    <tr>\n",
       "        <td>2020010228006</td>\n",
       "        <td>2</td>\n",
       "        <td>4</td>\n",
       "        <td>1</td>\n",
       "        <td>1</td>\n",
       "    </tr>\n",
       "    <tr>\n",
       "        <td>2020010228011</td>\n",
       "        <td>3</td>\n",
       "        <td>4</td>\n",
       "        <td>1</td>\n",
       "        <td>1</td>\n",
       "    </tr>\n",
       "    <tr>\n",
       "        <td>2020010228012</td>\n",
       "        <td>3</td>\n",
       "        <td>4</td>\n",
       "        <td>1</td>\n",
       "        <td>1</td>\n",
       "    </tr>\n",
       "    <tr>\n",
       "        <td>2020010228014</td>\n",
       "        <td>3</td>\n",
       "        <td>4</td>\n",
       "        <td>2</td>\n",
       "        <td>1</td>\n",
       "    </tr>\n",
       "    <tr>\n",
       "        <td>2020010228017</td>\n",
       "        <td>2</td>\n",
       "        <td>4</td>\n",
       "        <td>2</td>\n",
       "        <td>1</td>\n",
       "    </tr>\n",
       "    <tr>\n",
       "        <td>2020010228018</td>\n",
       "        <td>3</td>\n",
       "        <td>4</td>\n",
       "        <td>1</td>\n",
       "        <td>1</td>\n",
       "    </tr>\n",
       "    <tr>\n",
       "        <td>2020010228020</td>\n",
       "        <td>3</td>\n",
       "        <td>4</td>\n",
       "        <td>1</td>\n",
       "        <td>1</td>\n",
       "    </tr>\n",
       "</table>"
      ],
      "text/plain": [
       "[('2020010219808', 3, 3, 9, 1),\n",
       " ('2020010220496', 3, 2, 1, 1),\n",
       " ('2020010228005', 3, 4, 2, 1),\n",
       " ('2020010228006', 2, 4, 1, 1),\n",
       " ('2020010228011', 3, 4, 1, 1),\n",
       " ('2020010228012', 3, 4, 1, 1),\n",
       " ('2020010228014', 3, 4, 2, 1),\n",
       " ('2020010228017', 2, 4, 2, 1),\n",
       " ('2020010228018', 3, 4, 1, 1),\n",
       " ('2020010228020', 3, 4, 1, 1)]"
      ]
     },
     "execution_count": 7,
     "metadata": {},
     "output_type": "execute_result"
    }
   ],
   "source": [
    "%sql SELECT accident_index, accident_severity, day_of_week, road_surface_conditions, urban_or_rural_area \\\n",
    "FROM accident limit 10;"
   ]
  },
  {
   "cell_type": "markdown",
   "metadata": {},
   "source": [
    "### &rarr; Vehicle table"
   ]
  },
  {
   "cell_type": "markdown",
   "metadata": {},
   "source": [
    "### Displaying the first 10 rows "
   ]
  },
  {
   "cell_type": "code",
   "execution_count": 8,
   "metadata": {},
   "outputs": [
    {
     "name": "stdout",
     "output_type": "stream",
     "text": [
      " * mysql+mysqldb://root@localhost:3306/accidents\n",
      "10 rows affected.\n"
     ]
    },
    {
     "data": {
      "text/html": [
       "<table>\n",
       "    <tr>\n",
       "        <th>accident_index</th>\n",
       "        <th>accident_year</th>\n",
       "        <th>accident_reference</th>\n",
       "        <th>vehicle_reference</th>\n",
       "        <th>vehicle_type</th>\n",
       "        <th>towing_and_articulation</th>\n",
       "        <th>vehicle_manoeuvre</th>\n",
       "        <th>vehicle_direction_from</th>\n",
       "        <th>vehicle_direction_to</th>\n",
       "        <th>vehicle_location_restricted_lane</th>\n",
       "        <th>junction_location</th>\n",
       "        <th>skidding_and_overturning</th>\n",
       "        <th>hit_object_in_carriageway</th>\n",
       "        <th>vehicle_leaving_carriageway</th>\n",
       "        <th>hit_object_off_carriageway</th>\n",
       "        <th>first_point_of_impact</th>\n",
       "        <th>vehicle_left_hand_drive</th>\n",
       "        <th>journey_purpose_of_driver</th>\n",
       "        <th>sex_of_driver</th>\n",
       "        <th>age_of_driver</th>\n",
       "        <th>age_band_of_driver</th>\n",
       "        <th>engine_capacity_cc</th>\n",
       "        <th>propulsion_code</th>\n",
       "        <th>age_of_vehicle</th>\n",
       "        <th>generic_make_model</th>\n",
       "        <th>driver_imd_decile</th>\n",
       "        <th>driver_home_area_type</th>\n",
       "    </tr>\n",
       "    <tr>\n",
       "        <td>2020010219808</td>\n",
       "        <td>2020</td>\n",
       "        <td>010219808</td>\n",
       "        <td>1</td>\n",
       "        <td>9</td>\n",
       "        <td>9</td>\n",
       "        <td>5</td>\n",
       "        <td>1</td>\n",
       "        <td>5</td>\n",
       "        <td>0</td>\n",
       "        <td>0</td>\n",
       "        <td>0</td>\n",
       "        <td>0</td>\n",
       "        <td>0</td>\n",
       "        <td>0</td>\n",
       "        <td>4</td>\n",
       "        <td>9</td>\n",
       "        <td>6</td>\n",
       "        <td>2</td>\n",
       "        <td>32</td>\n",
       "        <td>6</td>\n",
       "        <td>1968</td>\n",
       "        <td>2</td>\n",
       "        <td>6</td>\n",
       "        <td>AUDI Q5</td>\n",
       "        <td>4</td>\n",
       "        <td>1</td>\n",
       "    </tr>\n",
       "    <tr>\n",
       "        <td>2020010220496</td>\n",
       "        <td>2020</td>\n",
       "        <td>010220496</td>\n",
       "        <td>1</td>\n",
       "        <td>9</td>\n",
       "        <td>0</td>\n",
       "        <td>4</td>\n",
       "        <td>2</td>\n",
       "        <td>6</td>\n",
       "        <td>0</td>\n",
       "        <td>2</td>\n",
       "        <td>0</td>\n",
       "        <td>0</td>\n",
       "        <td>0</td>\n",
       "        <td>0</td>\n",
       "        <td>1</td>\n",
       "        <td>1</td>\n",
       "        <td>2</td>\n",
       "        <td>1</td>\n",
       "        <td>45</td>\n",
       "        <td>7</td>\n",
       "        <td>1395</td>\n",
       "        <td>1</td>\n",
       "        <td>2</td>\n",
       "        <td>AUDI A1</td>\n",
       "        <td>7</td>\n",
       "        <td>1</td>\n",
       "    </tr>\n",
       "    <tr>\n",
       "        <td>2020010228005</td>\n",
       "        <td>2020</td>\n",
       "        <td>010228005</td>\n",
       "        <td>1</td>\n",
       "        <td>9</td>\n",
       "        <td>0</td>\n",
       "        <td>18</td>\n",
       "        <td>-1</td>\n",
       "        <td>-1</td>\n",
       "        <td>0</td>\n",
       "        <td>0</td>\n",
       "        <td>0</td>\n",
       "        <td>0</td>\n",
       "        <td>0</td>\n",
       "        <td>0</td>\n",
       "        <td>1</td>\n",
       "        <td>1</td>\n",
       "        <td>6</td>\n",
       "        <td>3</td>\n",
       "        <td>-1</td>\n",
       "        <td>-1</td>\n",
       "        <td>-1</td>\n",
       "        <td>-1</td>\n",
       "        <td>-1</td>\n",
       "        <td>-1</td>\n",
       "        <td>-1</td>\n",
       "        <td>-1</td>\n",
       "    </tr>\n",
       "    <tr>\n",
       "        <td>2020010228006</td>\n",
       "        <td>2020</td>\n",
       "        <td>010228006</td>\n",
       "        <td>1</td>\n",
       "        <td>8</td>\n",
       "        <td>0</td>\n",
       "        <td>18</td>\n",
       "        <td>1</td>\n",
       "        <td>5</td>\n",
       "        <td>0</td>\n",
       "        <td>0</td>\n",
       "        <td>0</td>\n",
       "        <td>0</td>\n",
       "        <td>0</td>\n",
       "        <td>0</td>\n",
       "        <td>1</td>\n",
       "        <td>1</td>\n",
       "        <td>1</td>\n",
       "        <td>1</td>\n",
       "        <td>44</td>\n",
       "        <td>7</td>\n",
       "        <td>1798</td>\n",
       "        <td>8</td>\n",
       "        <td>8</td>\n",
       "        <td>TOYOTA PRIUS</td>\n",
       "        <td>2</td>\n",
       "        <td>1</td>\n",
       "    </tr>\n",
       "    <tr>\n",
       "        <td>2020010228011</td>\n",
       "        <td>2020</td>\n",
       "        <td>010228011</td>\n",
       "        <td>1</td>\n",
       "        <td>9</td>\n",
       "        <td>0</td>\n",
       "        <td>18</td>\n",
       "        <td>3</td>\n",
       "        <td>7</td>\n",
       "        <td>9</td>\n",
       "        <td>1</td>\n",
       "        <td>0</td>\n",
       "        <td>0</td>\n",
       "        <td>0</td>\n",
       "        <td>0</td>\n",
       "        <td>1</td>\n",
       "        <td>1</td>\n",
       "        <td>6</td>\n",
       "        <td>1</td>\n",
       "        <td>20</td>\n",
       "        <td>4</td>\n",
       "        <td>2993</td>\n",
       "        <td>2</td>\n",
       "        <td>4</td>\n",
       "        <td>BMW 4 SERIES</td>\n",
       "        <td>-1</td>\n",
       "        <td>-1</td>\n",
       "    </tr>\n",
       "    <tr>\n",
       "        <td>2020010228012</td>\n",
       "        <td>2020</td>\n",
       "        <td>010228012</td>\n",
       "        <td>1</td>\n",
       "        <td>9</td>\n",
       "        <td>0</td>\n",
       "        <td>18</td>\n",
       "        <td>1</td>\n",
       "        <td>5</td>\n",
       "        <td>0</td>\n",
       "        <td>1</td>\n",
       "        <td>0</td>\n",
       "        <td>10</td>\n",
       "        <td>0</td>\n",
       "        <td>0</td>\n",
       "        <td>1</td>\n",
       "        <td>1</td>\n",
       "        <td>6</td>\n",
       "        <td>1</td>\n",
       "        <td>25</td>\n",
       "        <td>5</td>\n",
       "        <td>1390</td>\n",
       "        <td>1</td>\n",
       "        <td>5</td>\n",
       "        <td>AUDI A1</td>\n",
       "        <td>4</td>\n",
       "        <td>1</td>\n",
       "    </tr>\n",
       "    <tr>\n",
       "        <td>2020010228014</td>\n",
       "        <td>2020</td>\n",
       "        <td>010228014</td>\n",
       "        <td>1</td>\n",
       "        <td>9</td>\n",
       "        <td>0</td>\n",
       "        <td>18</td>\n",
       "        <td>5</td>\n",
       "        <td>1</td>\n",
       "        <td>0</td>\n",
       "        <td>1</td>\n",
       "        <td>0</td>\n",
       "        <td>0</td>\n",
       "        <td>0</td>\n",
       "        <td>0</td>\n",
       "        <td>1</td>\n",
       "        <td>1</td>\n",
       "        <td>1</td>\n",
       "        <td>1</td>\n",
       "        <td>41</td>\n",
       "        <td>7</td>\n",
       "        <td>1969</td>\n",
       "        <td>2</td>\n",
       "        <td>4</td>\n",
       "        <td>VOLVO V60</td>\n",
       "        <td>3</td>\n",
       "        <td>1</td>\n",
       "    </tr>\n",
       "    <tr>\n",
       "        <td>2020010228014</td>\n",
       "        <td>2020</td>\n",
       "        <td>010228014</td>\n",
       "        <td>2</td>\n",
       "        <td>9</td>\n",
       "        <td>3</td>\n",
       "        <td>18</td>\n",
       "        <td>1</td>\n",
       "        <td>5</td>\n",
       "        <td>0</td>\n",
       "        <td>1</td>\n",
       "        <td>0</td>\n",
       "        <td>0</td>\n",
       "        <td>0</td>\n",
       "        <td>0</td>\n",
       "        <td>1</td>\n",
       "        <td>1</td>\n",
       "        <td>6</td>\n",
       "        <td>3</td>\n",
       "        <td>19</td>\n",
       "        <td>4</td>\n",
       "        <td>2143</td>\n",
       "        <td>2</td>\n",
       "        <td>4</td>\n",
       "        <td>MERCEDES C CLASS</td>\n",
       "        <td>-1</td>\n",
       "        <td>-1</td>\n",
       "    </tr>\n",
       "    <tr>\n",
       "        <td>2020010228017</td>\n",
       "        <td>2020</td>\n",
       "        <td>010228017</td>\n",
       "        <td>1</td>\n",
       "        <td>9</td>\n",
       "        <td>0</td>\n",
       "        <td>18</td>\n",
       "        <td>3</td>\n",
       "        <td>7</td>\n",
       "        <td>0</td>\n",
       "        <td>6</td>\n",
       "        <td>0</td>\n",
       "        <td>0</td>\n",
       "        <td>0</td>\n",
       "        <td>0</td>\n",
       "        <td>1</td>\n",
       "        <td>1</td>\n",
       "        <td>1</td>\n",
       "        <td>1</td>\n",
       "        <td>32</td>\n",
       "        <td>6</td>\n",
       "        <td>2993</td>\n",
       "        <td>2</td>\n",
       "        <td>8</td>\n",
       "        <td>JAGUAR XF SERIES</td>\n",
       "        <td>8</td>\n",
       "        <td>1</td>\n",
       "    </tr>\n",
       "    <tr>\n",
       "        <td>2020010228017</td>\n",
       "        <td>2020</td>\n",
       "        <td>010228017</td>\n",
       "        <td>2</td>\n",
       "        <td>9</td>\n",
       "        <td>0</td>\n",
       "        <td>3</td>\n",
       "        <td>3</td>\n",
       "        <td>7</td>\n",
       "        <td>0</td>\n",
       "        <td>6</td>\n",
       "        <td>0</td>\n",
       "        <td>0</td>\n",
       "        <td>0</td>\n",
       "        <td>0</td>\n",
       "        <td>0</td>\n",
       "        <td>1</td>\n",
       "        <td>6</td>\n",
       "        <td>1</td>\n",
       "        <td>26</td>\n",
       "        <td>6</td>\n",
       "        <td>2993</td>\n",
       "        <td>2</td>\n",
       "        <td>0</td>\n",
       "        <td>BMW X5</td>\n",
       "        <td>2</td>\n",
       "        <td>1</td>\n",
       "    </tr>\n",
       "</table>"
      ],
      "text/plain": [
       "[('2020010219808', 2020, '010219808', 1, 9, 9, 5, 1, 5, 0, 0, 0, 0, 0, 0, 4, 9, 6, 2, 32, 6, 1968, 2, 6, 'AUDI Q5', 4, 1),\n",
       " ('2020010220496', 2020, '010220496', 1, 9, 0, 4, 2, 6, 0, 2, 0, 0, 0, 0, 1, 1, 2, 1, 45, 7, 1395, 1, 2, 'AUDI A1', 7, 1),\n",
       " ('2020010228005', 2020, '010228005', 1, 9, 0, 18, -1, -1, 0, 0, 0, 0, 0, 0, 1, 1, 6, 3, -1, -1, -1, -1, -1, '-1', -1, -1),\n",
       " ('2020010228006', 2020, '010228006', 1, 8, 0, 18, 1, 5, 0, 0, 0, 0, 0, 0, 1, 1, 1, 1, 44, 7, 1798, 8, 8, 'TOYOTA PRIUS', 2, 1),\n",
       " ('2020010228011', 2020, '010228011', 1, 9, 0, 18, 3, 7, 9, 1, 0, 0, 0, 0, 1, 1, 6, 1, 20, 4, 2993, 2, 4, 'BMW 4 SERIES', -1, -1),\n",
       " ('2020010228012', 2020, '010228012', 1, 9, 0, 18, 1, 5, 0, 1, 0, 10, 0, 0, 1, 1, 6, 1, 25, 5, 1390, 1, 5, 'AUDI A1', 4, 1),\n",
       " ('2020010228014', 2020, '010228014', 1, 9, 0, 18, 5, 1, 0, 1, 0, 0, 0, 0, 1, 1, 1, 1, 41, 7, 1969, 2, 4, 'VOLVO V60', 3, 1),\n",
       " ('2020010228014', 2020, '010228014', 2, 9, 3, 18, 1, 5, 0, 1, 0, 0, 0, 0, 1, 1, 6, 3, 19, 4, 2143, 2, 4, 'MERCEDES C CLASS', -1, -1),\n",
       " ('2020010228017', 2020, '010228017', 1, 9, 0, 18, 3, 7, 0, 6, 0, 0, 0, 0, 1, 1, 1, 1, 32, 6, 2993, 2, 8, 'JAGUAR XF SERIES', 8, 1),\n",
       " ('2020010228017', 2020, '010228017', 2, 9, 0, 3, 3, 7, 0, 6, 0, 0, 0, 0, 0, 1, 6, 1, 26, 6, 2993, 2, 0, 'BMW X5', 2, 1)]"
      ]
     },
     "execution_count": 8,
     "metadata": {},
     "output_type": "execute_result"
    }
   ],
   "source": [
    "%sql SELECT * FROM vehicle limit 10;"
   ]
  },
  {
   "cell_type": "markdown",
   "metadata": {},
   "source": [
    "### How many records has the vehicle table?"
   ]
  },
  {
   "cell_type": "code",
   "execution_count": 9,
   "metadata": {},
   "outputs": [
    {
     "name": "stdout",
     "output_type": "stream",
     "text": [
      " * mysql+mysqldb://root@localhost:3306/accidents\n",
      "1 rows affected.\n"
     ]
    },
    {
     "data": {
      "text/html": [
       "<table>\n",
       "    <tr>\n",
       "        <th>Number of Rows</th>\n",
       "    </tr>\n",
       "    <tr>\n",
       "        <td>167375</td>\n",
       "    </tr>\n",
       "</table>"
      ],
      "text/plain": [
       "[(167375,)]"
      ]
     },
     "execution_count": 9,
     "metadata": {},
     "output_type": "execute_result"
    }
   ],
   "source": [
    "%sql SELECT COUNT(accident_index) AS 'Number of Rows' FROM vehicle"
   ]
  },
  {
   "cell_type": "markdown",
   "metadata": {},
   "source": [
    "### How many DISTINCT 'accident_index' has the vehicle table?"
   ]
  },
  {
   "cell_type": "code",
   "execution_count": 10,
   "metadata": {},
   "outputs": [
    {
     "name": "stdout",
     "output_type": "stream",
     "text": [
      " * mysql+mysqldb://root@localhost:3306/accidents\n",
      "1 rows affected.\n"
     ]
    },
    {
     "data": {
      "text/html": [
       "<table>\n",
       "    <tr>\n",
       "        <th>Distinct Accident Indexes</th>\n",
       "    </tr>\n",
       "    <tr>\n",
       "        <td>91199</td>\n",
       "    </tr>\n",
       "</table>"
      ],
      "text/plain": [
       "[(91199,)]"
      ]
     },
     "execution_count": 10,
     "metadata": {},
     "output_type": "execute_result"
    }
   ],
   "source": [
    "%sql SELECT COUNT(DISTINCT accident_index) AS 'Distinct Accident Indexes' FROM vehicle"
   ]
  },
  {
   "cell_type": "markdown",
   "metadata": {},
   "source": [
    "> - **Comment**: **contrary to the accident table, the number of rows of the vehicle table is different from the number of distinct accident indexes (is greater)**, this happens because **in the great majority of times there is more than one vehicle involved in each accident and as the vehicle table, regarding each accident, gives details such as 'vehicle reference', 'vehicle type', 'age of the driver, and so on, which can have more than one value for each accident (that happens when there is more than one vehicle involved in a given accident), there are more records in the vehicle table than the number of accidents**."
   ]
  },
  {
   "cell_type": "markdown",
   "metadata": {},
   "source": [
    "### Select the columns/fields of our interest"
   ]
  },
  {
   "cell_type": "code",
   "execution_count": 11,
   "metadata": {},
   "outputs": [
    {
     "name": "stdout",
     "output_type": "stream",
     "text": [
      " * mysql+mysqldb://root@localhost:3306/accidents\n",
      "10 rows affected.\n"
     ]
    },
    {
     "data": {
      "text/html": [
       "<table>\n",
       "    <tr>\n",
       "        <th>accident_index</th>\n",
       "        <th>vehicle_type</th>\n",
       "        <th>age_band_of_driver</th>\n",
       "    </tr>\n",
       "    <tr>\n",
       "        <td>2020010219808</td>\n",
       "        <td>9</td>\n",
       "        <td>6</td>\n",
       "    </tr>\n",
       "    <tr>\n",
       "        <td>2020010220496</td>\n",
       "        <td>9</td>\n",
       "        <td>7</td>\n",
       "    </tr>\n",
       "    <tr>\n",
       "        <td>2020010228005</td>\n",
       "        <td>9</td>\n",
       "        <td>-1</td>\n",
       "    </tr>\n",
       "    <tr>\n",
       "        <td>2020010228006</td>\n",
       "        <td>8</td>\n",
       "        <td>7</td>\n",
       "    </tr>\n",
       "    <tr>\n",
       "        <td>2020010228011</td>\n",
       "        <td>9</td>\n",
       "        <td>4</td>\n",
       "    </tr>\n",
       "    <tr>\n",
       "        <td>2020010228012</td>\n",
       "        <td>9</td>\n",
       "        <td>5</td>\n",
       "    </tr>\n",
       "    <tr>\n",
       "        <td>2020010228014</td>\n",
       "        <td>9</td>\n",
       "        <td>7</td>\n",
       "    </tr>\n",
       "    <tr>\n",
       "        <td>2020010228014</td>\n",
       "        <td>9</td>\n",
       "        <td>4</td>\n",
       "    </tr>\n",
       "    <tr>\n",
       "        <td>2020010228017</td>\n",
       "        <td>9</td>\n",
       "        <td>6</td>\n",
       "    </tr>\n",
       "    <tr>\n",
       "        <td>2020010228017</td>\n",
       "        <td>9</td>\n",
       "        <td>6</td>\n",
       "    </tr>\n",
       "</table>"
      ],
      "text/plain": [
       "[('2020010219808', 9, 6),\n",
       " ('2020010220496', 9, 7),\n",
       " ('2020010228005', 9, -1),\n",
       " ('2020010228006', 8, 7),\n",
       " ('2020010228011', 9, 4),\n",
       " ('2020010228012', 9, 5),\n",
       " ('2020010228014', 9, 7),\n",
       " ('2020010228014', 9, 4),\n",
       " ('2020010228017', 9, 6),\n",
       " ('2020010228017', 9, 6)]"
      ]
     },
     "execution_count": 11,
     "metadata": {},
     "output_type": "execute_result"
    }
   ],
   "source": [
    "%sql SELECT accident_index, vehicle_type, age_band_of_driver FROM vehicle limit 10;"
   ]
  },
  {
   "cell_type": "markdown",
   "metadata": {},
   "source": [
    "- - - "
   ]
  },
  {
   "cell_type": "markdown",
   "metadata": {},
   "source": [
    "## &rarr; Some very interesting and relevant questions:"
   ]
  },
  {
   "cell_type": "markdown",
   "metadata": {},
   "source": [
    "### 1 - How to delete records that only create noise like the ones regarding missing data and the ones that are out of range?\n",
    "\n",
    "- Regarding the **columns of interest** from **accident table**, as **records with value '-1' concerns missing data or 'out of range'**, let's **delete those records**. Also, as **records for 'urban_or_rural_area' with value 3 regards 'Unallocated' areas**, let's **remove those records**.\n",
    "<br><br>\n",
    "- Regarding the **columns of interest** from **vehicle table**, as **records with value '-1' ALSO concerns missing data or 'out of range'**, let's **delete those records AS WELL**."
   ]
  },
  {
   "cell_type": "code",
   "execution_count": 12,
   "metadata": {},
   "outputs": [
    {
     "name": "stdout",
     "output_type": "stream",
     "text": [
      " * mysql+mysqldb://root@localhost:3306/accidents\n",
      "329 rows affected.\n"
     ]
    },
    {
     "data": {
      "text/plain": [
       "[]"
      ]
     },
     "execution_count": 12,
     "metadata": {},
     "output_type": "execute_result"
    }
   ],
   "source": [
    "%sql DELETE FROM accident WHERE road_type=-1 OR road_surface_conditions=-1 OR urban_or_rural_area=3"
   ]
  },
  {
   "cell_type": "code",
   "execution_count": 13,
   "metadata": {},
   "outputs": [
    {
     "name": "stdout",
     "output_type": "stream",
     "text": [
      " * mysql+mysqldb://root@localhost:3306/accidents\n",
      "1 rows affected.\n"
     ]
    },
    {
     "data": {
      "text/html": [
       "<table>\n",
       "    <tr>\n",
       "        <th>Table accident - New Number of Rows</th>\n",
       "    </tr>\n",
       "    <tr>\n",
       "        <td>90870</td>\n",
       "    </tr>\n",
       "</table>"
      ],
      "text/plain": [
       "[(90870,)]"
      ]
     },
     "execution_count": 13,
     "metadata": {},
     "output_type": "execute_result"
    }
   ],
   "source": [
    "%sql SELECT COUNT(accident_index) AS 'Table accident - New Number of Rows' FROM accident"
   ]
  },
  {
   "cell_type": "code",
   "execution_count": 14,
   "metadata": {},
   "outputs": [
    {
     "name": "stdout",
     "output_type": "stream",
     "text": [
      " * mysql+mysqldb://root@localhost:3306/accidents\n",
      "23344 rows affected.\n"
     ]
    },
    {
     "data": {
      "text/plain": [
       "[]"
      ]
     },
     "execution_count": 14,
     "metadata": {},
     "output_type": "execute_result"
    }
   ],
   "source": [
    "%sql DELETE FROM vehicle WHERE vehicle_type=-1 OR age_band_of_driver=-1;"
   ]
  },
  {
   "cell_type": "code",
   "execution_count": 15,
   "metadata": {},
   "outputs": [
    {
     "name": "stdout",
     "output_type": "stream",
     "text": [
      " * mysql+mysqldb://root@localhost:3306/accidents\n",
      "1 rows affected.\n"
     ]
    },
    {
     "data": {
      "text/html": [
       "<table>\n",
       "    <tr>\n",
       "        <th>Table vehicle - New Number of Records</th>\n",
       "    </tr>\n",
       "    <tr>\n",
       "        <td>144031</td>\n",
       "    </tr>\n",
       "</table>"
      ],
      "text/plain": [
       "[(144031,)]"
      ]
     },
     "execution_count": 15,
     "metadata": {},
     "output_type": "execute_result"
    }
   ],
   "source": [
    "%sql SELECT COUNT(accident_index) AS 'Table vehicle - New Number of Records' FROM vehicle"
   ]
  },
  {
   "cell_type": "markdown",
   "metadata": {},
   "source": [
    "### 2 - How to update an existing record?  \n",
    "\n",
    "- The following **SQL statement updates a given record**  with a **new 'vehicle manoeuvre'** and a **new 'vehicle direction from' within vehicle table**:"
   ]
  },
  {
   "cell_type": "code",
   "execution_count": 16,
   "metadata": {},
   "outputs": [
    {
     "name": "stdout",
     "output_type": "stream",
     "text": [
      " * mysql+mysqldb://root@localhost:3306/accidents\n",
      "1 rows affected.\n"
     ]
    },
    {
     "data": {
      "text/plain": [
       "[]"
      ]
     },
     "execution_count": 16,
     "metadata": {},
     "output_type": "execute_result"
    }
   ],
   "source": [
    "%sql UPDATE vehicle \\\n",
    "SET vehicle_manoeuvre = 4, vehicle_direction_from = 3 \\\n",
    "WHERE accident_index = 2020010219808; # first row of the accident table"
   ]
  },
  {
   "cell_type": "markdown",
   "metadata": {},
   "source": [
    "### Let's check"
   ]
  },
  {
   "cell_type": "code",
   "execution_count": 17,
   "metadata": {},
   "outputs": [
    {
     "name": "stdout",
     "output_type": "stream",
     "text": [
      " * mysql+mysqldb://root@localhost:3306/accidents\n",
      "3 rows affected.\n"
     ]
    },
    {
     "data": {
      "text/html": [
       "<table>\n",
       "    <tr>\n",
       "        <th>accident_index</th>\n",
       "        <th>accident_year</th>\n",
       "        <th>accident_reference</th>\n",
       "        <th>vehicle_reference</th>\n",
       "        <th>vehicle_type</th>\n",
       "        <th>towing_and_articulation</th>\n",
       "        <th>vehicle_manoeuvre</th>\n",
       "        <th>vehicle_direction_from</th>\n",
       "        <th>vehicle_direction_to</th>\n",
       "        <th>vehicle_location_restricted_lane</th>\n",
       "        <th>junction_location</th>\n",
       "        <th>skidding_and_overturning</th>\n",
       "        <th>hit_object_in_carriageway</th>\n",
       "        <th>vehicle_leaving_carriageway</th>\n",
       "        <th>hit_object_off_carriageway</th>\n",
       "        <th>first_point_of_impact</th>\n",
       "        <th>vehicle_left_hand_drive</th>\n",
       "        <th>journey_purpose_of_driver</th>\n",
       "        <th>sex_of_driver</th>\n",
       "        <th>age_of_driver</th>\n",
       "        <th>age_band_of_driver</th>\n",
       "        <th>engine_capacity_cc</th>\n",
       "        <th>propulsion_code</th>\n",
       "        <th>age_of_vehicle</th>\n",
       "        <th>generic_make_model</th>\n",
       "        <th>driver_imd_decile</th>\n",
       "        <th>driver_home_area_type</th>\n",
       "    </tr>\n",
       "    <tr>\n",
       "        <td>2020010219808</td>\n",
       "        <td>2020</td>\n",
       "        <td>010219808</td>\n",
       "        <td>1</td>\n",
       "        <td>9</td>\n",
       "        <td>9</td>\n",
       "        <td>4</td>\n",
       "        <td>3</td>\n",
       "        <td>5</td>\n",
       "        <td>0</td>\n",
       "        <td>0</td>\n",
       "        <td>0</td>\n",
       "        <td>0</td>\n",
       "        <td>0</td>\n",
       "        <td>0</td>\n",
       "        <td>4</td>\n",
       "        <td>9</td>\n",
       "        <td>6</td>\n",
       "        <td>2</td>\n",
       "        <td>32</td>\n",
       "        <td>6</td>\n",
       "        <td>1968</td>\n",
       "        <td>2</td>\n",
       "        <td>6</td>\n",
       "        <td>AUDI Q5</td>\n",
       "        <td>4</td>\n",
       "        <td>1</td>\n",
       "    </tr>\n",
       "    <tr>\n",
       "        <td>2020010220496</td>\n",
       "        <td>2020</td>\n",
       "        <td>010220496</td>\n",
       "        <td>1</td>\n",
       "        <td>9</td>\n",
       "        <td>0</td>\n",
       "        <td>4</td>\n",
       "        <td>2</td>\n",
       "        <td>6</td>\n",
       "        <td>0</td>\n",
       "        <td>2</td>\n",
       "        <td>0</td>\n",
       "        <td>0</td>\n",
       "        <td>0</td>\n",
       "        <td>0</td>\n",
       "        <td>1</td>\n",
       "        <td>1</td>\n",
       "        <td>2</td>\n",
       "        <td>1</td>\n",
       "        <td>45</td>\n",
       "        <td>7</td>\n",
       "        <td>1395</td>\n",
       "        <td>1</td>\n",
       "        <td>2</td>\n",
       "        <td>AUDI A1</td>\n",
       "        <td>7</td>\n",
       "        <td>1</td>\n",
       "    </tr>\n",
       "    <tr>\n",
       "        <td>2020010228006</td>\n",
       "        <td>2020</td>\n",
       "        <td>010228006</td>\n",
       "        <td>1</td>\n",
       "        <td>8</td>\n",
       "        <td>0</td>\n",
       "        <td>18</td>\n",
       "        <td>1</td>\n",
       "        <td>5</td>\n",
       "        <td>0</td>\n",
       "        <td>0</td>\n",
       "        <td>0</td>\n",
       "        <td>0</td>\n",
       "        <td>0</td>\n",
       "        <td>0</td>\n",
       "        <td>1</td>\n",
       "        <td>1</td>\n",
       "        <td>1</td>\n",
       "        <td>1</td>\n",
       "        <td>44</td>\n",
       "        <td>7</td>\n",
       "        <td>1798</td>\n",
       "        <td>8</td>\n",
       "        <td>8</td>\n",
       "        <td>TOYOTA PRIUS</td>\n",
       "        <td>2</td>\n",
       "        <td>1</td>\n",
       "    </tr>\n",
       "</table>"
      ],
      "text/plain": [
       "[('2020010219808', 2020, '010219808', 1, 9, 9, 4, 3, 5, 0, 0, 0, 0, 0, 0, 4, 9, 6, 2, 32, 6, 1968, 2, 6, 'AUDI Q5', 4, 1),\n",
       " ('2020010220496', 2020, '010220496', 1, 9, 0, 4, 2, 6, 0, 2, 0, 0, 0, 0, 1, 1, 2, 1, 45, 7, 1395, 1, 2, 'AUDI A1', 7, 1),\n",
       " ('2020010228006', 2020, '010228006', 1, 8, 0, 18, 1, 5, 0, 0, 0, 0, 0, 0, 1, 1, 1, 1, 44, 7, 1798, 8, 8, 'TOYOTA PRIUS', 2, 1)]"
      ]
     },
     "execution_count": 17,
     "metadata": {},
     "output_type": "execute_result"
    }
   ],
   "source": [
    "%sql SELECT * FROM vehicle limit 3;"
   ]
  },
  {
   "cell_type": "markdown",
   "metadata": {},
   "source": [
    "### 3 - Is there any correlation between the day of the week and the number of accidents? "
   ]
  },
  {
   "cell_type": "code",
   "execution_count": 18,
   "metadata": {},
   "outputs": [
    {
     "name": "stdout",
     "output_type": "stream",
     "text": [
      " * mysql+mysqldb://root@localhost:3306/accidents\n",
      "7 rows affected.\n"
     ]
    },
    {
     "data": {
      "text/html": [
       "<table>\n",
       "    <tr>\n",
       "        <th>Day of the Week</th>\n",
       "        <th>Number of Accidents</th>\n",
       "    </tr>\n",
       "    <tr>\n",
       "        <td>1</td>\n",
       "        <td>10287</td>\n",
       "    </tr>\n",
       "    <tr>\n",
       "        <td>2</td>\n",
       "        <td>12723</td>\n",
       "    </tr>\n",
       "    <tr>\n",
       "        <td>3</td>\n",
       "        <td>13223</td>\n",
       "    </tr>\n",
       "    <tr>\n",
       "        <td>4</td>\n",
       "        <td>13499</td>\n",
       "    </tr>\n",
       "    <tr>\n",
       "        <td>5</td>\n",
       "        <td>14008</td>\n",
       "    </tr>\n",
       "    <tr>\n",
       "        <td>6</td>\n",
       "        <td>14837</td>\n",
       "    </tr>\n",
       "    <tr>\n",
       "        <td>7</td>\n",
       "        <td>12293</td>\n",
       "    </tr>\n",
       "</table>"
      ],
      "text/plain": [
       "[(1, 10287),\n",
       " (2, 12723),\n",
       " (3, 13223),\n",
       " (4, 13499),\n",
       " (5, 14008),\n",
       " (6, 14837),\n",
       " (7, 12293)]"
      ]
     },
     "execution_count": 18,
     "metadata": {},
     "output_type": "execute_result"
    }
   ],
   "source": [
    "%sql SELECT day_of_week AS 'Day of the Week', count(accident_index) AS 'Number of Accidents' \\\n",
    "FROM accident \\\n",
    "GROUP BY (day_of_week);"
   ]
  },
  {
   "cell_type": "markdown",
   "metadata": {},
   "source": [
    "\n",
    "###  3.1 - Let's plot to visualize data using `Matplotlib`\n",
    "> **Note**: We created another table - **day** - that displays the meaning of each value that the field 'day_of_week' can assume."
   ]
  },
  {
   "cell_type": "code",
   "execution_count": 19,
   "metadata": {},
   "outputs": [
    {
     "name": "stdout",
     "output_type": "stream",
     "text": [
      " * mysql+mysqldb://root@localhost:3306/accidents\n",
      "7 rows affected.\n"
     ]
    }
   ],
   "source": [
    "df =  %sql SELECT day_of_week, count(accident_index), label FROM accident a, day d \\\n",
    "WHERE a.day_of_week = d.code GROUP BY (day_of_week)\n",
    "\n",
    "df = df.DataFrame()"
   ]
  },
  {
   "cell_type": "code",
   "execution_count": 20,
   "metadata": {},
   "outputs": [
    {
     "data": {
      "image/png": "[encoded data removed]",
      "text/plain": [
       "<Figure size 1008x432 with 1 Axes>"
      ]
     },
     "metadata": {
      "needs_background": "light"
     },
     "output_type": "display_data"
    }
   ],
   "source": [
    "import matplotlib as mpl\n",
    "import matplotlib.pyplot as plt\n",
    "from matplotlib.pyplot import figure\n",
    "\n",
    "plt.rcParams[\"figure.figsize\"] = (14,6)\n",
    "\n",
    "plt.bar(df['label'], df['count(accident_index)'])\n",
    "plt.plot(df['label'], df['count(accident_index)'], color='red', marker='o', markersize=10)\n",
    "plt.xlabel(\"Day of the Week\", fontsize = 16 )\n",
    "plt.ylabel(\"Number of Accidents\", fontsize = 16)\n",
    "plt.title(\"Accidents by Day of the Week\", fontsize = 20)\n",
    "plt.rc('xtick',labelsize=12)\n",
    "plt.rc('ytick',labelsize=12)\n",
    "plt.show()\n",
    "                        "
   ]
  },
  {
   "cell_type": "markdown",
   "metadata": {},
   "source": [
    "### 3.2 - Comments: \n",
    "- The **number of accidents is higher on weekdays than on the weekend**, which **was expected** because, most likely, there was **more traffic on weekdays**.\n",
    "- The **number of accidents increases from Monday to Friday**.\n",
    "<br>"
   ]
  },
  {
   "cell_type": "markdown",
   "metadata": {},
   "source": [
    "### 4 - What was the proportion of accidents that took place in urban and rural areas?"
   ]
  },
  {
   "cell_type": "code",
   "execution_count": 21,
   "metadata": {},
   "outputs": [
    {
     "name": "stdout",
     "output_type": "stream",
     "text": [
      " * mysql+mysqldb://root@localhost:3306/accidents\n",
      "2 rows affected.\n"
     ]
    },
    {
     "data": {
      "text/html": [
       "<table>\n",
       "    <tr>\n",
       "        <th>Urban or Rural Area</th>\n",
       "        <th>Proportion</th>\n",
       "    </tr>\n",
       "    <tr>\n",
       "        <td>1</td>\n",
       "        <td>0.6769</td>\n",
       "    </tr>\n",
       "    <tr>\n",
       "        <td>2</td>\n",
       "        <td>0.3231</td>\n",
       "    </tr>\n",
       "</table>"
      ],
      "text/plain": [
       "[(1, Decimal('0.6769')), (2, Decimal('0.3231'))]"
      ]
     },
     "execution_count": 21,
     "metadata": {},
     "output_type": "execute_result"
    }
   ],
   "source": [
    "%sql SELECT urban_or_rural_area AS 'Urban or Rural Area', (Count(urban_or_rural_area) / (Select Count(*) FROM accident)) \\\n",
    "AS Proportion \\\n",
    "FROM accident \\\n",
    "GROUP BY urban_or_rural_area"
   ]
  },
  {
   "cell_type": "markdown",
   "metadata": {},
   "source": [
    "### 4.1 - Comment:\n",
    "- Approximately **2/3 of the accidents occurred in urban areas** and almost **1/3 in rural areas**. This **was to be expected due to urban areas have (much) more traffic than rural areas**. There might be **other reasons** for the number of accidents that happened in urban areas to be twice as much as the number of accidents that occurred in rural areas like, for instance, **different weather conditions and distinct road surface conditions**, among other reasons.\n",
    "<br>"
   ]
  },
  {
   "cell_type": "markdown",
   "metadata": {},
   "source": [
    "### 5 - How severe the accidents were?"
   ]
  },
  {
   "cell_type": "code",
   "execution_count": 22,
   "metadata": {},
   "outputs": [
    {
     "name": "stdout",
     "output_type": "stream",
     "text": [
      " * mysql+mysqldb://root@localhost:3306/accidents\n",
      "3 rows affected.\n"
     ]
    },
    {
     "data": {
      "text/html": [
       "<table>\n",
       "    <tr>\n",
       "        <th>Accident Severity</th>\n",
       "        <th>Number of Accidents</th>\n",
       "    </tr>\n",
       "    <tr>\n",
       "        <td>1</td>\n",
       "        <td>1387</td>\n",
       "    </tr>\n",
       "    <tr>\n",
       "        <td>2</td>\n",
       "        <td>18311</td>\n",
       "    </tr>\n",
       "    <tr>\n",
       "        <td>3</td>\n",
       "        <td>71172</td>\n",
       "    </tr>\n",
       "</table>"
      ],
      "text/plain": [
       "[(1, 1387), (2, 18311), (3, 71172)]"
      ]
     },
     "execution_count": 22,
     "metadata": {},
     "output_type": "execute_result"
    }
   ],
   "source": [
    "%sql SELECT accident_severity AS 'Accident Severity', count(accident_index) AS 'Number of Accidents' \\\n",
    "FROM accident GROUP BY (accident_severity);"
   ]
  },
  {
   "cell_type": "markdown",
   "metadata": {},
   "source": [
    "### 5.1-  Let's plot to visualize data using `Matplotlib`\n",
    "> **Note**: We created another table - **severity** - that displays the meaning of each value that the field 'accident_severity' can assume."
   ]
  },
  {
   "cell_type": "code",
   "execution_count": 23,
   "metadata": {},
   "outputs": [
    {
     "name": "stdout",
     "output_type": "stream",
     "text": [
      " * mysql+mysqldb://root@localhost:3306/accidents\n",
      "3 rows affected.\n"
     ]
    }
   ],
   "source": [
    "df = %sql select accident_severity, count(accident_index), label FROM accident a, severity s \\\n",
    "WHERE a.accident_severity = s.code GROUP BY (accident_severity) \n",
    "df = df.DataFrame()"
   ]
  },
  {
   "cell_type": "code",
   "execution_count": 24,
   "metadata": {},
   "outputs": [
    {
     "data": {
      "image/png": "[encoded data removed]",
      "text/plain": [
       "<Figure size 576x576 with 1 Axes>"
      ]
     },
     "metadata": {
      "needs_background": "light"
     },
     "output_type": "display_data"
    }
   ],
   "source": [
    "plt.rcParams[\"figure.figsize\"] = (8,8)\n",
    "\n",
    "plt.bar(df['label'], df['count(accident_index)'])\n",
    "plt.plot(df['label'], df['count(accident_index)'], color='red', marker='p', markersize=14)\n",
    "plt.xlabel(\"Accident Severity\", fontsize = 16)\n",
    "plt.ylabel(\"Number of Accidents\", fontsize = 16)\n",
    "plt.title(\"Number of Accidents by Level of Severity\", fontsize = 20)\n",
    "plt.rc('xtick',labelsize=14)\n",
    "plt.rc('ytick',labelsize=14)\n",
    "plt.show()\n",
    "\n"
   ]
  },
  {
   "cell_type": "markdown",
   "metadata": {},
   "source": [
    "### 5.2 - Comment: \n",
    "- Fortunately, the **severity of the great majority of accidents was slight**.\n",
    "<br>"
   ]
  },
  {
   "cell_type": "markdown",
   "metadata": {},
   "source": [
    "### 6 - Which was the total number of accidents by vehicle type? Sort in descending order of number of accidents."
   ]
  },
  {
   "cell_type": "code",
   "execution_count": 25,
   "metadata": {},
   "outputs": [
    {
     "name": "stdout",
     "output_type": "stream",
     "text": [
      " * mysql+mysqldb://root@localhost:3306/accidents\n",
      "20 rows affected.\n"
     ]
    },
    {
     "data": {
      "text/html": [
       "<table>\n",
       "    <tr>\n",
       "        <th>Vehicle Type</th>\n",
       "        <th>Number of Accidents by Vehicle Type</th>\n",
       "    </tr>\n",
       "    <tr>\n",
       "        <td>9</td>\n",
       "        <td>96168</td>\n",
       "    </tr>\n",
       "    <tr>\n",
       "        <td>1</td>\n",
       "        <td>16186</td>\n",
       "    </tr>\n",
       "    <tr>\n",
       "        <td>19</td>\n",
       "        <td>8352</td>\n",
       "    </tr>\n",
       "    <tr>\n",
       "        <td>3</td>\n",
       "        <td>7195</td>\n",
       "    </tr>\n",
       "    <tr>\n",
       "        <td>5</td>\n",
       "        <td>3696</td>\n",
       "    </tr>\n",
       "    <tr>\n",
       "        <td>21</td>\n",
       "        <td>2261</td>\n",
       "    </tr>\n",
       "    <tr>\n",
       "        <td>8</td>\n",
       "        <td>2114</td>\n",
       "    </tr>\n",
       "    <tr>\n",
       "        <td>11</td>\n",
       "        <td>1961</td>\n",
       "    </tr>\n",
       "    <tr>\n",
       "        <td>4</td>\n",
       "        <td>1612</td>\n",
       "    </tr>\n",
       "    <tr>\n",
       "        <td>2</td>\n",
       "        <td>1041</td>\n",
       "    </tr>\n",
       "    <tr>\n",
       "        <td>90</td>\n",
       "        <td>867</td>\n",
       "    </tr>\n",
       "    <tr>\n",
       "        <td>20</td>\n",
       "        <td>709</td>\n",
       "    </tr>\n",
       "    <tr>\n",
       "        <td>98</td>\n",
       "        <td>651</td>\n",
       "    </tr>\n",
       "    <tr>\n",
       "        <td>17</td>\n",
       "        <td>388</td>\n",
       "    </tr>\n",
       "    <tr>\n",
       "        <td>97</td>\n",
       "        <td>298</td>\n",
       "    </tr>\n",
       "    <tr>\n",
       "        <td>10</td>\n",
       "        <td>185</td>\n",
       "    </tr>\n",
       "    <tr>\n",
       "        <td>22</td>\n",
       "        <td>171</td>\n",
       "    </tr>\n",
       "    <tr>\n",
       "        <td>16</td>\n",
       "        <td>86</td>\n",
       "    </tr>\n",
       "    <tr>\n",
       "        <td>23</td>\n",
       "        <td>83</td>\n",
       "    </tr>\n",
       "    <tr>\n",
       "        <td>18</td>\n",
       "        <td>7</td>\n",
       "    </tr>\n",
       "</table>"
      ],
      "text/plain": [
       "[(9, 96168),\n",
       " (1, 16186),\n",
       " (19, 8352),\n",
       " (3, 7195),\n",
       " (5, 3696),\n",
       " (21, 2261),\n",
       " (8, 2114),\n",
       " (11, 1961),\n",
       " (4, 1612),\n",
       " (2, 1041),\n",
       " (90, 867),\n",
       " (20, 709),\n",
       " (98, 651),\n",
       " (17, 388),\n",
       " (97, 298),\n",
       " (10, 185),\n",
       " (22, 171),\n",
       " (16, 86),\n",
       " (23, 83),\n",
       " (18, 7)]"
      ]
     },
     "execution_count": 25,
     "metadata": {},
     "output_type": "execute_result"
    }
   ],
   "source": [
    "%sql SELECT vehicle_type AS 'Vehicle Type', COUNT(vehicle_type) AS 'Number of Accidents by Vehicle Type' \\\n",
    "FROM vehicle GROUP BY vehicle_type \\\n",
    "ORDER BY COUNT(accident_index) DESC"
   ]
  },
  {
   "cell_type": "markdown",
   "metadata": {},
   "source": [
    "### 6.1 - Comment:\n",
    "- **In the majority of the accidents there was at least one car involved**, which can't be considered as surprising...\n",
    "<br>"
   ]
  },
  {
   "cell_type": "markdown",
   "metadata": {},
   "source": [
    "### 7 -  What was the accident severity by vehicle type?"
   ]
  },
  {
   "cell_type": "code",
   "execution_count": 26,
   "metadata": {},
   "outputs": [
    {
     "name": "stdout",
     "output_type": "stream",
     "text": [
      " * mysql+mysqldb://root@localhost:3306/accidents\n",
      "58 rows affected.\n"
     ]
    },
    {
     "data": {
      "text/html": [
       "<table>\n",
       "    <tr>\n",
       "        <th>Vehicle Type</th>\n",
       "        <th>Accident Severity</th>\n",
       "        <th>Number of Accidents</th>\n",
       "    </tr>\n",
       "    <tr>\n",
       "        <td>1</td>\n",
       "        <td>1</td>\n",
       "        <td>147</td>\n",
       "    </tr>\n",
       "    <tr>\n",
       "        <td>1</td>\n",
       "        <td>2</td>\n",
       "        <td>3952</td>\n",
       "    </tr>\n",
       "    <tr>\n",
       "        <td>1</td>\n",
       "        <td>3</td>\n",
       "        <td>12011</td>\n",
       "    </tr>\n",
       "    <tr>\n",
       "        <td>2</td>\n",
       "        <td>1</td>\n",
       "        <td>3</td>\n",
       "    </tr>\n",
       "    <tr>\n",
       "        <td>2</td>\n",
       "        <td>2</td>\n",
       "        <td>247</td>\n",
       "    </tr>\n",
       "    <tr>\n",
       "        <td>2</td>\n",
       "        <td>3</td>\n",
       "        <td>788</td>\n",
       "    </tr>\n",
       "    <tr>\n",
       "        <td>3</td>\n",
       "        <td>1</td>\n",
       "        <td>59</td>\n",
       "    </tr>\n",
       "    <tr>\n",
       "        <td>3</td>\n",
       "        <td>2</td>\n",
       "        <td>1700</td>\n",
       "    </tr>\n",
       "    <tr>\n",
       "        <td>3</td>\n",
       "        <td>3</td>\n",
       "        <td>5421</td>\n",
       "    </tr>\n",
       "    <tr>\n",
       "        <td>4</td>\n",
       "        <td>1</td>\n",
       "        <td>37</td>\n",
       "    </tr>\n",
       "    <tr>\n",
       "        <td>4</td>\n",
       "        <td>2</td>\n",
       "        <td>552</td>\n",
       "    </tr>\n",
       "    <tr>\n",
       "        <td>4</td>\n",
       "        <td>3</td>\n",
       "        <td>1022</td>\n",
       "    </tr>\n",
       "    <tr>\n",
       "        <td>5</td>\n",
       "        <td>1</td>\n",
       "        <td>197</td>\n",
       "    </tr>\n",
       "    <tr>\n",
       "        <td>5</td>\n",
       "        <td>2</td>\n",
       "        <td>1636</td>\n",
       "    </tr>\n",
       "    <tr>\n",
       "        <td>5</td>\n",
       "        <td>3</td>\n",
       "        <td>1854</td>\n",
       "    </tr>\n",
       "    <tr>\n",
       "        <td>8</td>\n",
       "        <td>1</td>\n",
       "        <td>25</td>\n",
       "    </tr>\n",
       "    <tr>\n",
       "        <td>8</td>\n",
       "        <td>2</td>\n",
       "        <td>304</td>\n",
       "    </tr>\n",
       "    <tr>\n",
       "        <td>8</td>\n",
       "        <td>3</td>\n",
       "        <td>1782</td>\n",
       "    </tr>\n",
       "    <tr>\n",
       "        <td>9</td>\n",
       "        <td>1</td>\n",
       "        <td>1376</td>\n",
       "    </tr>\n",
       "    <tr>\n",
       "        <td>9</td>\n",
       "        <td>2</td>\n",
       "        <td>16874</td>\n",
       "    </tr>\n",
       "    <tr>\n",
       "        <td>9</td>\n",
       "        <td>3</td>\n",
       "        <td>77634</td>\n",
       "    </tr>\n",
       "    <tr>\n",
       "        <td>10</td>\n",
       "        <td>1</td>\n",
       "        <td>6</td>\n",
       "    </tr>\n",
       "    <tr>\n",
       "        <td>10</td>\n",
       "        <td>2</td>\n",
       "        <td>38</td>\n",
       "    </tr>\n",
       "    <tr>\n",
       "        <td>10</td>\n",
       "        <td>3</td>\n",
       "        <td>140</td>\n",
       "    </tr>\n",
       "    <tr>\n",
       "        <td>11</td>\n",
       "        <td>1</td>\n",
       "        <td>31</td>\n",
       "    </tr>\n",
       "    <tr>\n",
       "        <td>11</td>\n",
       "        <td>2</td>\n",
       "        <td>363</td>\n",
       "    </tr>\n",
       "    <tr>\n",
       "        <td>11</td>\n",
       "        <td>3</td>\n",
       "        <td>1552</td>\n",
       "    </tr>\n",
       "    <tr>\n",
       "        <td>16</td>\n",
       "        <td>1</td>\n",
       "        <td>1</td>\n",
       "    </tr>\n",
       "    <tr>\n",
       "        <td>16</td>\n",
       "        <td>2</td>\n",
       "        <td>22</td>\n",
       "    </tr>\n",
       "    <tr>\n",
       "        <td>16</td>\n",
       "        <td>3</td>\n",
       "        <td>62</td>\n",
       "    </tr>\n",
       "    <tr>\n",
       "        <td>17</td>\n",
       "        <td>1</td>\n",
       "        <td>27</td>\n",
       "    </tr>\n",
       "    <tr>\n",
       "        <td>17</td>\n",
       "        <td>2</td>\n",
       "        <td>115</td>\n",
       "    </tr>\n",
       "    <tr>\n",
       "        <td>17</td>\n",
       "        <td>3</td>\n",
       "        <td>245</td>\n",
       "    </tr>\n",
       "    <tr>\n",
       "        <td>18</td>\n",
       "        <td>2</td>\n",
       "        <td>3</td>\n",
       "    </tr>\n",
       "    <tr>\n",
       "        <td>18</td>\n",
       "        <td>3</td>\n",
       "        <td>4</td>\n",
       "    </tr>\n",
       "    <tr>\n",
       "        <td>19</td>\n",
       "        <td>1</td>\n",
       "        <td>165</td>\n",
       "    </tr>\n",
       "    <tr>\n",
       "        <td>19</td>\n",
       "        <td>2</td>\n",
       "        <td>1658</td>\n",
       "    </tr>\n",
       "    <tr>\n",
       "        <td>19</td>\n",
       "        <td>3</td>\n",
       "        <td>6510</td>\n",
       "    </tr>\n",
       "    <tr>\n",
       "        <td>20</td>\n",
       "        <td>1</td>\n",
       "        <td>32</td>\n",
       "    </tr>\n",
       "    <tr>\n",
       "        <td>20</td>\n",
       "        <td>2</td>\n",
       "        <td>156</td>\n",
       "    </tr>\n",
       "    <tr>\n",
       "        <td>20</td>\n",
       "        <td>3</td>\n",
       "        <td>518</td>\n",
       "    </tr>\n",
       "    <tr>\n",
       "        <td>21</td>\n",
       "        <td>1</td>\n",
       "        <td>168</td>\n",
       "    </tr>\n",
       "    <tr>\n",
       "        <td>21</td>\n",
       "        <td>2</td>\n",
       "        <td>505</td>\n",
       "    </tr>\n",
       "    <tr>\n",
       "        <td>21</td>\n",
       "        <td>3</td>\n",
       "        <td>1585</td>\n",
       "    </tr>\n",
       "    <tr>\n",
       "        <td>22</td>\n",
       "        <td>1</td>\n",
       "        <td>2</td>\n",
       "    </tr>\n",
       "    <tr>\n",
       "        <td>22</td>\n",
       "        <td>2</td>\n",
       "        <td>49</td>\n",
       "    </tr>\n",
       "    <tr>\n",
       "        <td>22</td>\n",
       "        <td>3</td>\n",
       "        <td>119</td>\n",
       "    </tr>\n",
       "    <tr>\n",
       "        <td>23</td>\n",
       "        <td>2</td>\n",
       "        <td>18</td>\n",
       "    </tr>\n",
       "    <tr>\n",
       "        <td>23</td>\n",
       "        <td>3</td>\n",
       "        <td>64</td>\n",
       "    </tr>\n",
       "    <tr>\n",
       "        <td>90</td>\n",
       "        <td>1</td>\n",
       "        <td>13</td>\n",
       "    </tr>\n",
       "    <tr>\n",
       "        <td>90</td>\n",
       "        <td>2</td>\n",
       "        <td>236</td>\n",
       "    </tr>\n",
       "    <tr>\n",
       "        <td>90</td>\n",
       "        <td>3</td>\n",
       "        <td>615</td>\n",
       "    </tr>\n",
       "    <tr>\n",
       "        <td>97</td>\n",
       "        <td>1</td>\n",
       "        <td>14</td>\n",
       "    </tr>\n",
       "    <tr>\n",
       "        <td>97</td>\n",
       "        <td>2</td>\n",
       "        <td>130</td>\n",
       "    </tr>\n",
       "    <tr>\n",
       "        <td>97</td>\n",
       "        <td>3</td>\n",
       "        <td>154</td>\n",
       "    </tr>\n",
       "    <tr>\n",
       "        <td>98</td>\n",
       "        <td>1</td>\n",
       "        <td>12</td>\n",
       "    </tr>\n",
       "    <tr>\n",
       "        <td>98</td>\n",
       "        <td>2</td>\n",
       "        <td>154</td>\n",
       "    </tr>\n",
       "    <tr>\n",
       "        <td>98</td>\n",
       "        <td>3</td>\n",
       "        <td>485</td>\n",
       "    </tr>\n",
       "</table>"
      ],
      "text/plain": [
       "[(1, 1, 147),\n",
       " (1, 2, 3952),\n",
       " (1, 3, 12011),\n",
       " (2, 1, 3),\n",
       " (2, 2, 247),\n",
       " (2, 3, 788),\n",
       " (3, 1, 59),\n",
       " (3, 2, 1700),\n",
       " (3, 3, 5421),\n",
       " (4, 1, 37),\n",
       " (4, 2, 552),\n",
       " (4, 3, 1022),\n",
       " (5, 1, 197),\n",
       " (5, 2, 1636),\n",
       " (5, 3, 1854),\n",
       " (8, 1, 25),\n",
       " (8, 2, 304),\n",
       " (8, 3, 1782),\n",
       " (9, 1, 1376),\n",
       " (9, 2, 16874),\n",
       " (9, 3, 77634),\n",
       " (10, 1, 6),\n",
       " (10, 2, 38),\n",
       " (10, 3, 140),\n",
       " (11, 1, 31),\n",
       " (11, 2, 363),\n",
       " (11, 3, 1552),\n",
       " (16, 1, 1),\n",
       " (16, 2, 22),\n",
       " (16, 3, 62),\n",
       " (17, 1, 27),\n",
       " (17, 2, 115),\n",
       " (17, 3, 245),\n",
       " (18, 2, 3),\n",
       " (18, 3, 4),\n",
       " (19, 1, 165),\n",
       " (19, 2, 1658),\n",
       " (19, 3, 6510),\n",
       " (20, 1, 32),\n",
       " (20, 2, 156),\n",
       " (20, 3, 518),\n",
       " (21, 1, 168),\n",
       " (21, 2, 505),\n",
       " (21, 3, 1585),\n",
       " (22, 1, 2),\n",
       " (22, 2, 49),\n",
       " (22, 3, 119),\n",
       " (23, 2, 18),\n",
       " (23, 3, 64),\n",
       " (90, 1, 13),\n",
       " (90, 2, 236),\n",
       " (90, 3, 615),\n",
       " (97, 1, 14),\n",
       " (97, 2, 130),\n",
       " (97, 3, 154),\n",
       " (98, 1, 12),\n",
       " (98, 2, 154),\n",
       " (98, 3, 485)]"
      ]
     },
     "execution_count": 26,
     "metadata": {},
     "output_type": "execute_result"
    }
   ],
   "source": [
    "%sql SELECT vehicle_type AS 'Vehicle Type', accident_severity As 'Accident Severity', count(accident_severity ) \\\n",
    "AS 'Number of Accidents' \\\n",
    "FROM accident a, vehicle v \\\n",
    "WHERE a.accident_index = v.accident_index GROUP BY v.vehicle_type, a.accident_severity "
   ]
  },
  {
   "cell_type": "markdown",
   "metadata": {},
   "source": [
    "### 7.1 - Comment:\n",
    "- **For all vehicle types the following applies**:\n",
    "    - **The number of accidents with slight severity was higher than the number of accidents with serious severity**. \n",
    "    - **The number of accidents with serious severity was higher than the number of accidents with fatal severity**.\n",
    "<br>"
   ]
  },
  {
   "cell_type": "markdown",
   "metadata": {},
   "source": [
    "### 7.2 - For just a specific vehicle type, for instance, Cars (vehicle_type = 9)"
   ]
  },
  {
   "cell_type": "code",
   "execution_count": 27,
   "metadata": {},
   "outputs": [
    {
     "name": "stdout",
     "output_type": "stream",
     "text": [
      " * mysql+mysqldb://root@localhost:3306/accidents\n",
      "3 rows affected.\n"
     ]
    },
    {
     "data": {
      "text/html": [
       "<table>\n",
       "    <tr>\n",
       "        <th>Cars</th>\n",
       "        <th>Accident Severity</th>\n",
       "        <th>Number of Accidents</th>\n",
       "    </tr>\n",
       "    <tr>\n",
       "        <td>9</td>\n",
       "        <td>1</td>\n",
       "        <td>1376</td>\n",
       "    </tr>\n",
       "    <tr>\n",
       "        <td>9</td>\n",
       "        <td>2</td>\n",
       "        <td>16874</td>\n",
       "    </tr>\n",
       "    <tr>\n",
       "        <td>9</td>\n",
       "        <td>3</td>\n",
       "        <td>77634</td>\n",
       "    </tr>\n",
       "</table>"
      ],
      "text/plain": [
       "[(9, 1, 1376), (9, 2, 16874), (9, 3, 77634)]"
      ]
     },
     "execution_count": 27,
     "metadata": {},
     "output_type": "execute_result"
    }
   ],
   "source": [
    "%sql SELECT vehicle_type AS 'Cars', accident_severity As 'Accident Severity', count(accident_severity ) \\\n",
    "AS 'Number of Accidents' \\\n",
    "FROM accident a, vehicle v \\\n",
    "WHERE a.accident_index = v.accident_index AND vehicle_type=9 \\\n",
    "GROUP BY v.vehicle_type, a.accident_severity;"
   ]
  },
  {
   "cell_type": "code",
   "execution_count": 28,
   "metadata": {},
   "outputs": [
    {
     "name": "stdout",
     "output_type": "stream",
     "text": [
      " * mysql+mysqldb://root@localhost:3306/accidents\n",
      "1 rows affected.\n"
     ]
    },
    {
     "data": {
      "text/html": [
       "<table>\n",
       "    <tr>\n",
       "        <th>Total Number of cars involved in accidents</th>\n",
       "    </tr>\n",
       "    <tr>\n",
       "        <td>96168</td>\n",
       "    </tr>\n",
       "</table>"
      ],
      "text/plain": [
       "[(96168,)]"
      ]
     },
     "execution_count": 28,
     "metadata": {},
     "output_type": "execute_result"
    }
   ],
   "source": [
    "%sql SELECT COUNT(vehicle_type) AS 'Total Number of cars involved in accidents' \\\n",
    "FROM vehicle \\\n",
    "WHERE vehicle_type=9 "
   ]
  },
  {
   "cell_type": "markdown",
   "metadata": {},
   "source": [
    "### 7.3 - Comments:\n",
    "- **Cars follow the same pattern pointed out in 7.1**, obviously.\n",
    "- Something **worth mentioning regarding our database**: **there are accident indexes in the vehicle table that don't exist in the accident table** (96.168 > 1376 + 16874 + 77634). The **reverse is also true**, although we cannot draw this conclusion from the results shown above. "
   ]
  },
  {
   "cell_type": "markdown",
   "metadata": {},
   "source": [
    "### 7.4 -  Let's plot to visualize data regarding accident severity where Cars were involved using Matplotlib"
   ]
  },
  {
   "cell_type": "code",
   "execution_count": 29,
   "metadata": {},
   "outputs": [
    {
     "name": "stdout",
     "output_type": "stream",
     "text": [
      " * mysql+mysqldb://root@localhost:3306/accidents\n",
      "3 rows affected.\n"
     ]
    }
   ],
   "source": [
    "df = %sql SELECT vehicle_type, accident_severity, count(accident_severity ) \\\n",
    "FROM accident a, vehicle v\\\n",
    "WHERE a.accident_index = v.accident_index AND vehicle_type=9 \\\n",
    "GROUP BY v.vehicle_type, a.accident_severity\n",
    "\n",
    "df = df.DataFrame()"
   ]
  },
  {
   "cell_type": "code",
   "execution_count": 30,
   "metadata": {
    "scrolled": true
   },
   "outputs": [
    {
     "data": {
      "image/png": "[encoded data removed]",
      "text/plain": [
       "<Figure size 432x432 with 1 Axes>"
      ]
     },
     "metadata": {
      "needs_background": "light"
     },
     "output_type": "display_data"
    }
   ],
   "source": [
    "plt.rcParams[\"figure.figsize\"] = (6,6)\n",
    "\n",
    "plt.bar(df['accident_severity'], df['count(accident_severity )'])\n",
    "plt.plot(df['accident_severity'], df['count(accident_severity )'], color='green', marker='*', markersize=12)\n",
    "\n",
    "plt.xticks(range(1,4))\n",
    "\n",
    "plt.xlabel(\"Level of Severity of Accidents: CARS\", fontsize = 16)\n",
    "plt.ylabel(\"Number  of  Accidents\", fontsize = 16)\n",
    "\n",
    "\n",
    "plt.title(\"Number of Accidents where CARS were involved by Level of Severity\", fontsize = 20)\n",
    "plt.rc('xtick',labelsize=14)\n",
    "plt.rc('ytick',labelsize=14)\n",
    "plt.show()"
   ]
  },
  {
   "cell_type": "markdown",
   "metadata": {},
   "source": [
    "### 8 - What was the average severity of accidents involving Cars (vehicle_type = 9)?"
   ]
  },
  {
   "cell_type": "code",
   "execution_count": 31,
   "metadata": {},
   "outputs": [
    {
     "name": "stdout",
     "output_type": "stream",
     "text": [
      " * mysql+mysqldb://root@localhost:3306/accidents\n",
      "1 rows affected.\n"
     ]
    },
    {
     "data": {
      "text/html": [
       "<table>\n",
       "    <tr>\n",
       "        <th>Vehicle Type</th>\n",
       "        <th>Average Accident Severity</th>\n",
       "    </tr>\n",
       "    <tr>\n",
       "        <td>9</td>\n",
       "        <td>2.7953</td>\n",
       "    </tr>\n",
       "</table>"
      ],
      "text/plain": [
       "[(9, Decimal('2.7953'))]"
      ]
     },
     "execution_count": 31,
     "metadata": {},
     "output_type": "execute_result"
    }
   ],
   "source": [
    "%sql SELECT vehicle_type AS 'Vehicle Type', AVG(accident_severity ) AS ' Average Accident Severity' \\\n",
    "FROM accident a, vehicle v \\\n",
    "WHERE a.accident_index = v.accident_index AND vehicle_type=9 "
   ]
  },
  {
   "cell_type": "markdown",
   "metadata": {},
   "source": [
    "### 8.1 - Comment:\n",
    "- The **average is relatively close to 3 which confirms what was mentioned in 7.1**. "
   ]
  },
  {
   "cell_type": "markdown",
   "metadata": {},
   "source": [
    "### 9 -  What was the Accident severity by Age Band of the Driver? Sort in descending order by the number of accidents."
   ]
  },
  {
   "cell_type": "code",
   "execution_count": 32,
   "metadata": {},
   "outputs": [
    {
     "name": "stdout",
     "output_type": "stream",
     "text": [
      " * mysql+mysqldb://root@localhost:3306/accidents\n",
      "32 rows affected.\n"
     ]
    },
    {
     "data": {
      "text/html": [
       "<table>\n",
       "    <tr>\n",
       "        <th>Age Band of Driver</th>\n",
       "        <th>Accident Severity</th>\n",
       "        <th>Number of Accidents</th>\n",
       "    </tr>\n",
       "    <tr>\n",
       "        <td>6</td>\n",
       "        <td>3</td>\n",
       "        <td>29394</td>\n",
       "    </tr>\n",
       "    <tr>\n",
       "        <td>7</td>\n",
       "        <td>3</td>\n",
       "        <td>21608</td>\n",
       "    </tr>\n",
       "    <tr>\n",
       "        <td>8</td>\n",
       "        <td>3</td>\n",
       "        <td>18593</td>\n",
       "    </tr>\n",
       "    <tr>\n",
       "        <td>5</td>\n",
       "        <td>3</td>\n",
       "        <td>13246</td>\n",
       "    </tr>\n",
       "    <tr>\n",
       "        <td>9</td>\n",
       "        <td>3</td>\n",
       "        <td>11591</td>\n",
       "    </tr>\n",
       "    <tr>\n",
       "        <td>4</td>\n",
       "        <td>3</td>\n",
       "        <td>8495</td>\n",
       "    </tr>\n",
       "    <tr>\n",
       "        <td>6</td>\n",
       "        <td>2</td>\n",
       "        <td>6477</td>\n",
       "    </tr>\n",
       "    <tr>\n",
       "        <td>10</td>\n",
       "        <td>3</td>\n",
       "        <td>5021</td>\n",
       "    </tr>\n",
       "    <tr>\n",
       "        <td>7</td>\n",
       "        <td>2</td>\n",
       "        <td>5011</td>\n",
       "    </tr>\n",
       "    <tr>\n",
       "        <td>8</td>\n",
       "        <td>2</td>\n",
       "        <td>4964</td>\n",
       "    </tr>\n",
       "    <tr>\n",
       "        <td>9</td>\n",
       "        <td>2</td>\n",
       "        <td>3586</td>\n",
       "    </tr>\n",
       "    <tr>\n",
       "        <td>11</td>\n",
       "        <td>3</td>\n",
       "        <td>3202</td>\n",
       "    </tr>\n",
       "    <tr>\n",
       "        <td>5</td>\n",
       "        <td>2</td>\n",
       "        <td>3153</td>\n",
       "    </tr>\n",
       "    <tr>\n",
       "        <td>4</td>\n",
       "        <td>2</td>\n",
       "        <td>2384</td>\n",
       "    </tr>\n",
       "    <tr>\n",
       "        <td>10</td>\n",
       "        <td>2</td>\n",
       "        <td>1745</td>\n",
       "    </tr>\n",
       "    <tr>\n",
       "        <td>3</td>\n",
       "        <td>3</td>\n",
       "        <td>1139</td>\n",
       "    </tr>\n",
       "    <tr>\n",
       "        <td>11</td>\n",
       "        <td>2</td>\n",
       "        <td>991</td>\n",
       "    </tr>\n",
       "    <tr>\n",
       "        <td>6</td>\n",
       "        <td>1</td>\n",
       "        <td>508</td>\n",
       "    </tr>\n",
       "    <tr>\n",
       "        <td>8</td>\n",
       "        <td>1</td>\n",
       "        <td>389</td>\n",
       "    </tr>\n",
       "    <tr>\n",
       "        <td>7</td>\n",
       "        <td>1</td>\n",
       "        <td>389</td>\n",
       "    </tr>\n",
       "    <tr>\n",
       "        <td>3</td>\n",
       "        <td>2</td>\n",
       "        <td>347</td>\n",
       "    </tr>\n",
       "    <tr>\n",
       "        <td>9</td>\n",
       "        <td>1</td>\n",
       "        <td>341</td>\n",
       "    </tr>\n",
       "    <tr>\n",
       "        <td>5</td>\n",
       "        <td>1</td>\n",
       "        <td>255</td>\n",
       "    </tr>\n",
       "    <tr>\n",
       "        <td>2</td>\n",
       "        <td>3</td>\n",
       "        <td>249</td>\n",
       "    </tr>\n",
       "    <tr>\n",
       "        <td>10</td>\n",
       "        <td>1</td>\n",
       "        <td>158</td>\n",
       "    </tr>\n",
       "    <tr>\n",
       "        <td>11</td>\n",
       "        <td>1</td>\n",
       "        <td>137</td>\n",
       "    </tr>\n",
       "    <tr>\n",
       "        <td>4</td>\n",
       "        <td>1</td>\n",
       "        <td>130</td>\n",
       "    </tr>\n",
       "    <tr>\n",
       "        <td>2</td>\n",
       "        <td>2</td>\n",
       "        <td>47</td>\n",
       "    </tr>\n",
       "    <tr>\n",
       "        <td>1</td>\n",
       "        <td>3</td>\n",
       "        <td>27</td>\n",
       "    </tr>\n",
       "    <tr>\n",
       "        <td>1</td>\n",
       "        <td>2</td>\n",
       "        <td>7</td>\n",
       "    </tr>\n",
       "    <tr>\n",
       "        <td>3</td>\n",
       "        <td>1</td>\n",
       "        <td>6</td>\n",
       "    </tr>\n",
       "    <tr>\n",
       "        <td>2</td>\n",
       "        <td>1</td>\n",
       "        <td>2</td>\n",
       "    </tr>\n",
       "</table>"
      ],
      "text/plain": [
       "[(6, 3, 29394),\n",
       " (7, 3, 21608),\n",
       " (8, 3, 18593),\n",
       " (5, 3, 13246),\n",
       " (9, 3, 11591),\n",
       " (4, 3, 8495),\n",
       " (6, 2, 6477),\n",
       " (10, 3, 5021),\n",
       " (7, 2, 5011),\n",
       " (8, 2, 4964),\n",
       " (9, 2, 3586),\n",
       " (11, 3, 3202),\n",
       " (5, 2, 3153),\n",
       " (4, 2, 2384),\n",
       " (10, 2, 1745),\n",
       " (3, 3, 1139),\n",
       " (11, 2, 991),\n",
       " (6, 1, 508),\n",
       " (8, 1, 389),\n",
       " (7, 1, 389),\n",
       " (3, 2, 347),\n",
       " (9, 1, 341),\n",
       " (5, 1, 255),\n",
       " (2, 3, 249),\n",
       " (10, 1, 158),\n",
       " (11, 1, 137),\n",
       " (4, 1, 130),\n",
       " (2, 2, 47),\n",
       " (1, 3, 27),\n",
       " (1, 2, 7),\n",
       " (3, 1, 6),\n",
       " (2, 1, 2)]"
      ]
     },
     "execution_count": 32,
     "metadata": {},
     "output_type": "execute_result"
    }
   ],
   "source": [
    "%sql SELECT age_band_of_driver AS 'Age Band of Driver',accident_severity AS 'Accident Severity', count(accident_severity ) \\\n",
    "AS 'Number of Accidents' \\\n",
    "FROM accident a, vehicle v \\\n",
    "WHERE a.accident_index = v.accident_index GROUP BY v.age_band_of_driver, a.accident_severity \\\n",
    "ORDER BY COUNT(accident_severity) DESC"
   ]
  },
  {
   "cell_type": "markdown",
   "metadata": {},
   "source": [
    "### 9.1 - Comment: \n",
    "- **For all age bands most of the accidents had a slight severity (3)**. One can also see that the **'Age band of the Driver' involved in more accidents is the 6 (26-35 years old) followed by the 7 (36-45 years old)**, which **does not necessarily mean that those age bands are the more danger or less prudent ones because there might be more drivers within those age bands** - when compared with the other age bands - **and/or those age bands may drive more times or longer distances than the other age bands**. To sum up, **in absolute terms age bands 6 and 7 are the ones involved in more accidents**, **in relative terms we don't have enough information to draw any conclusion regarding which class is more prone to have accidents**.\n",
    "<br>"
   ]
  },
  {
   "cell_type": "markdown",
   "metadata": {},
   "source": [
    "### 9.2 -  For just a specific age band of the driver, for instance, 21-25 years old  (age_band_of_driver = 5)"
   ]
  },
  {
   "cell_type": "code",
   "execution_count": 33,
   "metadata": {},
   "outputs": [
    {
     "name": "stdout",
     "output_type": "stream",
     "text": [
      " * mysql+mysqldb://root@localhost:3306/accidents\n",
      "3 rows affected.\n"
     ]
    },
    {
     "data": {
      "text/html": [
       "<table>\n",
       "    <tr>\n",
       "        <th>Age Band Driver</th>\n",
       "        <th>Accident Severity</th>\n",
       "        <th>Number of Accidents</th>\n",
       "    </tr>\n",
       "    <tr>\n",
       "        <td>5</td>\n",
       "        <td>1</td>\n",
       "        <td>255</td>\n",
       "    </tr>\n",
       "    <tr>\n",
       "        <td>5</td>\n",
       "        <td>2</td>\n",
       "        <td>3153</td>\n",
       "    </tr>\n",
       "    <tr>\n",
       "        <td>5</td>\n",
       "        <td>3</td>\n",
       "        <td>13246</td>\n",
       "    </tr>\n",
       "</table>"
      ],
      "text/plain": [
       "[(5, 1, 255), (5, 2, 3153), (5, 3, 13246)]"
      ]
     },
     "execution_count": 33,
     "metadata": {},
     "output_type": "execute_result"
    }
   ],
   "source": [
    "%sql SELECT age_band_of_driver AS 'Age Band Driver',accident_severity AS 'Accident Severity', count(accident_severity ) \\\n",
    "AS 'Number of Accidents' \\\n",
    "FROM accident a, vehicle v \\\n",
    "WHERE a.accident_index = v.accident_index and age_band_of_driver=5 \\\n",
    "GROUP BY v.age_band_of_driver, a.accident_severity "
   ]
  },
  {
   "cell_type": "markdown",
   "metadata": {},
   "source": [
    "### 10 - Create a new table, with the fields/columns of our interest, to combine the rows of both tables based on the same 'accident_index'  using the `Inner Join` clause "
   ]
  },
  {
   "cell_type": "markdown",
   "metadata": {},
   "source": [
    "> **A `JOIN clause` combines rows from two or more tables, based on a logical relationship (or a common field) between the tables, and is used to retrieve data that appears in those tables.**"
   ]
  },
  {
   "cell_type": "code",
   "execution_count": 34,
   "metadata": {},
   "outputs": [
    {
     "name": "stdout",
     "output_type": "stream",
     "text": [
      " * mysql+mysqldb://root@localhost:3306/accidents\n",
      "143592 rows affected.\n"
     ]
    },
    {
     "data": {
      "text/plain": [
       "[]"
      ]
     },
     "execution_count": 34,
     "metadata": {},
     "output_type": "execute_result"
    }
   ],
   "source": [
    "%sql CREATE TABLE Newtable AS \\\n",
    "SELECT a.accident_index, a.accident_severity, a.day_of_week, a.road_surface_conditions, \\\n",
    "a.urban_or_rural_area, vehicle_type, age_band_of_driver \\\n",
    "FROM accident a \\\n",
    "INNER JOIN vehicle v \\\n",
    "ON a.accident_index = v.accident_index "
   ]
  },
  {
   "cell_type": "markdown",
   "metadata": {},
   "source": [
    "### 10.1 -  Displaying the first 10 rows of the table we just created"
   ]
  },
  {
   "cell_type": "code",
   "execution_count": 35,
   "metadata": {},
   "outputs": [
    {
     "name": "stdout",
     "output_type": "stream",
     "text": [
      " * mysql+mysqldb://root@localhost:3306/accidents\n",
      "10 rows affected.\n"
     ]
    },
    {
     "data": {
      "text/html": [
       "<table>\n",
       "    <tr>\n",
       "        <th>accident_index</th>\n",
       "        <th>accident_severity</th>\n",
       "        <th>day_of_week</th>\n",
       "        <th>road_surface_conditions</th>\n",
       "        <th>urban_or_rural_area</th>\n",
       "        <th>vehicle_type</th>\n",
       "        <th>age_band_of_driver</th>\n",
       "    </tr>\n",
       "    <tr>\n",
       "        <td>2020010219808</td>\n",
       "        <td>3</td>\n",
       "        <td>3</td>\n",
       "        <td>9</td>\n",
       "        <td>1</td>\n",
       "        <td>9</td>\n",
       "        <td>6</td>\n",
       "    </tr>\n",
       "    <tr>\n",
       "        <td>2020010220496</td>\n",
       "        <td>3</td>\n",
       "        <td>2</td>\n",
       "        <td>1</td>\n",
       "        <td>1</td>\n",
       "        <td>9</td>\n",
       "        <td>7</td>\n",
       "    </tr>\n",
       "    <tr>\n",
       "        <td>2020010228006</td>\n",
       "        <td>2</td>\n",
       "        <td>4</td>\n",
       "        <td>1</td>\n",
       "        <td>1</td>\n",
       "        <td>8</td>\n",
       "        <td>7</td>\n",
       "    </tr>\n",
       "    <tr>\n",
       "        <td>2020010228011</td>\n",
       "        <td>3</td>\n",
       "        <td>4</td>\n",
       "        <td>1</td>\n",
       "        <td>1</td>\n",
       "        <td>9</td>\n",
       "        <td>4</td>\n",
       "    </tr>\n",
       "    <tr>\n",
       "        <td>2020010228012</td>\n",
       "        <td>3</td>\n",
       "        <td>4</td>\n",
       "        <td>1</td>\n",
       "        <td>1</td>\n",
       "        <td>9</td>\n",
       "        <td>5</td>\n",
       "    </tr>\n",
       "    <tr>\n",
       "        <td>2020010228014</td>\n",
       "        <td>3</td>\n",
       "        <td>4</td>\n",
       "        <td>2</td>\n",
       "        <td>1</td>\n",
       "        <td>9</td>\n",
       "        <td>7</td>\n",
       "    </tr>\n",
       "    <tr>\n",
       "        <td>2020010228014</td>\n",
       "        <td>3</td>\n",
       "        <td>4</td>\n",
       "        <td>2</td>\n",
       "        <td>1</td>\n",
       "        <td>9</td>\n",
       "        <td>4</td>\n",
       "    </tr>\n",
       "    <tr>\n",
       "        <td>2020010228017</td>\n",
       "        <td>2</td>\n",
       "        <td>4</td>\n",
       "        <td>2</td>\n",
       "        <td>1</td>\n",
       "        <td>9</td>\n",
       "        <td>6</td>\n",
       "    </tr>\n",
       "    <tr>\n",
       "        <td>2020010228017</td>\n",
       "        <td>2</td>\n",
       "        <td>4</td>\n",
       "        <td>2</td>\n",
       "        <td>1</td>\n",
       "        <td>9</td>\n",
       "        <td>6</td>\n",
       "    </tr>\n",
       "    <tr>\n",
       "        <td>2020010228018</td>\n",
       "        <td>3</td>\n",
       "        <td>4</td>\n",
       "        <td>1</td>\n",
       "        <td>1</td>\n",
       "        <td>9</td>\n",
       "        <td>9</td>\n",
       "    </tr>\n",
       "</table>"
      ],
      "text/plain": [
       "[('2020010219808', 3, 3, 9, 1, 9, 6),\n",
       " ('2020010220496', 3, 2, 1, 1, 9, 7),\n",
       " ('2020010228006', 2, 4, 1, 1, 8, 7),\n",
       " ('2020010228011', 3, 4, 1, 1, 9, 4),\n",
       " ('2020010228012', 3, 4, 1, 1, 9, 5),\n",
       " ('2020010228014', 3, 4, 2, 1, 9, 7),\n",
       " ('2020010228014', 3, 4, 2, 1, 9, 4),\n",
       " ('2020010228017', 2, 4, 2, 1, 9, 6),\n",
       " ('2020010228017', 2, 4, 2, 1, 9, 6),\n",
       " ('2020010228018', 3, 4, 1, 1, 9, 9)]"
      ]
     },
     "execution_count": 35,
     "metadata": {},
     "output_type": "execute_result"
    }
   ],
   "source": [
    "%sql SELECT * FROM Newtable limit 10;"
   ]
  },
  {
   "cell_type": "markdown",
   "metadata": {},
   "source": [
    "### 11 - Compute the Number of Accidents by Age Band of Driver and Day of the Week using the `partition by` clause"
   ]
  },
  {
   "cell_type": "code",
   "execution_count": 36,
   "metadata": {},
   "outputs": [
    {
     "name": "stdout",
     "output_type": "stream",
     "text": [
      " * mysql+mysqldb://root@localhost:3306/accidents\n",
      "50 rows affected.\n"
     ]
    },
    {
     "data": {
      "text/html": [
       "<table>\n",
       "    <tr>\n",
       "        <th>accident_index</th>\n",
       "        <th>accident_severity</th>\n",
       "        <th>day_of_week</th>\n",
       "        <th>road_surface_conditions</th>\n",
       "        <th>urban_or_rural_area</th>\n",
       "        <th>vehicle_type</th>\n",
       "        <th>age_band_of_driver</th>\n",
       "        <th>Number of Accidents by Age Band of Driver and Day of the Week</th>\n",
       "    </tr>\n",
       "    <tr>\n",
       "        <td>2020010267508</td>\n",
       "        <td>3</td>\n",
       "        <td>1</td>\n",
       "        <td>1</td>\n",
       "        <td>1</td>\n",
       "        <td>1</td>\n",
       "        <td>1</td>\n",
       "        <td>4</td>\n",
       "    </tr>\n",
       "    <tr>\n",
       "        <td>2020052001868</td>\n",
       "        <td>3</td>\n",
       "        <td>1</td>\n",
       "        <td>1</td>\n",
       "        <td>1</td>\n",
       "        <td>1</td>\n",
       "        <td>1</td>\n",
       "        <td>4</td>\n",
       "    </tr>\n",
       "    <tr>\n",
       "        <td>2020160980374</td>\n",
       "        <td>3</td>\n",
       "        <td>1</td>\n",
       "        <td>1</td>\n",
       "        <td>1</td>\n",
       "        <td>1</td>\n",
       "        <td>1</td>\n",
       "        <td>4</td>\n",
       "    </tr>\n",
       "    <tr>\n",
       "        <td>2020450998907</td>\n",
       "        <td>3</td>\n",
       "        <td>1</td>\n",
       "        <td>1</td>\n",
       "        <td>1</td>\n",
       "        <td>1</td>\n",
       "        <td>1</td>\n",
       "        <td>4</td>\n",
       "    </tr>\n",
       "    <tr>\n",
       "        <td>2020010256584</td>\n",
       "        <td>3</td>\n",
       "        <td>2</td>\n",
       "        <td>1</td>\n",
       "        <td>1</td>\n",
       "        <td>1</td>\n",
       "        <td>1</td>\n",
       "        <td>5</td>\n",
       "    </tr>\n",
       "    <tr>\n",
       "        <td>20201374R1681</td>\n",
       "        <td>3</td>\n",
       "        <td>2</td>\n",
       "        <td>1</td>\n",
       "        <td>1</td>\n",
       "        <td>9</td>\n",
       "        <td>1</td>\n",
       "        <td>5</td>\n",
       "    </tr>\n",
       "    <tr>\n",
       "        <td>20201378A1960</td>\n",
       "        <td>2</td>\n",
       "        <td>2</td>\n",
       "        <td>1</td>\n",
       "        <td>1</td>\n",
       "        <td>1</td>\n",
       "        <td>1</td>\n",
       "        <td>5</td>\n",
       "    </tr>\n",
       "    <tr>\n",
       "        <td>2020440356059</td>\n",
       "        <td>3</td>\n",
       "        <td>2</td>\n",
       "        <td>1</td>\n",
       "        <td>1</td>\n",
       "        <td>1</td>\n",
       "        <td>1</td>\n",
       "        <td>5</td>\n",
       "    </tr>\n",
       "    <tr>\n",
       "        <td>2020460947760</td>\n",
       "        <td>3</td>\n",
       "        <td>2</td>\n",
       "        <td>1</td>\n",
       "        <td>1</td>\n",
       "        <td>1</td>\n",
       "        <td>1</td>\n",
       "        <td>5</td>\n",
       "    </tr>\n",
       "    <tr>\n",
       "        <td>2020040966804</td>\n",
       "        <td>3</td>\n",
       "        <td>3</td>\n",
       "        <td>1</td>\n",
       "        <td>1</td>\n",
       "        <td>1</td>\n",
       "        <td>1</td>\n",
       "        <td>5</td>\n",
       "    </tr>\n",
       "    <tr>\n",
       "        <td>2020160946431</td>\n",
       "        <td>3</td>\n",
       "        <td>3</td>\n",
       "        <td>1</td>\n",
       "        <td>1</td>\n",
       "        <td>1</td>\n",
       "        <td>1</td>\n",
       "        <td>5</td>\n",
       "    </tr>\n",
       "    <tr>\n",
       "        <td>2020302000662</td>\n",
       "        <td>2</td>\n",
       "        <td>3</td>\n",
       "        <td>1</td>\n",
       "        <td>1</td>\n",
       "        <td>1</td>\n",
       "        <td>1</td>\n",
       "        <td>5</td>\n",
       "    </tr>\n",
       "    <tr>\n",
       "        <td>2020470962002</td>\n",
       "        <td>3</td>\n",
       "        <td>3</td>\n",
       "        <td>1</td>\n",
       "        <td>1</td>\n",
       "        <td>1</td>\n",
       "        <td>1</td>\n",
       "        <td>5</td>\n",
       "    </tr>\n",
       "    <tr>\n",
       "        <td>2020470991412</td>\n",
       "        <td>2</td>\n",
       "        <td>3</td>\n",
       "        <td>2</td>\n",
       "        <td>1</td>\n",
       "        <td>1</td>\n",
       "        <td>1</td>\n",
       "        <td>5</td>\n",
       "    </tr>\n",
       "    <tr>\n",
       "        <td>2020040956687</td>\n",
       "        <td>3</td>\n",
       "        <td>4</td>\n",
       "        <td>1</td>\n",
       "        <td>1</td>\n",
       "        <td>1</td>\n",
       "        <td>1</td>\n",
       "        <td>4</td>\n",
       "    </tr>\n",
       "    <tr>\n",
       "        <td>2020420946136</td>\n",
       "        <td>3</td>\n",
       "        <td>4</td>\n",
       "        <td>1</td>\n",
       "        <td>1</td>\n",
       "        <td>1</td>\n",
       "        <td>1</td>\n",
       "        <td>4</td>\n",
       "    </tr>\n",
       "    <tr>\n",
       "        <td>2020500947742</td>\n",
       "        <td>3</td>\n",
       "        <td>4</td>\n",
       "        <td>2</td>\n",
       "        <td>2</td>\n",
       "        <td>1</td>\n",
       "        <td>1</td>\n",
       "        <td>4</td>\n",
       "    </tr>\n",
       "    <tr>\n",
       "        <td>2020990955144</td>\n",
       "        <td>2</td>\n",
       "        <td>4</td>\n",
       "        <td>1</td>\n",
       "        <td>1</td>\n",
       "        <td>1</td>\n",
       "        <td>1</td>\n",
       "        <td>4</td>\n",
       "    </tr>\n",
       "    <tr>\n",
       "        <td>2020010249399</td>\n",
       "        <td>3</td>\n",
       "        <td>5</td>\n",
       "        <td>1</td>\n",
       "        <td>1</td>\n",
       "        <td>1</td>\n",
       "        <td>1</td>\n",
       "        <td>5</td>\n",
       "    </tr>\n",
       "    <tr>\n",
       "        <td>20201377U1563</td>\n",
       "        <td>3</td>\n",
       "        <td>5</td>\n",
       "        <td>1</td>\n",
       "        <td>1</td>\n",
       "        <td>1</td>\n",
       "        <td>1</td>\n",
       "        <td>5</td>\n",
       "    </tr>\n",
       "    <tr>\n",
       "        <td>2020430238563</td>\n",
       "        <td>3</td>\n",
       "        <td>5</td>\n",
       "        <td>1</td>\n",
       "        <td>1</td>\n",
       "        <td>1</td>\n",
       "        <td>1</td>\n",
       "        <td>5</td>\n",
       "    </tr>\n",
       "    <tr>\n",
       "        <td>2020610031820</td>\n",
       "        <td>2</td>\n",
       "        <td>5</td>\n",
       "        <td>1</td>\n",
       "        <td>1</td>\n",
       "        <td>90</td>\n",
       "        <td>1</td>\n",
       "        <td>5</td>\n",
       "    </tr>\n",
       "    <tr>\n",
       "        <td>2020990977188</td>\n",
       "        <td>3</td>\n",
       "        <td>5</td>\n",
       "        <td>1</td>\n",
       "        <td>1</td>\n",
       "        <td>1</td>\n",
       "        <td>1</td>\n",
       "        <td>5</td>\n",
       "    </tr>\n",
       "    <tr>\n",
       "        <td>2020010257084</td>\n",
       "        <td>3</td>\n",
       "        <td>6</td>\n",
       "        <td>1</td>\n",
       "        <td>1</td>\n",
       "        <td>1</td>\n",
       "        <td>1</td>\n",
       "        <td>5</td>\n",
       "    </tr>\n",
       "    <tr>\n",
       "        <td>2020070281673</td>\n",
       "        <td>3</td>\n",
       "        <td>6</td>\n",
       "        <td>1</td>\n",
       "        <td>1</td>\n",
       "        <td>1</td>\n",
       "        <td>1</td>\n",
       "        <td>5</td>\n",
       "    </tr>\n",
       "    <tr>\n",
       "        <td>2020100963864</td>\n",
       "        <td>3</td>\n",
       "        <td>6</td>\n",
       "        <td>1</td>\n",
       "        <td>1</td>\n",
       "        <td>1</td>\n",
       "        <td>1</td>\n",
       "        <td>5</td>\n",
       "    </tr>\n",
       "    <tr>\n",
       "        <td>2020350944667</td>\n",
       "        <td>2</td>\n",
       "        <td>6</td>\n",
       "        <td>1</td>\n",
       "        <td>2</td>\n",
       "        <td>1</td>\n",
       "        <td>1</td>\n",
       "        <td>5</td>\n",
       "    </tr>\n",
       "    <tr>\n",
       "        <td>2020541851920</td>\n",
       "        <td>3</td>\n",
       "        <td>6</td>\n",
       "        <td>1</td>\n",
       "        <td>2</td>\n",
       "        <td>90</td>\n",
       "        <td>1</td>\n",
       "        <td>5</td>\n",
       "    </tr>\n",
       "    <tr>\n",
       "        <td>2020010267350</td>\n",
       "        <td>3</td>\n",
       "        <td>7</td>\n",
       "        <td>1</td>\n",
       "        <td>2</td>\n",
       "        <td>1</td>\n",
       "        <td>1</td>\n",
       "        <td>6</td>\n",
       "    </tr>\n",
       "    <tr>\n",
       "        <td>2020070038789</td>\n",
       "        <td>3</td>\n",
       "        <td>7</td>\n",
       "        <td>1</td>\n",
       "        <td>1</td>\n",
       "        <td>1</td>\n",
       "        <td>1</td>\n",
       "        <td>6</td>\n",
       "    </tr>\n",
       "    <tr>\n",
       "        <td>2020100965578</td>\n",
       "        <td>3</td>\n",
       "        <td>7</td>\n",
       "        <td>1</td>\n",
       "        <td>1</td>\n",
       "        <td>1</td>\n",
       "        <td>1</td>\n",
       "        <td>6</td>\n",
       "    </tr>\n",
       "    <tr>\n",
       "        <td>2020470951608</td>\n",
       "        <td>3</td>\n",
       "        <td>7</td>\n",
       "        <td>1</td>\n",
       "        <td>1</td>\n",
       "        <td>1</td>\n",
       "        <td>1</td>\n",
       "        <td>6</td>\n",
       "    </tr>\n",
       "    <tr>\n",
       "        <td>2020470972774</td>\n",
       "        <td>2</td>\n",
       "        <td>7</td>\n",
       "        <td>1</td>\n",
       "        <td>1</td>\n",
       "        <td>1</td>\n",
       "        <td>1</td>\n",
       "        <td>6</td>\n",
       "    </tr>\n",
       "    <tr>\n",
       "        <td>2020610034020</td>\n",
       "        <td>3</td>\n",
       "        <td>7</td>\n",
       "        <td>1</td>\n",
       "        <td>1</td>\n",
       "        <td>1</td>\n",
       "        <td>1</td>\n",
       "        <td>6</td>\n",
       "    </tr>\n",
       "    <tr>\n",
       "        <td>2020010249900</td>\n",
       "        <td>3</td>\n",
       "        <td>1</td>\n",
       "        <td>1</td>\n",
       "        <td>1</td>\n",
       "        <td>1</td>\n",
       "        <td>2</td>\n",
       "        <td>37</td>\n",
       "    </tr>\n",
       "    <tr>\n",
       "        <td>2020010258583</td>\n",
       "        <td>3</td>\n",
       "        <td>1</td>\n",
       "        <td>1</td>\n",
       "        <td>1</td>\n",
       "        <td>1</td>\n",
       "        <td>2</td>\n",
       "        <td>37</td>\n",
       "    </tr>\n",
       "    <tr>\n",
       "        <td>2020010259886</td>\n",
       "        <td>3</td>\n",
       "        <td>1</td>\n",
       "        <td>1</td>\n",
       "        <td>1</td>\n",
       "        <td>1</td>\n",
       "        <td>2</td>\n",
       "        <td>37</td>\n",
       "    </tr>\n",
       "    <tr>\n",
       "        <td>2020040957188</td>\n",
       "        <td>2</td>\n",
       "        <td>1</td>\n",
       "        <td>1</td>\n",
       "        <td>1</td>\n",
       "        <td>1</td>\n",
       "        <td>2</td>\n",
       "        <td>37</td>\n",
       "    </tr>\n",
       "    <tr>\n",
       "        <td>2020040964851</td>\n",
       "        <td>3</td>\n",
       "        <td>1</td>\n",
       "        <td>1</td>\n",
       "        <td>1</td>\n",
       "        <td>1</td>\n",
       "        <td>2</td>\n",
       "        <td>37</td>\n",
       "    </tr>\n",
       "    <tr>\n",
       "        <td>2020040978455</td>\n",
       "        <td>2</td>\n",
       "        <td>1</td>\n",
       "        <td>1</td>\n",
       "        <td>1</td>\n",
       "        <td>1</td>\n",
       "        <td>2</td>\n",
       "        <td>37</td>\n",
       "    </tr>\n",
       "    <tr>\n",
       "        <td>2020052001380</td>\n",
       "        <td>3</td>\n",
       "        <td>1</td>\n",
       "        <td>1</td>\n",
       "        <td>1</td>\n",
       "        <td>1</td>\n",
       "        <td>2</td>\n",
       "        <td>37</td>\n",
       "    </tr>\n",
       "    <tr>\n",
       "        <td>2020052001824</td>\n",
       "        <td>3</td>\n",
       "        <td>1</td>\n",
       "        <td>1</td>\n",
       "        <td>1</td>\n",
       "        <td>1</td>\n",
       "        <td>2</td>\n",
       "        <td>37</td>\n",
       "    </tr>\n",
       "    <tr>\n",
       "        <td>2020052001992</td>\n",
       "        <td>3</td>\n",
       "        <td>1</td>\n",
       "        <td>1</td>\n",
       "        <td>2</td>\n",
       "        <td>1</td>\n",
       "        <td>2</td>\n",
       "        <td>37</td>\n",
       "    </tr>\n",
       "    <tr>\n",
       "        <td>202006A173670</td>\n",
       "        <td>1</td>\n",
       "        <td>1</td>\n",
       "        <td>1</td>\n",
       "        <td>1</td>\n",
       "        <td>1</td>\n",
       "        <td>2</td>\n",
       "        <td>37</td>\n",
       "    </tr>\n",
       "    <tr>\n",
       "        <td>2020070103506</td>\n",
       "        <td>3</td>\n",
       "        <td>1</td>\n",
       "        <td>2</td>\n",
       "        <td>1</td>\n",
       "        <td>1</td>\n",
       "        <td>2</td>\n",
       "        <td>37</td>\n",
       "    </tr>\n",
       "    <tr>\n",
       "        <td>2020070361798</td>\n",
       "        <td>3</td>\n",
       "        <td>1</td>\n",
       "        <td>1</td>\n",
       "        <td>1</td>\n",
       "        <td>1</td>\n",
       "        <td>2</td>\n",
       "        <td>37</td>\n",
       "    </tr>\n",
       "    <tr>\n",
       "        <td>2020070474746</td>\n",
       "        <td>3</td>\n",
       "        <td>1</td>\n",
       "        <td>1</td>\n",
       "        <td>2</td>\n",
       "        <td>1</td>\n",
       "        <td>2</td>\n",
       "        <td>37</td>\n",
       "    </tr>\n",
       "    <tr>\n",
       "        <td>2020100980999</td>\n",
       "        <td>3</td>\n",
       "        <td>1</td>\n",
       "        <td>1</td>\n",
       "        <td>1</td>\n",
       "        <td>1</td>\n",
       "        <td>2</td>\n",
       "        <td>37</td>\n",
       "    </tr>\n",
       "    <tr>\n",
       "        <td>2020100991486</td>\n",
       "        <td>3</td>\n",
       "        <td>1</td>\n",
       "        <td>1</td>\n",
       "        <td>1</td>\n",
       "        <td>1</td>\n",
       "        <td>2</td>\n",
       "        <td>37</td>\n",
       "    </tr>\n",
       "    <tr>\n",
       "        <td>2020122000766</td>\n",
       "        <td>3</td>\n",
       "        <td>1</td>\n",
       "        <td>1</td>\n",
       "        <td>2</td>\n",
       "        <td>1</td>\n",
       "        <td>2</td>\n",
       "        <td>37</td>\n",
       "    </tr>\n",
       "</table>"
      ],
      "text/plain": [
       "[('2020010267508', 3, 1, 1, 1, 1, 1, 4),\n",
       " ('2020052001868', 3, 1, 1, 1, 1, 1, 4),\n",
       " ('2020160980374', 3, 1, 1, 1, 1, 1, 4),\n",
       " ('2020450998907', 3, 1, 1, 1, 1, 1, 4),\n",
       " ('2020010256584', 3, 2, 1, 1, 1, 1, 5),\n",
       " ('20201374R1681', 3, 2, 1, 1, 9, 1, 5),\n",
       " ('20201378A1960', 2, 2, 1, 1, 1, 1, 5),\n",
       " ('2020440356059', 3, 2, 1, 1, 1, 1, 5),\n",
       " ('2020460947760', 3, 2, 1, 1, 1, 1, 5),\n",
       " ('2020040966804', 3, 3, 1, 1, 1, 1, 5),\n",
       " ('2020160946431', 3, 3, 1, 1, 1, 1, 5),\n",
       " ('2020302000662', 2, 3, 1, 1, 1, 1, 5),\n",
       " ('2020470962002', 3, 3, 1, 1, 1, 1, 5),\n",
       " ('2020470991412', 2, 3, 2, 1, 1, 1, 5),\n",
       " ('2020040956687', 3, 4, 1, 1, 1, 1, 4),\n",
       " ('2020420946136', 3, 4, 1, 1, 1, 1, 4),\n",
       " ('2020500947742', 3, 4, 2, 2, 1, 1, 4),\n",
       " ('2020990955144', 2, 4, 1, 1, 1, 1, 4),\n",
       " ('2020010249399', 3, 5, 1, 1, 1, 1, 5),\n",
       " ('20201377U1563', 3, 5, 1, 1, 1, 1, 5),\n",
       " ('2020430238563', 3, 5, 1, 1, 1, 1, 5),\n",
       " ('2020610031820', 2, 5, 1, 1, 90, 1, 5),\n",
       " ('2020990977188', 3, 5, 1, 1, 1, 1, 5),\n",
       " ('2020010257084', 3, 6, 1, 1, 1, 1, 5),\n",
       " ('2020070281673', 3, 6, 1, 1, 1, 1, 5),\n",
       " ('2020100963864', 3, 6, 1, 1, 1, 1, 5),\n",
       " ('2020350944667', 2, 6, 1, 2, 1, 1, 5),\n",
       " ('2020541851920', 3, 6, 1, 2, 90, 1, 5),\n",
       " ('2020010267350', 3, 7, 1, 2, 1, 1, 6),\n",
       " ('2020070038789', 3, 7, 1, 1, 1, 1, 6),\n",
       " ('2020100965578', 3, 7, 1, 1, 1, 1, 6),\n",
       " ('2020470951608', 3, 7, 1, 1, 1, 1, 6),\n",
       " ('2020470972774', 2, 7, 1, 1, 1, 1, 6),\n",
       " ('2020610034020', 3, 7, 1, 1, 1, 1, 6),\n",
       " ('2020010249900', 3, 1, 1, 1, 1, 2, 37),\n",
       " ('2020010258583', 3, 1, 1, 1, 1, 2, 37),\n",
       " ('2020010259886', 3, 1, 1, 1, 1, 2, 37),\n",
       " ('2020040957188', 2, 1, 1, 1, 1, 2, 37),\n",
       " ('2020040964851', 3, 1, 1, 1, 1, 2, 37),\n",
       " ('2020040978455', 2, 1, 1, 1, 1, 2, 37),\n",
       " ('2020052001380', 3, 1, 1, 1, 1, 2, 37),\n",
       " ('2020052001824', 3, 1, 1, 1, 1, 2, 37),\n",
       " ('2020052001992', 3, 1, 1, 2, 1, 2, 37),\n",
       " ('202006A173670', 1, 1, 1, 1, 1, 2, 37),\n",
       " ('2020070103506', 3, 1, 2, 1, 1, 2, 37),\n",
       " ('2020070361798', 3, 1, 1, 1, 1, 2, 37),\n",
       " ('2020070474746', 3, 1, 1, 2, 1, 2, 37),\n",
       " ('2020100980999', 3, 1, 1, 1, 1, 2, 37),\n",
       " ('2020100991486', 3, 1, 1, 1, 1, 2, 37),\n",
       " ('2020122000766', 3, 1, 1, 2, 1, 2, 37)]"
      ]
     },
     "execution_count": 36,
     "metadata": {},
     "output_type": "execute_result"
    }
   ],
   "source": [
    "%sql SELECT accident_index, accident_severity, day_of_week, road_surface_conditions, \\\n",
    "urban_or_rural_area, vehicle_type, age_band_of_driver, \\\n",
    "COUNT(accident_index) \\\n",
    "OVER (PARTITION BY age_band_of_driver, day_of_week) \\\n",
    "AS 'Number of Accidents by Age Band of Driver and Day of the Week' \\\n",
    "FROM Newtable limit 50"
   ]
  },
  {
   "cell_type": "markdown",
   "metadata": {},
   "source": [
    "### 11.1 - Let's check "
   ]
  },
  {
   "cell_type": "code",
   "execution_count": 37,
   "metadata": {},
   "outputs": [
    {
     "name": "stdout",
     "output_type": "stream",
     "text": [
      " * mysql+mysqldb://root@localhost:3306/accidents\n",
      "1 rows affected.\n"
     ]
    },
    {
     "data": {
      "text/html": [
       "<table>\n",
       "    <tr>\n",
       "        <th>Number of Accidents when both Age Band Driver and Day of Week = 1</th>\n",
       "    </tr>\n",
       "    <tr>\n",
       "        <td>4</td>\n",
       "    </tr>\n",
       "</table>"
      ],
      "text/plain": [
       "[(4,)]"
      ]
     },
     "execution_count": 37,
     "metadata": {},
     "output_type": "execute_result"
    }
   ],
   "source": [
    "%sql SELECT COUNT(accident_index) AS 'Number of Accidents when both Age Band Driver and Day of Week = 1' \\\n",
    "FROM Newtable \\\n",
    "WHERE age_band_of_driver=1 AND day_of_week=1 \n"
   ]
  },
  {
   "cell_type": "markdown",
   "metadata": {},
   "source": [
    "#### Or even:"
   ]
  },
  {
   "cell_type": "code",
   "execution_count": 38,
   "metadata": {},
   "outputs": [
    {
     "name": "stdout",
     "output_type": "stream",
     "text": [
      " * mysql+mysqldb://root@localhost:3306/accidents\n",
      "1 rows affected.\n"
     ]
    },
    {
     "data": {
      "text/html": [
       "<table>\n",
       "    <tr>\n",
       "        <th>Number of Accidents when Age Band Driver = 1 and Day of Week = 2</th>\n",
       "    </tr>\n",
       "    <tr>\n",
       "        <td>5</td>\n",
       "    </tr>\n",
       "</table>"
      ],
      "text/plain": [
       "[(5,)]"
      ]
     },
     "execution_count": 38,
     "metadata": {},
     "output_type": "execute_result"
    }
   ],
   "source": [
    "%sql SELECT COUNT(accident_index) AS 'Number of Accidents when Age Band Driver = 1 and Day of Week = 2' \\\n",
    "FROM Newtable \\\n",
    "WHERE age_band_of_driver=1 AND day_of_week=2 "
   ]
  },
  {
   "cell_type": "markdown",
   "metadata": {},
   "source": [
    "### 12 - Insert multiple rows:"
   ]
  },
  {
   "cell_type": "code",
   "execution_count": 39,
   "metadata": {},
   "outputs": [
    {
     "name": "stdout",
     "output_type": "stream",
     "text": [
      " * mysql+mysqldb://root@localhost:3306/accidents\n",
      "3 rows affected.\n"
     ]
    },
    {
     "data": {
      "text/plain": [
       "[]"
      ]
     },
     "execution_count": 39,
     "metadata": {},
     "output_type": "execute_result"
    }
   ],
   "source": [
    "%sql INSERT INTO NewTable VALUES \\\n",
    "(2021010267608,3,2,1,2,9,5), \\\n",
    "(2021010367609,3,3,2,1,4,4), \\\n",
    "(2021010467610,2,4,1,1,4,7)"
   ]
  },
  {
   "cell_type": "markdown",
   "metadata": {},
   "source": [
    "### 12.1 - Let's check"
   ]
  },
  {
   "cell_type": "code",
   "execution_count": 40,
   "metadata": {},
   "outputs": [
    {
     "name": "stdout",
     "output_type": "stream",
     "text": [
      " * mysql+mysqldb://root@localhost:3306/accidents\n",
      "5 rows affected.\n"
     ]
    },
    {
     "data": {
      "text/html": [
       "<table>\n",
       "    <tr>\n",
       "        <th>accident_index</th>\n",
       "        <th>accident_severity</th>\n",
       "        <th>day_of_week</th>\n",
       "        <th>road_surface_conditions</th>\n",
       "        <th>urban_or_rural_area</th>\n",
       "        <th>vehicle_type</th>\n",
       "        <th>age_band_of_driver</th>\n",
       "    </tr>\n",
       "    <tr>\n",
       "        <td>2021010467610</td>\n",
       "        <td>2</td>\n",
       "        <td>4</td>\n",
       "        <td>1</td>\n",
       "        <td>1</td>\n",
       "        <td>4</td>\n",
       "        <td>7</td>\n",
       "    </tr>\n",
       "    <tr>\n",
       "        <td>2021010367609</td>\n",
       "        <td>3</td>\n",
       "        <td>3</td>\n",
       "        <td>2</td>\n",
       "        <td>1</td>\n",
       "        <td>4</td>\n",
       "        <td>4</td>\n",
       "    </tr>\n",
       "    <tr>\n",
       "        <td>2021010267608</td>\n",
       "        <td>3</td>\n",
       "        <td>2</td>\n",
       "        <td>1</td>\n",
       "        <td>2</td>\n",
       "        <td>9</td>\n",
       "        <td>5</td>\n",
       "    </tr>\n",
       "    <tr>\n",
       "        <td>2020991032575</td>\n",
       "        <td>3</td>\n",
       "        <td>3</td>\n",
       "        <td>1</td>\n",
       "        <td>1</td>\n",
       "        <td>9</td>\n",
       "        <td>7</td>\n",
       "    </tr>\n",
       "    <tr>\n",
       "        <td>2020991030900</td>\n",
       "        <td>3</td>\n",
       "        <td>3</td>\n",
       "        <td>1</td>\n",
       "        <td>1</td>\n",
       "        <td>9</td>\n",
       "        <td>10</td>\n",
       "    </tr>\n",
       "</table>"
      ],
      "text/plain": [
       "[('2021010467610', 2, 4, 1, 1, 4, 7),\n",
       " ('2021010367609', 3, 3, 2, 1, 4, 4),\n",
       " ('2021010267608', 3, 2, 1, 2, 9, 5),\n",
       " ('2020991032575', 3, 3, 1, 1, 9, 7),\n",
       " ('2020991030900', 3, 3, 1, 1, 9, 10)]"
      ]
     },
     "execution_count": 40,
     "metadata": {},
     "output_type": "execute_result"
    }
   ],
   "source": [
    "%sql SELECT * FROM NewTable \\\n",
    "ORDER BY accident_index DESC LIMIT 5"
   ]
  }
 ],
 "metadata": {
  "kernelspec": {
   "display_name": "Python 3",
   "language": "python",
   "name": "python3"
  },
  "language_info": {
   "codemirror_mode": {
    "name": "ipython",
    "version": 3
   },
   "file_extension": ".py",
   "mimetype": "text/x-python",
   "name": "python",
   "nbconvert_exporter": "python",
   "pygments_lexer": "ipython3",
   "version": "3.7.7"
  }
 },
 "nbformat": 4,
 "nbformat_minor": 4
}
