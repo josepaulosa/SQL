{
 "cells": [
  {
   "cell_type": "markdown",
   "metadata": {},
   "source": [
    "### How to write some important SQL `statements` and `queries`. Retrieving data from a single table and from two tables and performing some actions in a given table.\n",
    "- - - "
   ]
  },
  {
   "cell_type": "markdown",
   "metadata": {},
   "source": [
    "###  After installing `ipython-sql` and `mysqlclient` libraries, let's load the external   `SQL module`"
   ]
  },
  {
   "cell_type": "code",
   "execution_count": 1,
   "metadata": {},
   "outputs": [],
   "source": [
    "%load_ext sql"
   ]
  },
  {
   "cell_type": "markdown",
   "metadata": {},
   "source": [
    "### Connecting to our `database`"
   ]
  },
  {
   "cell_type": "code",
   "execution_count": 2,
   "metadata": {},
   "outputs": [],
   "source": [
    "%sql mysql+mysqldb://root@localhost:3306/accidents"
   ]
  },
  {
   "cell_type": "markdown",
   "metadata": {},
   "source": [
    "> **Note**: We will use **`ALIASES`** several times to improve **quickness** and **readability**."
   ]
  },
  {
   "cell_type": "markdown",
   "metadata": {},
   "source": [
    "### &rarr; Accident table\n",
    "\n"
   ]
  },
  {
   "cell_type": "markdown",
   "metadata": {},
   "source": [
    "### Create a primary key to speed up operations"
   ]
  },
  {
   "cell_type": "code",
   "execution_count": 3,
   "metadata": {},
   "outputs": [
    {
     "name": "stdout",
     "output_type": "stream",
     "text": [
      " * mysql+mysqldb://root@localhost:3306/accidents\n",
      "0 rows affected.\n"
     ]
    },
    {
     "data": {
      "text/plain": [
       "[]"
      ]
     },
     "execution_count": 3,
     "metadata": {},
     "output_type": "execute_result"
    }
   ],
   "source": [
    "%sql ALTER TABLE `accidents2` ADD PRIMARY KEY(`accident_index`);"
   ]
  },
  {
   "cell_type": "markdown",
   "metadata": {},
   "source": [
    "### Convert datatype VARCHAR to DATE"
   ]
  },
  {
   "cell_type": "code",
   "execution_count": 4,
   "metadata": {},
   "outputs": [
    {
     "name": "stdout",
     "output_type": "stream",
     "text": [
      " * mysql+mysqldb://root@localhost:3306/accidents\n",
      "0 rows affected.\n",
      " * mysql+mysqldb://root@localhost:3306/accidents\n",
      "91199 rows affected.\n",
      " * mysql+mysqldb://root@localhost:3306/accidents\n",
      "0 rows affected.\n"
     ]
    },
    {
     "data": {
      "text/plain": [
       "[]"
      ]
     },
     "execution_count": 4,
     "metadata": {},
     "output_type": "execute_result"
    }
   ],
   "source": [
    "%sql ALTER TABLE accidents2 ADD COLUMN new_date DATE \n",
    "%sql UPDATE accidents2 SET new_date = STR_TO_DATE(date, '%d/%m/%Y')\n",
    "%sql alter table accidents2 drop column date\n"
   ]
  },
  {
   "cell_type": "markdown",
   "metadata": {},
   "source": [
    "\n",
    "### Displaying the first 5 rows "
   ]
  },
  {
   "cell_type": "code",
   "execution_count": 5,
   "metadata": {},
   "outputs": [
    {
     "name": "stdout",
     "output_type": "stream",
     "text": [
      " * mysql+mysqldb://root@localhost:3306/accidents\n",
      "5 rows affected.\n"
     ]
    },
    {
     "data": {
      "text/html": [
       "<table>\n",
       "    <tr>\n",
       "        <th>accident_index</th>\n",
       "        <th>accident_year</th>\n",
       "        <th>accident_reference</th>\n",
       "        <th>location_easting_osgr</th>\n",
       "        <th>location_northing_osgr</th>\n",
       "        <th>longitude</th>\n",
       "        <th>latitude</th>\n",
       "        <th>police_force</th>\n",
       "        <th>accident_severity</th>\n",
       "        <th>number_of_vehicles</th>\n",
       "        <th>number_of_casualties</th>\n",
       "        <th>day_of_week</th>\n",
       "        <th>time</th>\n",
       "        <th>local_authority_district</th>\n",
       "        <th>local_authority_ons_district</th>\n",
       "        <th>local_authority_highway</th>\n",
       "        <th>first_road_class</th>\n",
       "        <th>first_road_number</th>\n",
       "        <th>road_type</th>\n",
       "        <th>speed_limit</th>\n",
       "        <th>junction_detail</th>\n",
       "        <th>junction_control</th>\n",
       "        <th>second_road_class</th>\n",
       "        <th>second_road_number</th>\n",
       "        <th>pedestrian_crossing_human_control</th>\n",
       "        <th>pedestrian_crossing_physical_facilities</th>\n",
       "        <th>light_conditions</th>\n",
       "        <th>weather_conditions</th>\n",
       "        <th>road_surface_conditions</th>\n",
       "        <th>special_conditions_at_site</th>\n",
       "        <th>carriageway_hazards</th>\n",
       "        <th>urban_or_rural_area</th>\n",
       "        <th>did_police_officer_attend_scene_of_accident</th>\n",
       "        <th>trunk_road_flag</th>\n",
       "        <th>lsoa_of_accident_location</th>\n",
       "        <th>new_date</th>\n",
       "    </tr>\n",
       "    <tr>\n",
       "        <td>2020010219808</td>\n",
       "        <td>2020</td>\n",
       "        <td>010219808</td>\n",
       "        <td>521389</td>\n",
       "        <td>175144</td>\n",
       "        <td>-0.25400</td>\n",
       "        <td>51.46226</td>\n",
       "        <td>1</td>\n",
       "        <td>3</td>\n",
       "        <td>1</td>\n",
       "        <td>1</td>\n",
       "        <td>3</td>\n",
       "        <td>09:00</td>\n",
       "        <td>10</td>\n",
       "        <td>E09000032</td>\n",
       "        <td>E09000032</td>\n",
       "        <td>6</td>\n",
       "        <td>0</td>\n",
       "        <td>6</td>\n",
       "        <td>20</td>\n",
       "        <td>0</td>\n",
       "        <td>-1</td>\n",
       "        <td>0</td>\n",
       "        <td>-1</td>\n",
       "        <td>9</td>\n",
       "        <td>9</td>\n",
       "        <td>1</td>\n",
       "        <td>9</td>\n",
       "        <td>9</td>\n",
       "        <td>0</td>\n",
       "        <td>0</td>\n",
       "        <td>1</td>\n",
       "        <td>3</td>\n",
       "        <td>2</td>\n",
       "        <td>E01004576</td>\n",
       "        <td>2020-02-04</td>\n",
       "    </tr>\n",
       "    <tr>\n",
       "        <td>2020010220496</td>\n",
       "        <td>2020</td>\n",
       "        <td>010220496</td>\n",
       "        <td>529337</td>\n",
       "        <td>176237</td>\n",
       "        <td>-0.13925</td>\n",
       "        <td>51.47032</td>\n",
       "        <td>1</td>\n",
       "        <td>3</td>\n",
       "        <td>1</td>\n",
       "        <td>2</td>\n",
       "        <td>2</td>\n",
       "        <td>13:55</td>\n",
       "        <td>9</td>\n",
       "        <td>E09000022</td>\n",
       "        <td>E09000022</td>\n",
       "        <td>3</td>\n",
       "        <td>3036</td>\n",
       "        <td>6</td>\n",
       "        <td>20</td>\n",
       "        <td>9</td>\n",
       "        <td>2</td>\n",
       "        <td>6</td>\n",
       "        <td>0</td>\n",
       "        <td>0</td>\n",
       "        <td>4</td>\n",
       "        <td>1</td>\n",
       "        <td>1</td>\n",
       "        <td>1</td>\n",
       "        <td>0</td>\n",
       "        <td>0</td>\n",
       "        <td>1</td>\n",
       "        <td>1</td>\n",
       "        <td>2</td>\n",
       "        <td>E01003034</td>\n",
       "        <td>2020-04-27</td>\n",
       "    </tr>\n",
       "    <tr>\n",
       "        <td>2020010228005</td>\n",
       "        <td>2020</td>\n",
       "        <td>010228005</td>\n",
       "        <td>526432</td>\n",
       "        <td>182761</td>\n",
       "        <td>-0.17871</td>\n",
       "        <td>51.52961</td>\n",
       "        <td>1</td>\n",
       "        <td>3</td>\n",
       "        <td>1</td>\n",
       "        <td>1</td>\n",
       "        <td>4</td>\n",
       "        <td>01:25</td>\n",
       "        <td>1</td>\n",
       "        <td>E09000033</td>\n",
       "        <td>E09000033</td>\n",
       "        <td>5</td>\n",
       "        <td>0</td>\n",
       "        <td>6</td>\n",
       "        <td>30</td>\n",
       "        <td>3</td>\n",
       "        <td>1</td>\n",
       "        <td>6</td>\n",
       "        <td>0</td>\n",
       "        <td>0</td>\n",
       "        <td>0</td>\n",
       "        <td>4</td>\n",
       "        <td>1</td>\n",
       "        <td>2</td>\n",
       "        <td>0</td>\n",
       "        <td>0</td>\n",
       "        <td>1</td>\n",
       "        <td>1</td>\n",
       "        <td>2</td>\n",
       "        <td>E01004726</td>\n",
       "        <td>2020-01-01</td>\n",
       "    </tr>\n",
       "    <tr>\n",
       "        <td>2020010228006</td>\n",
       "        <td>2020</td>\n",
       "        <td>010228006</td>\n",
       "        <td>538676</td>\n",
       "        <td>184371</td>\n",
       "        <td>-0.00168</td>\n",
       "        <td>51.54121</td>\n",
       "        <td>1</td>\n",
       "        <td>2</td>\n",
       "        <td>1</td>\n",
       "        <td>1</td>\n",
       "        <td>4</td>\n",
       "        <td>01:50</td>\n",
       "        <td>17</td>\n",
       "        <td>E09000025</td>\n",
       "        <td>E09000025</td>\n",
       "        <td>3</td>\n",
       "        <td>11</td>\n",
       "        <td>6</td>\n",
       "        <td>30</td>\n",
       "        <td>0</td>\n",
       "        <td>-1</td>\n",
       "        <td>0</td>\n",
       "        <td>-1</td>\n",
       "        <td>0</td>\n",
       "        <td>4</td>\n",
       "        <td>4</td>\n",
       "        <td>1</td>\n",
       "        <td>1</td>\n",
       "        <td>0</td>\n",
       "        <td>0</td>\n",
       "        <td>1</td>\n",
       "        <td>1</td>\n",
       "        <td>2</td>\n",
       "        <td>E01003617</td>\n",
       "        <td>2020-01-01</td>\n",
       "    </tr>\n",
       "    <tr>\n",
       "        <td>2020010228011</td>\n",
       "        <td>2020</td>\n",
       "        <td>010228011</td>\n",
       "        <td>529324</td>\n",
       "        <td>181286</td>\n",
       "        <td>-0.13759</td>\n",
       "        <td>51.51570</td>\n",
       "        <td>1</td>\n",
       "        <td>3</td>\n",
       "        <td>1</td>\n",
       "        <td>2</td>\n",
       "        <td>4</td>\n",
       "        <td>02:25</td>\n",
       "        <td>1</td>\n",
       "        <td>E09000033</td>\n",
       "        <td>E09000033</td>\n",
       "        <td>3</td>\n",
       "        <td>40</td>\n",
       "        <td>6</td>\n",
       "        <td>30</td>\n",
       "        <td>3</td>\n",
       "        <td>4</td>\n",
       "        <td>5</td>\n",
       "        <td>0</td>\n",
       "        <td>0</td>\n",
       "        <td>0</td>\n",
       "        <td>4</td>\n",
       "        <td>1</td>\n",
       "        <td>1</td>\n",
       "        <td>0</td>\n",
       "        <td>0</td>\n",
       "        <td>1</td>\n",
       "        <td>1</td>\n",
       "        <td>2</td>\n",
       "        <td>E01004763</td>\n",
       "        <td>2020-01-01</td>\n",
       "    </tr>\n",
       "</table>"
      ],
      "text/plain": [
       "[('2020010219808', 2020, '010219808', '521389', '175144', '-0.25400', '51.46226', 1, 3, 1, 1, 3, '09:00', 10, 'E09000032', 'E09000032', 6, 0, 6, 20, 0, -1, 0, -1, 9, 9, 1, 9, 9, 0, 0, 1, 3, 2, 'E01004576', datetime.date(2020, 2, 4)),\n",
       " ('2020010220496', 2020, '010220496', '529337', '176237', '-0.13925', '51.47032', 1, 3, 1, 2, 2, '13:55', 9, 'E09000022', 'E09000022', 3, 3036, 6, 20, 9, 2, 6, 0, 0, 4, 1, 1, 1, 0, 0, 1, 1, 2, 'E01003034', datetime.date(2020, 4, 27)),\n",
       " ('2020010228005', 2020, '010228005', '526432', '182761', '-0.17871', '51.52961', 1, 3, 1, 1, 4, '01:25', 1, 'E09000033', 'E09000033', 5, 0, 6, 30, 3, 1, 6, 0, 0, 0, 4, 1, 2, 0, 0, 1, 1, 2, 'E01004726', datetime.date(2020, 1, 1)),\n",
       " ('2020010228006', 2020, '010228006', '538676', '184371', '-0.00168', '51.54121', 1, 2, 1, 1, 4, '01:50', 17, 'E09000025', 'E09000025', 3, 11, 6, 30, 0, -1, 0, -1, 0, 4, 4, 1, 1, 0, 0, 1, 1, 2, 'E01003617', datetime.date(2020, 1, 1)),\n",
       " ('2020010228011', 2020, '010228011', '529324', '181286', '-0.13759', '51.51570', 1, 3, 1, 2, 4, '02:25', 1, 'E09000033', 'E09000033', 3, 40, 6, 30, 3, 4, 5, 0, 0, 0, 4, 1, 1, 0, 0, 1, 1, 2, 'E01004763', datetime.date(2020, 1, 1))]"
      ]
     },
     "execution_count": 5,
     "metadata": {},
     "output_type": "execute_result"
    }
   ],
   "source": [
    "%sql SELECT * FROM accidents2 limit 5;"
   ]
  },
  {
   "cell_type": "markdown",
   "metadata": {},
   "source": [
    "### &rarr; vehicles table"
   ]
  },
  {
   "cell_type": "markdown",
   "metadata": {},
   "source": [
    "### Displaying the first 5 rows "
   ]
  },
  {
   "cell_type": "code",
   "execution_count": 6,
   "metadata": {},
   "outputs": [
    {
     "name": "stdout",
     "output_type": "stream",
     "text": [
      " * mysql+mysqldb://root@localhost:3306/accidents\n",
      "5 rows affected.\n"
     ]
    },
    {
     "data": {
      "text/html": [
       "<table>\n",
       "    <tr>\n",
       "        <th>accident_index</th>\n",
       "        <th>accident_year</th>\n",
       "        <th>accident_reference</th>\n",
       "        <th>vehicle_reference</th>\n",
       "        <th>vehicle_type</th>\n",
       "        <th>towing_and_articulation</th>\n",
       "        <th>vehicle_manoeuvre</th>\n",
       "        <th>vehicle_direction_from</th>\n",
       "        <th>vehicle_direction_to</th>\n",
       "        <th>vehicle_location_restricted_lane</th>\n",
       "        <th>junction_location</th>\n",
       "        <th>skidding_and_overturning</th>\n",
       "        <th>hit_object_in_carriageway</th>\n",
       "        <th>vehicle_leaving_carriageway</th>\n",
       "        <th>hit_object_off_carriageway</th>\n",
       "        <th>first_point_of_impact</th>\n",
       "        <th>vehicle_left_hand_drive</th>\n",
       "        <th>journey_purpose_of_driver</th>\n",
       "        <th>sex_of_driver</th>\n",
       "        <th>age_of_driver</th>\n",
       "        <th>age_band_of_driver</th>\n",
       "        <th>engine_capacity_cc</th>\n",
       "        <th>propulsion_code</th>\n",
       "        <th>age_of_vehicle</th>\n",
       "        <th>generic_make_model</th>\n",
       "        <th>driver_imd_decile</th>\n",
       "        <th>driver_home_area_type</th>\n",
       "    </tr>\n",
       "    <tr>\n",
       "        <td>2020010219808</td>\n",
       "        <td>2020</td>\n",
       "        <td>010219808</td>\n",
       "        <td>1</td>\n",
       "        <td>9</td>\n",
       "        <td>9</td>\n",
       "        <td>5</td>\n",
       "        <td>1</td>\n",
       "        <td>5</td>\n",
       "        <td>0</td>\n",
       "        <td>0</td>\n",
       "        <td>0</td>\n",
       "        <td>0</td>\n",
       "        <td>0</td>\n",
       "        <td>0</td>\n",
       "        <td>4</td>\n",
       "        <td>9</td>\n",
       "        <td>6</td>\n",
       "        <td>2</td>\n",
       "        <td>32</td>\n",
       "        <td>6</td>\n",
       "        <td>1968</td>\n",
       "        <td>2</td>\n",
       "        <td>6</td>\n",
       "        <td>AUDI Q5</td>\n",
       "        <td>4</td>\n",
       "        <td>1</td>\n",
       "    </tr>\n",
       "    <tr>\n",
       "        <td>2020010220496</td>\n",
       "        <td>2020</td>\n",
       "        <td>010220496</td>\n",
       "        <td>1</td>\n",
       "        <td>9</td>\n",
       "        <td>0</td>\n",
       "        <td>4</td>\n",
       "        <td>2</td>\n",
       "        <td>6</td>\n",
       "        <td>0</td>\n",
       "        <td>2</td>\n",
       "        <td>0</td>\n",
       "        <td>0</td>\n",
       "        <td>0</td>\n",
       "        <td>0</td>\n",
       "        <td>1</td>\n",
       "        <td>1</td>\n",
       "        <td>2</td>\n",
       "        <td>1</td>\n",
       "        <td>45</td>\n",
       "        <td>7</td>\n",
       "        <td>1395</td>\n",
       "        <td>1</td>\n",
       "        <td>2</td>\n",
       "        <td>AUDI A1</td>\n",
       "        <td>7</td>\n",
       "        <td>1</td>\n",
       "    </tr>\n",
       "    <tr>\n",
       "        <td>2020010228005</td>\n",
       "        <td>2020</td>\n",
       "        <td>010228005</td>\n",
       "        <td>1</td>\n",
       "        <td>9</td>\n",
       "        <td>0</td>\n",
       "        <td>18</td>\n",
       "        <td>-1</td>\n",
       "        <td>-1</td>\n",
       "        <td>0</td>\n",
       "        <td>0</td>\n",
       "        <td>0</td>\n",
       "        <td>0</td>\n",
       "        <td>0</td>\n",
       "        <td>0</td>\n",
       "        <td>1</td>\n",
       "        <td>1</td>\n",
       "        <td>6</td>\n",
       "        <td>3</td>\n",
       "        <td>-1</td>\n",
       "        <td>-1</td>\n",
       "        <td>-1</td>\n",
       "        <td>-1</td>\n",
       "        <td>-1</td>\n",
       "        <td>-1</td>\n",
       "        <td>-1</td>\n",
       "        <td>-1</td>\n",
       "    </tr>\n",
       "    <tr>\n",
       "        <td>2020010228006</td>\n",
       "        <td>2020</td>\n",
       "        <td>010228006</td>\n",
       "        <td>1</td>\n",
       "        <td>8</td>\n",
       "        <td>0</td>\n",
       "        <td>18</td>\n",
       "        <td>1</td>\n",
       "        <td>5</td>\n",
       "        <td>0</td>\n",
       "        <td>0</td>\n",
       "        <td>0</td>\n",
       "        <td>0</td>\n",
       "        <td>0</td>\n",
       "        <td>0</td>\n",
       "        <td>1</td>\n",
       "        <td>1</td>\n",
       "        <td>1</td>\n",
       "        <td>1</td>\n",
       "        <td>44</td>\n",
       "        <td>7</td>\n",
       "        <td>1798</td>\n",
       "        <td>8</td>\n",
       "        <td>8</td>\n",
       "        <td>TOYOTA PRIUS</td>\n",
       "        <td>2</td>\n",
       "        <td>1</td>\n",
       "    </tr>\n",
       "    <tr>\n",
       "        <td>2020010228011</td>\n",
       "        <td>2020</td>\n",
       "        <td>010228011</td>\n",
       "        <td>1</td>\n",
       "        <td>9</td>\n",
       "        <td>0</td>\n",
       "        <td>18</td>\n",
       "        <td>3</td>\n",
       "        <td>7</td>\n",
       "        <td>9</td>\n",
       "        <td>1</td>\n",
       "        <td>0</td>\n",
       "        <td>0</td>\n",
       "        <td>0</td>\n",
       "        <td>0</td>\n",
       "        <td>1</td>\n",
       "        <td>1</td>\n",
       "        <td>6</td>\n",
       "        <td>1</td>\n",
       "        <td>20</td>\n",
       "        <td>4</td>\n",
       "        <td>2993</td>\n",
       "        <td>2</td>\n",
       "        <td>4</td>\n",
       "        <td>BMW 4 SERIES</td>\n",
       "        <td>-1</td>\n",
       "        <td>-1</td>\n",
       "    </tr>\n",
       "</table>"
      ],
      "text/plain": [
       "[('2020010219808', 2020, '010219808', 1, 9, 9, 5, 1, 5, 0, 0, 0, 0, 0, 0, 4, 9, 6, 2, 32, 6, 1968, 2, 6, 'AUDI Q5', 4, 1),\n",
       " ('2020010220496', 2020, '010220496', 1, 9, 0, 4, 2, 6, 0, 2, 0, 0, 0, 0, 1, 1, 2, 1, 45, 7, 1395, 1, 2, 'AUDI A1', 7, 1),\n",
       " ('2020010228005', 2020, '010228005', 1, 9, 0, 18, -1, -1, 0, 0, 0, 0, 0, 0, 1, 1, 6, 3, -1, -1, -1, -1, -1, '-1', -1, -1),\n",
       " ('2020010228006', 2020, '010228006', 1, 8, 0, 18, 1, 5, 0, 0, 0, 0, 0, 0, 1, 1, 1, 1, 44, 7, 1798, 8, 8, 'TOYOTA PRIUS', 2, 1),\n",
       " ('2020010228011', 2020, '010228011', 1, 9, 0, 18, 3, 7, 9, 1, 0, 0, 0, 0, 1, 1, 6, 1, 20, 4, 2993, 2, 4, 'BMW 4 SERIES', -1, -1)]"
      ]
     },
     "execution_count": 6,
     "metadata": {},
     "output_type": "execute_result"
    }
   ],
   "source": [
    "%sql SELECT * FROM vehicles limit 5;"
   ]
  },
  {
   "cell_type": "markdown",
   "metadata": {},
   "source": [
    "## &rarr; Some interesting questions:"
   ]
  },
  {
   "cell_type": "markdown",
   "metadata": {},
   "source": [
    "### 1 - How to delete records that only create noise like the ones regarding missing data and the ones that are out of range?\n",
    "\n",
    "- Regarding the **accident table**, the columns **road_type** and **road_surface_conditions**  have **records with value '-1' that concern **missing data** or **'out of range'**, let's **delete those records**. Also, as **records for 'urban_or_rural_area' with value 3 regards 'Unallocated' areas**, let's **remove those records**.\n",
    "<br><br>\n",
    "- Regarding the **vehicle table**, the columns **vehicle_type** and **age_band_of_driver** have **records with value '-1'** that also concerns **missing data** or **'out of range'**, let's **delete those records as well**."
   ]
  },
  {
   "cell_type": "code",
   "execution_count": 7,
   "metadata": {},
   "outputs": [
    {
     "name": "stdout",
     "output_type": "stream",
     "text": [
      " * mysql+mysqldb://root@localhost:3306/accidents\n",
      "329 rows affected.\n"
     ]
    },
    {
     "data": {
      "text/plain": [
       "[]"
      ]
     },
     "execution_count": 7,
     "metadata": {},
     "output_type": "execute_result"
    }
   ],
   "source": [
    "%sql DELETE FROM accidents2 WHERE road_type=-1 OR road_surface_conditions=-1 OR urban_or_rural_area=3"
   ]
  },
  {
   "cell_type": "code",
   "execution_count": 8,
   "metadata": {},
   "outputs": [
    {
     "name": "stdout",
     "output_type": "stream",
     "text": [
      " * mysql+mysqldb://root@localhost:3306/accidents\n",
      "23344 rows affected.\n"
     ]
    },
    {
     "data": {
      "text/plain": [
       "[]"
      ]
     },
     "execution_count": 8,
     "metadata": {},
     "output_type": "execute_result"
    }
   ],
   "source": [
    "%sql DELETE FROM vehicles WHERE vehicle_type=-1 OR age_band_of_driver=-1;"
   ]
  },
  {
   "cell_type": "markdown",
   "metadata": {},
   "source": [
    "### 2 - Is there any correlation between the day of the week and the number of accidents? "
   ]
  },
  {
   "cell_type": "code",
   "execution_count": 9,
   "metadata": {},
   "outputs": [
    {
     "name": "stdout",
     "output_type": "stream",
     "text": [
      " * mysql+mysqldb://root@localhost:3306/accidents\n",
      "7 rows affected.\n"
     ]
    },
    {
     "data": {
      "text/html": [
       "<table>\n",
       "    <tr>\n",
       "        <th>Day of the Week</th>\n",
       "        <th>Number of Accidents</th>\n",
       "    </tr>\n",
       "    <tr>\n",
       "        <td>1</td>\n",
       "        <td>10287</td>\n",
       "    </tr>\n",
       "    <tr>\n",
       "        <td>2</td>\n",
       "        <td>12723</td>\n",
       "    </tr>\n",
       "    <tr>\n",
       "        <td>3</td>\n",
       "        <td>13223</td>\n",
       "    </tr>\n",
       "    <tr>\n",
       "        <td>4</td>\n",
       "        <td>13499</td>\n",
       "    </tr>\n",
       "    <tr>\n",
       "        <td>5</td>\n",
       "        <td>14008</td>\n",
       "    </tr>\n",
       "    <tr>\n",
       "        <td>6</td>\n",
       "        <td>14837</td>\n",
       "    </tr>\n",
       "    <tr>\n",
       "        <td>7</td>\n",
       "        <td>12293</td>\n",
       "    </tr>\n",
       "</table>"
      ],
      "text/plain": [
       "[(1, 10287),\n",
       " (2, 12723),\n",
       " (3, 13223),\n",
       " (4, 13499),\n",
       " (5, 14008),\n",
       " (6, 14837),\n",
       " (7, 12293)]"
      ]
     },
     "execution_count": 9,
     "metadata": {},
     "output_type": "execute_result"
    }
   ],
   "source": [
    "%sql SELECT day_of_week AS 'Day of the Week', \\\n",
    "COUNT(accident_index) AS 'Number of Accidents' \\\n",
    "FROM accidents2 \\\n",
    "GROUP BY (day_of_week);"
   ]
  },
  {
   "cell_type": "markdown",
   "metadata": {},
   "source": [
    "\n",
    "###  2.1 - Let's plot to visualize data using `Matplotlib`\n",
    "> **Note**: We created another table - **day** - that displays the meaning of each value that the field 'day_of_week' can assume."
   ]
  },
  {
   "cell_type": "code",
   "execution_count": 10,
   "metadata": {},
   "outputs": [
    {
     "name": "stdout",
     "output_type": "stream",
     "text": [
      " * mysql+mysqldb://root@localhost:3306/accidents\n",
      "7 rows affected.\n"
     ]
    }
   ],
   "source": [
    "df =  %sql SELECT day_of_week, count(accident_index), label FROM accidents2 a, day d \\\n",
    "WHERE a.day_of_week = d.code GROUP BY (day_of_week)\n",
    "\n",
    "df = df.DataFrame()"
   ]
  },
  {
   "cell_type": "code",
   "execution_count": 11,
   "metadata": {},
   "outputs": [
    {
     "data": {
      "image/png": "[encoded data removed]",
      "text/plain": [
       "<Figure size 1008x432 with 1 Axes>"
      ]
     },
     "metadata": {
      "needs_background": "light"
     },
     "output_type": "display_data"
    }
   ],
   "source": [
    "import matplotlib as mpl\n",
    "import matplotlib.pyplot as plt\n",
    "from matplotlib.pyplot import figure\n",
    "\n",
    "plt.rcParams[\"figure.figsize\"] = (14,6)\n",
    "\n",
    "plt.bar(df['label'], df['count(accident_index)'])\n",
    "plt.plot(df['label'], df['count(accident_index)'], color='red', marker='o', markersize=10)\n",
    "plt.xlabel(\"Day of the Week\", fontsize = 16 )\n",
    "plt.ylabel(\"Number of Accidents\", fontsize = 16)\n",
    "plt.title(\"Accidents by Day of the Week\", fontsize = 20)\n",
    "plt.rc('xtick',labelsize=12)\n",
    "plt.rc('ytick',labelsize=12)\n",
    "plt.show()\n",
    "                        "
   ]
  },
  {
   "cell_type": "markdown",
   "metadata": {},
   "source": [
    "### 2.2 - Comments: \n",
    "- The **number of accidents is higher on weekdays than on the weekend**, which **was expected** because, most likely, there was **more traffic on weekdays**.\n",
    "- The **number of accidents increases from Monday to Friday**.\n",
    "<br>"
   ]
  },
  {
   "cell_type": "markdown",
   "metadata": {},
   "source": [
    "### 3 - What was the proportion of accidents that took place in urban and rural areas?"
   ]
  },
  {
   "cell_type": "code",
   "execution_count": 12,
   "metadata": {},
   "outputs": [
    {
     "name": "stdout",
     "output_type": "stream",
     "text": [
      " * mysql+mysqldb://root@localhost:3306/accidents\n",
      "2 rows affected.\n"
     ]
    },
    {
     "data": {
      "text/html": [
       "<table>\n",
       "    <tr>\n",
       "        <th>Urban or Rural Area</th>\n",
       "        <th>Proportion</th>\n",
       "    </tr>\n",
       "    <tr>\n",
       "        <td>1</td>\n",
       "        <td>0.6769</td>\n",
       "    </tr>\n",
       "    <tr>\n",
       "        <td>2</td>\n",
       "        <td>0.3231</td>\n",
       "    </tr>\n",
       "</table>"
      ],
      "text/plain": [
       "[(1, Decimal('0.6769')), (2, Decimal('0.3231'))]"
      ]
     },
     "execution_count": 12,
     "metadata": {},
     "output_type": "execute_result"
    }
   ],
   "source": [
    "%sql SELECT urban_or_rural_area AS 'Urban or Rural Area', \\\n",
    "(COUNT(urban_or_rural_area) / (Select COUNT(*) FROM accidents2)) AS Proportion \\\n",
    "FROM accidents2 \\\n",
    "GROUP BY urban_or_rural_area"
   ]
  },
  {
   "cell_type": "markdown",
   "metadata": {},
   "source": [
    "### 3.1 - Comment:\n",
    "- Approximately **2/3 of the accidents occurred in urban areas** and almost **1/3 in rural areas**. This **was to be expected due to urban areas have (much) more traffic than rural areas**. There might be **other reasons** for the number of accidents that happened in urban areas to be twice as much as the number of accidents that occurred in rural areas like, for instance, **different weather conditions and distinct road surface conditions**, among other reasons.\n",
    "<br>"
   ]
  },
  {
   "cell_type": "markdown",
   "metadata": {},
   "source": [
    "### 4 - Count the number of accidents by accident severity "
   ]
  },
  {
   "cell_type": "code",
   "execution_count": 13,
   "metadata": {},
   "outputs": [
    {
     "name": "stdout",
     "output_type": "stream",
     "text": [
      " * mysql+mysqldb://root@localhost:3306/accidents\n",
      "3 rows affected.\n"
     ]
    },
    {
     "data": {
      "text/html": [
       "<table>\n",
       "    <tr>\n",
       "        <th>Accident Severity</th>\n",
       "        <th>Number of Accidents</th>\n",
       "    </tr>\n",
       "    <tr>\n",
       "        <td>1</td>\n",
       "        <td>1387</td>\n",
       "    </tr>\n",
       "    <tr>\n",
       "        <td>2</td>\n",
       "        <td>18311</td>\n",
       "    </tr>\n",
       "    <tr>\n",
       "        <td>3</td>\n",
       "        <td>71172</td>\n",
       "    </tr>\n",
       "</table>"
      ],
      "text/plain": [
       "[(1, 1387), (2, 18311), (3, 71172)]"
      ]
     },
     "execution_count": 13,
     "metadata": {},
     "output_type": "execute_result"
    }
   ],
   "source": [
    "%sql SELECT accident_severity AS 'Accident Severity', \\\n",
    "COUNT(accident_index) AS 'Number of Accidents' \\\n",
    "FROM accidents2 \\\n",
    "GROUP BY (accident_severity);"
   ]
  },
  {
   "cell_type": "markdown",
   "metadata": {},
   "source": [
    "### 4.1-  Let's plot to visualize data using `Matplotlib`\n",
    "> **Note**: We created another table - **severity** - that displays the meaning of each value that the field 'accident_severity' can assume."
   ]
  },
  {
   "cell_type": "code",
   "execution_count": 14,
   "metadata": {},
   "outputs": [
    {
     "name": "stdout",
     "output_type": "stream",
     "text": [
      " * mysql+mysqldb://root@localhost:3306/accidents\n",
      "3 rows affected.\n"
     ]
    }
   ],
   "source": [
    "df = %sql select accident_severity, count(accident_index), label FROM accidents2 a, severity s \\\n",
    "WHERE a.accident_severity = s.code GROUP BY (accident_severity) \n",
    "df = df.DataFrame()"
   ]
  },
  {
   "cell_type": "code",
   "execution_count": 15,
   "metadata": {},
   "outputs": [
    {
     "data": {
      "image/png": "[encoded data removed]",
      "text/plain": [
       "<Figure size 576x576 with 1 Axes>"
      ]
     },
     "metadata": {
      "needs_background": "light"
     },
     "output_type": "display_data"
    }
   ],
   "source": [
    "plt.rcParams[\"figure.figsize\"] = (8,8)\n",
    "\n",
    "plt.bar(df['label'], df['count(accident_index)'])\n",
    "plt.plot(df['label'], df['count(accident_index)'], color='red', marker='p', markersize=14)\n",
    "plt.xlabel(\"Accident Severity\", fontsize = 16)\n",
    "plt.ylabel(\"Number of Accidents\", fontsize = 16)\n",
    "plt.title(\"Number of Accidents by Level of Severity\", fontsize = 20)\n",
    "plt.rc('xtick',labelsize=14)\n",
    "plt.rc('ytick',labelsize=14)\n",
    "plt.show()\n",
    "\n"
   ]
  },
  {
   "cell_type": "markdown",
   "metadata": {},
   "source": [
    "### 4.2 - Comment: \n",
    "- Fortunately, the **severity of the great majority of accidents was slight**.\n",
    "<br>"
   ]
  },
  {
   "cell_type": "markdown",
   "metadata": {},
   "source": [
    "### 5 - Count the total number of accidents by vehicle type. Sort in descending order of number of accidents."
   ]
  },
  {
   "cell_type": "code",
   "execution_count": 16,
   "metadata": {},
   "outputs": [
    {
     "name": "stdout",
     "output_type": "stream",
     "text": [
      " * mysql+mysqldb://root@localhost:3306/accidents\n",
      "20 rows affected.\n"
     ]
    },
    {
     "data": {
      "text/html": [
       "<table>\n",
       "    <tr>\n",
       "        <th>Vehicle Type</th>\n",
       "        <th>Number of Accidents by Vehicle Type</th>\n",
       "    </tr>\n",
       "    <tr>\n",
       "        <td>9</td>\n",
       "        <td>96168</td>\n",
       "    </tr>\n",
       "    <tr>\n",
       "        <td>1</td>\n",
       "        <td>16186</td>\n",
       "    </tr>\n",
       "    <tr>\n",
       "        <td>19</td>\n",
       "        <td>8352</td>\n",
       "    </tr>\n",
       "    <tr>\n",
       "        <td>3</td>\n",
       "        <td>7195</td>\n",
       "    </tr>\n",
       "    <tr>\n",
       "        <td>5</td>\n",
       "        <td>3696</td>\n",
       "    </tr>\n",
       "    <tr>\n",
       "        <td>21</td>\n",
       "        <td>2261</td>\n",
       "    </tr>\n",
       "    <tr>\n",
       "        <td>8</td>\n",
       "        <td>2114</td>\n",
       "    </tr>\n",
       "    <tr>\n",
       "        <td>11</td>\n",
       "        <td>1961</td>\n",
       "    </tr>\n",
       "    <tr>\n",
       "        <td>4</td>\n",
       "        <td>1612</td>\n",
       "    </tr>\n",
       "    <tr>\n",
       "        <td>2</td>\n",
       "        <td>1041</td>\n",
       "    </tr>\n",
       "    <tr>\n",
       "        <td>90</td>\n",
       "        <td>867</td>\n",
       "    </tr>\n",
       "    <tr>\n",
       "        <td>20</td>\n",
       "        <td>709</td>\n",
       "    </tr>\n",
       "    <tr>\n",
       "        <td>98</td>\n",
       "        <td>651</td>\n",
       "    </tr>\n",
       "    <tr>\n",
       "        <td>17</td>\n",
       "        <td>388</td>\n",
       "    </tr>\n",
       "    <tr>\n",
       "        <td>97</td>\n",
       "        <td>298</td>\n",
       "    </tr>\n",
       "    <tr>\n",
       "        <td>10</td>\n",
       "        <td>185</td>\n",
       "    </tr>\n",
       "    <tr>\n",
       "        <td>22</td>\n",
       "        <td>171</td>\n",
       "    </tr>\n",
       "    <tr>\n",
       "        <td>16</td>\n",
       "        <td>86</td>\n",
       "    </tr>\n",
       "    <tr>\n",
       "        <td>23</td>\n",
       "        <td>83</td>\n",
       "    </tr>\n",
       "    <tr>\n",
       "        <td>18</td>\n",
       "        <td>7</td>\n",
       "    </tr>\n",
       "</table>"
      ],
      "text/plain": [
       "[(9, 96168),\n",
       " (1, 16186),\n",
       " (19, 8352),\n",
       " (3, 7195),\n",
       " (5, 3696),\n",
       " (21, 2261),\n",
       " (8, 2114),\n",
       " (11, 1961),\n",
       " (4, 1612),\n",
       " (2, 1041),\n",
       " (90, 867),\n",
       " (20, 709),\n",
       " (98, 651),\n",
       " (17, 388),\n",
       " (97, 298),\n",
       " (10, 185),\n",
       " (22, 171),\n",
       " (16, 86),\n",
       " (23, 83),\n",
       " (18, 7)]"
      ]
     },
     "execution_count": 16,
     "metadata": {},
     "output_type": "execute_result"
    }
   ],
   "source": [
    "%sql SELECT vehicle_type AS 'Vehicle Type', \\\n",
    "COUNT(vehicle_type) AS 'Number of Accidents by Vehicle Type' \\\n",
    "FROM vehicles GROUP BY vehicle_type \\\n",
    "ORDER BY COUNT(accident_index) DESC"
   ]
  },
  {
   "cell_type": "markdown",
   "metadata": {},
   "source": [
    "### 5.1 - Comment:\n",
    "- **In the majority of the accidents there was at least one car involved**, which can't be considered as surprising...\n",
    "<br>"
   ]
  },
  {
   "cell_type": "markdown",
   "metadata": {},
   "source": [
    "### 6 -  Count the number of accidents by accident severity and vehicle type.\n",
    "### - Create a column named 'assessement', in case of  the of  number of accidents was less than 10 output 'not bad'; if it was equal or greater than 10 and less then 100 output 'could be worse'; lastly if it was greater then 100 output 'terrible'."
   ]
  },
  {
   "cell_type": "code",
   "execution_count": 17,
   "metadata": {},
   "outputs": [
    {
     "name": "stdout",
     "output_type": "stream",
     "text": [
      " * mysql+mysqldb://root@localhost:3306/accidents\n",
      "58 rows affected.\n"
     ]
    },
    {
     "data": {
      "text/html": [
       "<table>\n",
       "    <tr>\n",
       "        <th>Vehicle Type</th>\n",
       "        <th>Accident Severity</th>\n",
       "        <th>Number of Accidents</th>\n",
       "        <th>assessement</th>\n",
       "    </tr>\n",
       "    <tr>\n",
       "        <td>1</td>\n",
       "        <td>1</td>\n",
       "        <td>147</td>\n",
       "        <td>terrible</td>\n",
       "    </tr>\n",
       "    <tr>\n",
       "        <td>1</td>\n",
       "        <td>2</td>\n",
       "        <td>3952</td>\n",
       "        <td>terrible</td>\n",
       "    </tr>\n",
       "    <tr>\n",
       "        <td>1</td>\n",
       "        <td>3</td>\n",
       "        <td>12011</td>\n",
       "        <td>terrible</td>\n",
       "    </tr>\n",
       "    <tr>\n",
       "        <td>2</td>\n",
       "        <td>1</td>\n",
       "        <td>3</td>\n",
       "        <td>not bad</td>\n",
       "    </tr>\n",
       "    <tr>\n",
       "        <td>2</td>\n",
       "        <td>2</td>\n",
       "        <td>247</td>\n",
       "        <td>terrible</td>\n",
       "    </tr>\n",
       "    <tr>\n",
       "        <td>2</td>\n",
       "        <td>3</td>\n",
       "        <td>788</td>\n",
       "        <td>terrible</td>\n",
       "    </tr>\n",
       "    <tr>\n",
       "        <td>3</td>\n",
       "        <td>1</td>\n",
       "        <td>59</td>\n",
       "        <td>could be worse</td>\n",
       "    </tr>\n",
       "    <tr>\n",
       "        <td>3</td>\n",
       "        <td>2</td>\n",
       "        <td>1700</td>\n",
       "        <td>terrible</td>\n",
       "    </tr>\n",
       "    <tr>\n",
       "        <td>3</td>\n",
       "        <td>3</td>\n",
       "        <td>5421</td>\n",
       "        <td>terrible</td>\n",
       "    </tr>\n",
       "    <tr>\n",
       "        <td>4</td>\n",
       "        <td>1</td>\n",
       "        <td>37</td>\n",
       "        <td>could be worse</td>\n",
       "    </tr>\n",
       "    <tr>\n",
       "        <td>4</td>\n",
       "        <td>2</td>\n",
       "        <td>552</td>\n",
       "        <td>terrible</td>\n",
       "    </tr>\n",
       "    <tr>\n",
       "        <td>4</td>\n",
       "        <td>3</td>\n",
       "        <td>1022</td>\n",
       "        <td>terrible</td>\n",
       "    </tr>\n",
       "    <tr>\n",
       "        <td>5</td>\n",
       "        <td>1</td>\n",
       "        <td>197</td>\n",
       "        <td>terrible</td>\n",
       "    </tr>\n",
       "    <tr>\n",
       "        <td>5</td>\n",
       "        <td>2</td>\n",
       "        <td>1636</td>\n",
       "        <td>terrible</td>\n",
       "    </tr>\n",
       "    <tr>\n",
       "        <td>5</td>\n",
       "        <td>3</td>\n",
       "        <td>1854</td>\n",
       "        <td>terrible</td>\n",
       "    </tr>\n",
       "    <tr>\n",
       "        <td>8</td>\n",
       "        <td>1</td>\n",
       "        <td>25</td>\n",
       "        <td>could be worse</td>\n",
       "    </tr>\n",
       "    <tr>\n",
       "        <td>8</td>\n",
       "        <td>2</td>\n",
       "        <td>304</td>\n",
       "        <td>terrible</td>\n",
       "    </tr>\n",
       "    <tr>\n",
       "        <td>8</td>\n",
       "        <td>3</td>\n",
       "        <td>1782</td>\n",
       "        <td>terrible</td>\n",
       "    </tr>\n",
       "    <tr>\n",
       "        <td>9</td>\n",
       "        <td>1</td>\n",
       "        <td>1376</td>\n",
       "        <td>terrible</td>\n",
       "    </tr>\n",
       "    <tr>\n",
       "        <td>9</td>\n",
       "        <td>2</td>\n",
       "        <td>16874</td>\n",
       "        <td>terrible</td>\n",
       "    </tr>\n",
       "    <tr>\n",
       "        <td>9</td>\n",
       "        <td>3</td>\n",
       "        <td>77634</td>\n",
       "        <td>terrible</td>\n",
       "    </tr>\n",
       "    <tr>\n",
       "        <td>10</td>\n",
       "        <td>1</td>\n",
       "        <td>6</td>\n",
       "        <td>not bad</td>\n",
       "    </tr>\n",
       "    <tr>\n",
       "        <td>10</td>\n",
       "        <td>2</td>\n",
       "        <td>38</td>\n",
       "        <td>could be worse</td>\n",
       "    </tr>\n",
       "    <tr>\n",
       "        <td>10</td>\n",
       "        <td>3</td>\n",
       "        <td>140</td>\n",
       "        <td>terrible</td>\n",
       "    </tr>\n",
       "    <tr>\n",
       "        <td>11</td>\n",
       "        <td>1</td>\n",
       "        <td>31</td>\n",
       "        <td>could be worse</td>\n",
       "    </tr>\n",
       "    <tr>\n",
       "        <td>11</td>\n",
       "        <td>2</td>\n",
       "        <td>363</td>\n",
       "        <td>terrible</td>\n",
       "    </tr>\n",
       "    <tr>\n",
       "        <td>11</td>\n",
       "        <td>3</td>\n",
       "        <td>1552</td>\n",
       "        <td>terrible</td>\n",
       "    </tr>\n",
       "    <tr>\n",
       "        <td>16</td>\n",
       "        <td>1</td>\n",
       "        <td>1</td>\n",
       "        <td>not bad</td>\n",
       "    </tr>\n",
       "    <tr>\n",
       "        <td>16</td>\n",
       "        <td>2</td>\n",
       "        <td>22</td>\n",
       "        <td>could be worse</td>\n",
       "    </tr>\n",
       "    <tr>\n",
       "        <td>16</td>\n",
       "        <td>3</td>\n",
       "        <td>62</td>\n",
       "        <td>could be worse</td>\n",
       "    </tr>\n",
       "    <tr>\n",
       "        <td>17</td>\n",
       "        <td>1</td>\n",
       "        <td>27</td>\n",
       "        <td>could be worse</td>\n",
       "    </tr>\n",
       "    <tr>\n",
       "        <td>17</td>\n",
       "        <td>2</td>\n",
       "        <td>115</td>\n",
       "        <td>terrible</td>\n",
       "    </tr>\n",
       "    <tr>\n",
       "        <td>17</td>\n",
       "        <td>3</td>\n",
       "        <td>245</td>\n",
       "        <td>terrible</td>\n",
       "    </tr>\n",
       "    <tr>\n",
       "        <td>18</td>\n",
       "        <td>2</td>\n",
       "        <td>3</td>\n",
       "        <td>not bad</td>\n",
       "    </tr>\n",
       "    <tr>\n",
       "        <td>18</td>\n",
       "        <td>3</td>\n",
       "        <td>4</td>\n",
       "        <td>not bad</td>\n",
       "    </tr>\n",
       "    <tr>\n",
       "        <td>19</td>\n",
       "        <td>1</td>\n",
       "        <td>165</td>\n",
       "        <td>terrible</td>\n",
       "    </tr>\n",
       "    <tr>\n",
       "        <td>19</td>\n",
       "        <td>2</td>\n",
       "        <td>1658</td>\n",
       "        <td>terrible</td>\n",
       "    </tr>\n",
       "    <tr>\n",
       "        <td>19</td>\n",
       "        <td>3</td>\n",
       "        <td>6510</td>\n",
       "        <td>terrible</td>\n",
       "    </tr>\n",
       "    <tr>\n",
       "        <td>20</td>\n",
       "        <td>1</td>\n",
       "        <td>32</td>\n",
       "        <td>could be worse</td>\n",
       "    </tr>\n",
       "    <tr>\n",
       "        <td>20</td>\n",
       "        <td>2</td>\n",
       "        <td>156</td>\n",
       "        <td>terrible</td>\n",
       "    </tr>\n",
       "    <tr>\n",
       "        <td>20</td>\n",
       "        <td>3</td>\n",
       "        <td>518</td>\n",
       "        <td>terrible</td>\n",
       "    </tr>\n",
       "    <tr>\n",
       "        <td>21</td>\n",
       "        <td>1</td>\n",
       "        <td>168</td>\n",
       "        <td>terrible</td>\n",
       "    </tr>\n",
       "    <tr>\n",
       "        <td>21</td>\n",
       "        <td>2</td>\n",
       "        <td>505</td>\n",
       "        <td>terrible</td>\n",
       "    </tr>\n",
       "    <tr>\n",
       "        <td>21</td>\n",
       "        <td>3</td>\n",
       "        <td>1585</td>\n",
       "        <td>terrible</td>\n",
       "    </tr>\n",
       "    <tr>\n",
       "        <td>22</td>\n",
       "        <td>1</td>\n",
       "        <td>2</td>\n",
       "        <td>not bad</td>\n",
       "    </tr>\n",
       "    <tr>\n",
       "        <td>22</td>\n",
       "        <td>2</td>\n",
       "        <td>49</td>\n",
       "        <td>could be worse</td>\n",
       "    </tr>\n",
       "    <tr>\n",
       "        <td>22</td>\n",
       "        <td>3</td>\n",
       "        <td>119</td>\n",
       "        <td>terrible</td>\n",
       "    </tr>\n",
       "    <tr>\n",
       "        <td>23</td>\n",
       "        <td>2</td>\n",
       "        <td>18</td>\n",
       "        <td>could be worse</td>\n",
       "    </tr>\n",
       "    <tr>\n",
       "        <td>23</td>\n",
       "        <td>3</td>\n",
       "        <td>64</td>\n",
       "        <td>could be worse</td>\n",
       "    </tr>\n",
       "    <tr>\n",
       "        <td>90</td>\n",
       "        <td>1</td>\n",
       "        <td>13</td>\n",
       "        <td>could be worse</td>\n",
       "    </tr>\n",
       "    <tr>\n",
       "        <td>90</td>\n",
       "        <td>2</td>\n",
       "        <td>236</td>\n",
       "        <td>terrible</td>\n",
       "    </tr>\n",
       "    <tr>\n",
       "        <td>90</td>\n",
       "        <td>3</td>\n",
       "        <td>615</td>\n",
       "        <td>terrible</td>\n",
       "    </tr>\n",
       "    <tr>\n",
       "        <td>97</td>\n",
       "        <td>1</td>\n",
       "        <td>14</td>\n",
       "        <td>could be worse</td>\n",
       "    </tr>\n",
       "    <tr>\n",
       "        <td>97</td>\n",
       "        <td>2</td>\n",
       "        <td>130</td>\n",
       "        <td>terrible</td>\n",
       "    </tr>\n",
       "    <tr>\n",
       "        <td>97</td>\n",
       "        <td>3</td>\n",
       "        <td>154</td>\n",
       "        <td>terrible</td>\n",
       "    </tr>\n",
       "    <tr>\n",
       "        <td>98</td>\n",
       "        <td>1</td>\n",
       "        <td>12</td>\n",
       "        <td>could be worse</td>\n",
       "    </tr>\n",
       "    <tr>\n",
       "        <td>98</td>\n",
       "        <td>2</td>\n",
       "        <td>154</td>\n",
       "        <td>terrible</td>\n",
       "    </tr>\n",
       "    <tr>\n",
       "        <td>98</td>\n",
       "        <td>3</td>\n",
       "        <td>485</td>\n",
       "        <td>terrible</td>\n",
       "    </tr>\n",
       "</table>"
      ],
      "text/plain": [
       "[(1, 1, 147, 'terrible'),\n",
       " (1, 2, 3952, 'terrible'),\n",
       " (1, 3, 12011, 'terrible'),\n",
       " (2, 1, 3, 'not bad'),\n",
       " (2, 2, 247, 'terrible'),\n",
       " (2, 3, 788, 'terrible'),\n",
       " (3, 1, 59, 'could be worse'),\n",
       " (3, 2, 1700, 'terrible'),\n",
       " (3, 3, 5421, 'terrible'),\n",
       " (4, 1, 37, 'could be worse'),\n",
       " (4, 2, 552, 'terrible'),\n",
       " (4, 3, 1022, 'terrible'),\n",
       " (5, 1, 197, 'terrible'),\n",
       " (5, 2, 1636, 'terrible'),\n",
       " (5, 3, 1854, 'terrible'),\n",
       " (8, 1, 25, 'could be worse'),\n",
       " (8, 2, 304, 'terrible'),\n",
       " (8, 3, 1782, 'terrible'),\n",
       " (9, 1, 1376, 'terrible'),\n",
       " (9, 2, 16874, 'terrible'),\n",
       " (9, 3, 77634, 'terrible'),\n",
       " (10, 1, 6, 'not bad'),\n",
       " (10, 2, 38, 'could be worse'),\n",
       " (10, 3, 140, 'terrible'),\n",
       " (11, 1, 31, 'could be worse'),\n",
       " (11, 2, 363, 'terrible'),\n",
       " (11, 3, 1552, 'terrible'),\n",
       " (16, 1, 1, 'not bad'),\n",
       " (16, 2, 22, 'could be worse'),\n",
       " (16, 3, 62, 'could be worse'),\n",
       " (17, 1, 27, 'could be worse'),\n",
       " (17, 2, 115, 'terrible'),\n",
       " (17, 3, 245, 'terrible'),\n",
       " (18, 2, 3, 'not bad'),\n",
       " (18, 3, 4, 'not bad'),\n",
       " (19, 1, 165, 'terrible'),\n",
       " (19, 2, 1658, 'terrible'),\n",
       " (19, 3, 6510, 'terrible'),\n",
       " (20, 1, 32, 'could be worse'),\n",
       " (20, 2, 156, 'terrible'),\n",
       " (20, 3, 518, 'terrible'),\n",
       " (21, 1, 168, 'terrible'),\n",
       " (21, 2, 505, 'terrible'),\n",
       " (21, 3, 1585, 'terrible'),\n",
       " (22, 1, 2, 'not bad'),\n",
       " (22, 2, 49, 'could be worse'),\n",
       " (22, 3, 119, 'terrible'),\n",
       " (23, 2, 18, 'could be worse'),\n",
       " (23, 3, 64, 'could be worse'),\n",
       " (90, 1, 13, 'could be worse'),\n",
       " (90, 2, 236, 'terrible'),\n",
       " (90, 3, 615, 'terrible'),\n",
       " (97, 1, 14, 'could be worse'),\n",
       " (97, 2, 130, 'terrible'),\n",
       " (97, 3, 154, 'terrible'),\n",
       " (98, 1, 12, 'could be worse'),\n",
       " (98, 2, 154, 'terrible'),\n",
       " (98, 3, 485, 'terrible')]"
      ]
     },
     "execution_count": 17,
     "metadata": {},
     "output_type": "execute_result"
    }
   ],
   "source": [
    "%sql SELECT vehicle_type AS 'Vehicle Type', accident_severity AS 'Accident Severity', COUNT(accident_severity ) \\\n",
    "AS 'Number of Accidents', \\\n",
    "CASE WHEN count(accident_severity) <=10 THEN 'not bad' \\\n",
    "WHEN COUNT(accident_severity) >10 AND count(accident_severity)<100 THEN 'could be worse' \\\n",
    "ELSE 'terrible' END AS assessement \\\n",
    "FROM accidents2 a JOIN vehicles v \\\n",
    "ON a.accident_index = v.accident_index \\\n",
    "GROUP BY v.vehicle_type, a.accident_severity "
   ]
  },
  {
   "cell_type": "markdown",
   "metadata": {},
   "source": [
    "### 6.1 - Comment:\n",
    "- **For all vehicle types the following applies**:\n",
    "    - **The number of accidents with slight severity was higher than the number of accidents with serious severity**. \n",
    "    - **The number of accidents with serious severity was higher than the number of accidents with fatal severity**.\n",
    "<br>"
   ]
  },
  {
   "cell_type": "markdown",
   "metadata": {},
   "source": [
    "### 7 - What was percentage of accidents by accident severity?"
   ]
  },
  {
   "cell_type": "code",
   "execution_count": 18,
   "metadata": {},
   "outputs": [
    {
     "name": "stdout",
     "output_type": "stream",
     "text": [
      " * mysql+mysqldb://root@localhost:3306/accidents\n",
      "3 rows affected.\n"
     ]
    },
    {
     "data": {
      "text/html": [
       "<table>\n",
       "    <tr>\n",
       "        <th>accident_severity</th>\n",
       "        <th>percentage of accidents by level of severity</th>\n",
       "    </tr>\n",
       "    <tr>\n",
       "        <td>1</td>\n",
       "        <td>1.5264</td>\n",
       "    </tr>\n",
       "    <tr>\n",
       "        <td>2</td>\n",
       "        <td>20.1508</td>\n",
       "    </tr>\n",
       "    <tr>\n",
       "        <td>3</td>\n",
       "        <td>78.3229</td>\n",
       "    </tr>\n",
       "</table>"
      ],
      "text/plain": [
       "[(1, Decimal('1.5264')), (2, Decimal('20.1508')), (3, Decimal('78.3229'))]"
      ]
     },
     "execution_count": 18,
     "metadata": {},
     "output_type": "execute_result"
    }
   ],
   "source": [
    "%sql SELECT accident_severity, \\\n",
    "100*COUNT(accident_severity)/(Select COUNT(accident_severity) FROM accidents2) AS 'percentage of accidents by level of severity'\\\n",
    "FROM accidents2 \\\n",
    "GROUP BY accident_severity\n"
   ]
  },
  {
   "cell_type": "markdown",
   "metadata": {},
   "source": [
    "### 8 - At what hour most accidents happened by day of the week? Output the days of the week, the hour and the number of accidents."
   ]
  },
  {
   "cell_type": "code",
   "execution_count": 19,
   "metadata": {},
   "outputs": [
    {
     "name": "stdout",
     "output_type": "stream",
     "text": [
      " * mysql+mysqldb://root@localhost:3306/accidents\n",
      "7 rows affected.\n"
     ]
    },
    {
     "data": {
      "text/html": [
       "<table>\n",
       "    <tr>\n",
       "        <th>day_of_week</th>\n",
       "        <th>hour</th>\n",
       "        <th>number_accidents</th>\n",
       "    </tr>\n",
       "    <tr>\n",
       "        <td>1</td>\n",
       "        <td>14</td>\n",
       "        <td>861</td>\n",
       "    </tr>\n",
       "    <tr>\n",
       "        <td>2</td>\n",
       "        <td>17</td>\n",
       "        <td>1209</td>\n",
       "    </tr>\n",
       "    <tr>\n",
       "        <td>3</td>\n",
       "        <td>17</td>\n",
       "        <td>1210</td>\n",
       "    </tr>\n",
       "    <tr>\n",
       "        <td>4</td>\n",
       "        <td>17</td>\n",
       "        <td>1193</td>\n",
       "    </tr>\n",
       "    <tr>\n",
       "        <td>5</td>\n",
       "        <td>17</td>\n",
       "        <td>1286</td>\n",
       "    </tr>\n",
       "    <tr>\n",
       "        <td>6</td>\n",
       "        <td>17</td>\n",
       "        <td>1268</td>\n",
       "    </tr>\n",
       "    <tr>\n",
       "        <td>7</td>\n",
       "        <td>14</td>\n",
       "        <td>907</td>\n",
       "    </tr>\n",
       "</table>"
      ],
      "text/plain": [
       "[(1, 14, 861),\n",
       " (2, 17, 1209),\n",
       " (3, 17, 1210),\n",
       " (4, 17, 1193),\n",
       " (5, 17, 1286),\n",
       " (6, 17, 1268),\n",
       " (7, 14, 907)]"
      ]
     },
     "execution_count": 19,
     "metadata": {},
     "output_type": "execute_result"
    }
   ],
   "source": [
    "%sql SELECT day_of_week, \\\n",
    "            hour, \\\n",
    "            number_accidents \\\n",
    "FROM (SELECT day_of_week, \\\n",
    "      HOUR(time) AS hour, \\\n",
    "      COUNT(HOUR(time)) AS number_accidents, \\\n",
    "      RANK() OVER (PARTITION BY day_of_week ORDER BY COUNT(HOUR(time)) DESC) AS rnk \\\n",
    "    FROM accidents2 \\\n",
    "    GROUP BY day_of_week, hour \\\n",
    "    ORDER BY day_of_week) t \\\n",
    "WHERE rnk = 1\n"
   ]
  },
  {
   "cell_type": "markdown",
   "metadata": {},
   "source": [
    "### 9 - Find the days of the week with more casualties than the average across all days of the week"
   ]
  },
  {
   "cell_type": "code",
   "execution_count": 20,
   "metadata": {},
   "outputs": [
    {
     "name": "stdout",
     "output_type": "stream",
     "text": [
      " * mysql+mysqldb://root@localhost:3306/accidents\n",
      "4 rows affected.\n"
     ]
    },
    {
     "data": {
      "text/html": [
       "<table>\n",
       "    <tr>\n",
       "        <th>day_of_week</th>\n",
       "        <th>total_casualties_by_day</th>\n",
       "        <th>average_casualties</th>\n",
       "    </tr>\n",
       "    <tr>\n",
       "        <td>3</td>\n",
       "        <td>16467</td>\n",
       "        <td>16457</td>\n",
       "    </tr>\n",
       "    <tr>\n",
       "        <td>4</td>\n",
       "        <td>16870</td>\n",
       "        <td>16457</td>\n",
       "    </tr>\n",
       "    <tr>\n",
       "        <td>5</td>\n",
       "        <td>17446</td>\n",
       "        <td>16457</td>\n",
       "    </tr>\n",
       "    <tr>\n",
       "        <td>6</td>\n",
       "        <td>18757</td>\n",
       "        <td>16457</td>\n",
       "    </tr>\n",
       "</table>"
      ],
      "text/plain": [
       "[(3, Decimal('16467'), 16457),\n",
       " (4, Decimal('16870'), 16457),\n",
       " (5, Decimal('17446'), 16457),\n",
       " (6, Decimal('18757'), 16457)]"
      ]
     },
     "execution_count": 20,
     "metadata": {},
     "output_type": "execute_result"
    }
   ],
   "source": [
    "%sql WITH casualties_by_day AS (SELECT day_of_week, \\\n",
    "            SUM(number_of_casualties) AS total_casualties_by_day \\\n",
    "            FROM accidents2 \\\n",
    "            GROUP BY day_of_week), \\\n",
    "    average AS (SELECT cast(AVG(total_casualties_by_day) AS int) AS average_casualties \\\n",
    "                FROM casualties_by_day) \\\n",
    "SELECT * \\\n",
    "FROM casualties_by_day ca \\\n",
    "JOIN average av \\\n",
    "ON ca.total_casualties_by_day > av.average_casualties\n"
   ]
  },
  {
   "cell_type": "markdown",
   "metadata": {},
   "source": [
    "### 10 - Calculate the quarter-over-quarter percentage change in casualties, rounded to the 2nd decimal point"
   ]
  },
  {
   "cell_type": "code",
   "execution_count": 21,
   "metadata": {},
   "outputs": [
    {
     "name": "stdout",
     "output_type": "stream",
     "text": [
      " * mysql+mysqldb://root@localhost:3306/accidents\n",
      "4 rows affected.\n"
     ]
    },
    {
     "data": {
      "text/html": [
       "<table>\n",
       "    <tr>\n",
       "        <th>quarter</th>\n",
       "        <th>casualties_perc_diff</th>\n",
       "    </tr>\n",
       "    <tr>\n",
       "        <td>1</td>\n",
       "        <td>None</td>\n",
       "    </tr>\n",
       "    <tr>\n",
       "        <td>2</td>\n",
       "        <td>-38.87</td>\n",
       "    </tr>\n",
       "    <tr>\n",
       "        <td>3</td>\n",
       "        <td>73.24</td>\n",
       "    </tr>\n",
       "    <tr>\n",
       "        <td>4</td>\n",
       "        <td>-8.20</td>\n",
       "    </tr>\n",
       "</table>"
      ],
      "text/plain": [
       "[(1, None),\n",
       " (2, Decimal('-38.87')),\n",
       " (3, Decimal('73.24')),\n",
       " (4, Decimal('-8.20'))]"
      ]
     },
     "execution_count": 21,
     "metadata": {},
     "output_type": "execute_result"
    }
   ],
   "source": [
    "%sql SELECT QUARTER(new_date) AS quarter,  \\\n",
    "ROUND((SUM(number_of_casualties) - LAG(SUM(number_of_casualties)) OVER (ORDER BY new_date))\\\n",
    "    / LAG(SUM(number_of_casualties)) OVER (ORDER BY new_date ) * 100, 2) AS casualties_perc_diff \\\n",
    "FROM accidents2 \\\n",
    "GROUP BY quarter \n",
    "\n",
    "\n",
    " \n",
    " "
   ]
  },
  {
   "cell_type": "markdown",
   "metadata": {},
   "source": [
    "###  11 - Identify the three days with most casualties by quarter. Output the quarter, the day and the number of casualties"
   ]
  },
  {
   "cell_type": "code",
   "execution_count": 22,
   "metadata": {},
   "outputs": [
    {
     "name": "stdout",
     "output_type": "stream",
     "text": [
      " * mysql+mysqldb://root@localhost:3306/accidents\n",
      "12 rows affected.\n"
     ]
    },
    {
     "data": {
      "text/html": [
       "<table>\n",
       "    <tr>\n",
       "        <th>quarter</th>\n",
       "        <th>day</th>\n",
       "        <th>n_casualties</th>\n",
       "    </tr>\n",
       "    <tr>\n",
       "        <td>1</td>\n",
       "        <td>2020-01-10</td>\n",
       "        <td>511</td>\n",
       "    </tr>\n",
       "    <tr>\n",
       "        <td>1</td>\n",
       "        <td>2020-02-06</td>\n",
       "        <td>563</td>\n",
       "    </tr>\n",
       "    <tr>\n",
       "        <td>1</td>\n",
       "        <td>2020-03-06</td>\n",
       "        <td>518</td>\n",
       "    </tr>\n",
       "    <tr>\n",
       "        <td>2</td>\n",
       "        <td>2020-06-24</td>\n",
       "        <td>377</td>\n",
       "    </tr>\n",
       "    <tr>\n",
       "        <td>2</td>\n",
       "        <td>2020-06-25</td>\n",
       "        <td>447</td>\n",
       "    </tr>\n",
       "    <tr>\n",
       "        <td>2</td>\n",
       "        <td>2020-06-26</td>\n",
       "        <td>366</td>\n",
       "    </tr>\n",
       "    <tr>\n",
       "        <td>3</td>\n",
       "        <td>2020-07-31</td>\n",
       "        <td>488</td>\n",
       "    </tr>\n",
       "    <tr>\n",
       "        <td>3</td>\n",
       "        <td>2020-08-28</td>\n",
       "        <td>471</td>\n",
       "    </tr>\n",
       "    <tr>\n",
       "        <td>3</td>\n",
       "        <td>2020-09-18</td>\n",
       "        <td>496</td>\n",
       "    </tr>\n",
       "    <tr>\n",
       "        <td>4</td>\n",
       "        <td>2020-11-04</td>\n",
       "        <td>507</td>\n",
       "    </tr>\n",
       "    <tr>\n",
       "        <td>4</td>\n",
       "        <td>2020-12-04</td>\n",
       "        <td>478</td>\n",
       "    </tr>\n",
       "    <tr>\n",
       "        <td>4</td>\n",
       "        <td>2020-12-11</td>\n",
       "        <td>472</td>\n",
       "    </tr>\n",
       "</table>"
      ],
      "text/plain": [
       "[(1, datetime.date(2020, 1, 10), Decimal('511')),\n",
       " (1, datetime.date(2020, 2, 6), Decimal('563')),\n",
       " (1, datetime.date(2020, 3, 6), Decimal('518')),\n",
       " (2, datetime.date(2020, 6, 24), Decimal('377')),\n",
       " (2, datetime.date(2020, 6, 25), Decimal('447')),\n",
       " (2, datetime.date(2020, 6, 26), Decimal('366')),\n",
       " (3, datetime.date(2020, 7, 31), Decimal('488')),\n",
       " (3, datetime.date(2020, 8, 28), Decimal('471')),\n",
       " (3, datetime.date(2020, 9, 18), Decimal('496')),\n",
       " (4, datetime.date(2020, 11, 4), Decimal('507')),\n",
       " (4, datetime.date(2020, 12, 4), Decimal('478')),\n",
       " (4, datetime.date(2020, 12, 11), Decimal('472'))]"
      ]
     },
     "execution_count": 22,
     "metadata": {},
     "output_type": "execute_result"
    }
   ],
   "source": [
    "%sql SELECT quarter, day, n_casualties FROM (SELECT QUARTER(new_date) AS quarter, \\\n",
    "DATE(new_date) AS day, \\\n",
    "SUM(number_of_casualties) AS n_casualties, RANK() OVER(PARTITION BY QUARTER(new_date) \\\n",
    "ORDER BY SUM(number_of_casualties) DESC) AS rnk \\\n",
    "FROM accidents2 \\\n",
    "GROUP BY quarter, day) t \\\n",
    "WHERE rnk<=3"
   ]
  }
 ],
 "metadata": {
  "kernelspec": {
   "display_name": "Python 3",
   "language": "python",
   "name": "python3"
  },
  "language_info": {
   "codemirror_mode": {
    "name": "ipython",
    "version": 3
   },
   "file_extension": ".py",
   "mimetype": "text/x-python",
   "name": "python",
   "nbconvert_exporter": "python",
   "pygments_lexer": "ipython3",
   "version": "3.7.7"
  }
 },
 "nbformat": 4,
 "nbformat_minor": 4
}
